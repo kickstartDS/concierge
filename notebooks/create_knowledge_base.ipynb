{
 "cells": [
  {
   "cell_type": "markdown",
   "id": "cb24deaa",
   "metadata": {},
   "source": [
    "# Create Knowledge Base\n",
    "\n",
    "## Notes\n",
    "\n",
    "- Check for missing dependencies (especially ones only added in the ingestion phase currently)\n",
    "- Check for multi-core processing for SBert models, seems to only use one core right now\n",
    "\n",
    "## TODO\n",
    "\n",
    "- Check results from DB without reranker vs no-reranker\n",
    "- Check token sizes / limits for Sentence Transformer / Bi-Encoder (also check used models again, mentioned parameters depend on those)\n",
    "- Check why `title` is incorrect in last crawls\n",
    "- Overall: check quality of crawled content per domain before ingesting"
   ]
  },
  {
   "cell_type": "markdown",
   "id": "957c8e26",
   "metadata": {},
   "source": [
    "## Set the domain to ingest\n",
    "\n",
    "Set the domain you want to have scanned, this will include all subpages on that domain (and that domain only). Excludes links with parameters (`?`) and anchors (`#`).\n",
    "\n",
    "Also set a name that will be used to create files to persist ingested content."
   ]
  },
  {
   "cell_type": "code",
   "execution_count": 33,
   "id": "e1f7df4e",
   "metadata": {},
   "outputs": [],
   "source": [
    "name = 'kickstartds_com'\n",
    "url = 'https://www.kickstartDS.com/'"
   ]
  },
  {
   "cell_type": "markdown",
   "id": "7abf54cf",
   "metadata": {},
   "source": [
    "## Some more dependencies\n",
    "\n",
    "Install `jsonlines`, if not already available."
   ]
  },
  {
   "cell_type": "code",
   "execution_count": null,
   "id": "199498e2",
   "metadata": {},
   "outputs": [],
   "source": [
    "%pip install jsonlines"
   ]
  },
  {
   "cell_type": "markdown",
   "id": "7d42004c",
   "metadata": {},
   "source": [
    "## Create knowledge base\n",
    "\n",
    "Create a knowledge base using SBert and Sentence Transformers, based on the sections of ingested pages.\n",
    "\n",
    "This is can all still be done completely \"offline\", and without any third party APIs."
   ]
  },
  {
   "cell_type": "code",
   "execution_count": 34,
   "id": "f6ac788e",
   "metadata": {},
   "outputs": [
    {
     "name": "stdout",
     "output_type": "stream",
     "text": [
      "Creating SBert knowledge base.\n",
      "Passages: 3745\n",
      "Corpus embeddings created.\n",
      "Corpus embedding size: torch.Size([3745, 768])\n"
     ]
    }
   ],
   "source": [
    "import torch\n",
    "import jsonlines\n",
    "from sentence_transformers import SentenceTransformer\n",
    "\n",
    "if not torch.cuda.is_available():\n",
    "    print(\"Warning: No GPU found. Please add GPU to your notebook.\")\n",
    "    \n",
    "print('Creating SBert knowledge base.')    \n",
    "\n",
    "bi_encoder = SentenceTransformer('msmarco-distilbert-cos-v5')\n",
    "bi_encoder.max_seq_length = 256\n",
    "\n",
    "def getSectionContent(section):\n",
    "    return section['content'].replace('\\n', ' ').strip()\n",
    "\n",
    "sections = []\n",
    "with jsonlines.open('pages-' + name + '_extracted_sections.jsonl', 'r') as pages:\n",
    "    for page in pages:\n",
    "        for page_section in page['sections']:\n",
    "            section = dict()\n",
    "            section['page'] = dict()\n",
    "            section['page']['url'] = page['url']\n",
    "            section['page']['title'] = page['title']\n",
    "            section['page']['summary'] = page['summaries']['sbert']\n",
    "            section['content'] = page_section['content']['raw']\n",
    "            section['tokens'] = page_section['tokens']\n",
    "            sections.append(section)\n",
    "\n",
    "passages = []\n",
    "passages.extend(map(getSectionContent, sections))\n",
    "\n",
    "print('Passages:', len(passages))\n",
    "\n",
    "corpus_embeddings = bi_encoder.encode(passages, convert_to_tensor=True)\n",
    "\n",
    "print('Corpus embeddings created.')\n",
    "print('Corpus embedding size:', corpus_embeddings.shape)"
   ]
  },
  {
   "cell_type": "markdown",
   "id": "0966c939",
   "metadata": {},
   "source": [
    "## Define (offline) search function\n",
    "\n",
    "This function will search through our corpus, and retrieve the most relevant sections in relation to the user query given as a parameter."
   ]
  },
  {
   "cell_type": "code",
   "execution_count": 11,
   "id": "5794facb",
   "metadata": {},
   "outputs": [],
   "source": [
    "from sentence_transformers import CrossEncoder, util\n",
    "\n",
    "top_k = 32\n",
    "cross_encoder = CrossEncoder('cross-encoder/ms-marco-MiniLM-L-6-v2')\n",
    "\n",
    "def search(query):\n",
    "    print(\"Input question:\", query)\n",
    "\n",
    "    question_embedding = bi_encoder.encode(query, convert_to_tensor=True)\n",
    "    # Change back to .cuda() when GPU is available on Codespace\n",
    "    question_embedding = question_embedding.cpu()\n",
    "    hits = util.semantic_search(question_embedding, corpus_embeddings, top_k=top_k)\n",
    "    hits = hits[0]\n",
    "\n",
    "    cross_inp = [[query, passages[hit['corpus_id']]] for hit in hits]\n",
    "    cross_scores = cross_encoder.predict(cross_inp)\n",
    "\n",
    "    for idx in range(len(cross_scores)):\n",
    "        hits[idx]['cross-score'] = cross_scores[idx]\n",
    "\n",
    "    print(\"\\n-------------------------\\n\")\n",
    "    print(\"Top-5 Cross-Encoder Re-ranker hits\")\n",
    "    hits = sorted(hits, key=lambda x: x['cross-score'], reverse=True)\n",
    "    for hit in hits[0:5]:\n",
    "        print(\"\\t{:.3f}\\t{}\".format(hit['cross-score'], passages[hit['corpus_id']].replace(\"\\n\", \" \")))"
   ]
  },
  {
   "cell_type": "markdown",
   "id": "33b55c40",
   "metadata": {},
   "source": [
    "## Run queries against (offline) knowledge base\n",
    "\n",
    "Using the \"search\" function defined before we can start querying our knowledge base."
   ]
  },
  {
   "cell_type": "code",
   "execution_count": 12,
   "id": "d4f5a74b",
   "metadata": {},
   "outputs": [
    {
     "name": "stdout",
     "output_type": "stream",
     "text": [
      "Input question: What is a Design System?\n",
      "\n",
      "-------------------------\n",
      "\n",
      "Top-5 Cross-Encoder Re-ranker hits\n",
      "\t8.710\thttps://www.kickstartDS.com/docs/guides/design-system-initiative: A Design System Initiative is the process an organization undertakes when considering to initialize a Design System. This generally occurs in a couple of steps where usually different kinds of workshops are run. It starts way before the pure design and development process itself by impacting many disciplines and stakeholders within the organization.\n",
      "\t8.474\thttps://www.kickstartDS.com/blog/everything-meta-and-everything-matters/: A design system meta framework is a set of guidelines, principles and best practices that are used to create, maintain, and evolve a Design System. A Design System is a collection of standardized design elements, such as colors, typography, iconography, and components, that are used to create a consistent, high-quality user experience across multiple products and platforms. In this sense, kickstartDS is a meta layer providing the framework for creating these design elements, using industry best practices. The underlying concepts are based on state-of-the-art industry standards. We have taken design decisions to make it easier for you to get your Design System started quickly and without investing much energy and budget.\n",
      "\t8.336\thttps://www.kickstartDS.com/blog/kickstartds-is-open-source-now-lets-start-to-democratize-design-systems-today/: A Design System is there to generate value, to support the organization to better reach its objectives. Naturally there will be product or feature teams using it. About that, a 6th Step could and maybe even should be added to the setup process of the Design System.\n",
      "\t8.231\thttps://www.kickstartDS.com/blog/how-our-initiative-workshop-series-helps-customers-to-decide-for-or-against-a-design-system/: To provide some shared framing, what we refer to when speaking about design systems is a library of coded components which itself is usually part of a broader platform of shared principles, processes, tools and assets, typically the brand portal of a company. The design system serves as the single point of truth and empowers digital teams to create seamless, brand-consistent and unified experiences. Here is NN/g: Nielsen Norman Group’s description: Design Systems – also known as “pattern libraries” or “component libraries” – promote quality, consistent UX design across products; and expedite the work of designers, developers, and anyone else working on a digital service. It’s important to realize that every design system should be the result of different stakeholders within an organization, often sharing the same objectives, but each with their very own perspective. The main user group is normally a multi-disciplinary team of designers, front-end developers and UX. They are the ones primarily caring for, maintaining and sharing the design system. But without the collaboration and contribution of mostly all parties involved in digital product and service creation, such a system will fail tremendously fast. We believe that every organization even running only a few digital experiences will already benefit from a design system. So, when should you …\n",
      "\t7.790\thttps://www.kickstartDS.com/docs/guides/design-system-initiative: The Design System is made to support solving a real problems. It will neither solely succeed due to its comprehensiveness, nor its technical depth in implementation. The goal of this step is to identify a use case where to apply the Design System in a real environment without touching business-critical systems. This will foster engagement with the Design System at an early stage and it might help to also identify potential future advocates. If you want to read more in-depth what our workshop series includes feel free to visit this blog post.\n"
     ]
    }
   ],
   "source": [
    "search(\"What is a Design System?\")"
   ]
  },
  {
   "cell_type": "markdown",
   "id": "84646d30",
   "metadata": {},
   "source": [
    "# Database"
   ]
  },
  {
   "cell_type": "markdown",
   "id": "20122d8e",
   "metadata": {},
   "source": [
    "## Install DB dependencies\n",
    "\n",
    "We'll need `psycopg` for the connection, and `pgvector` to register the vector type for our embeddings to the PostgreSQL connection.\n",
    "\n",
    "We also use `python-dotenv` to load our environment, namely the `DB_PASS` for the database connection. Ensure settings this variable in your environment, or add a `.env` file next to the notebook where the variable is defined to avoid putting it into your host context."
   ]
  },
  {
   "cell_type": "code",
   "execution_count": null,
   "id": "4c879c4c",
   "metadata": {},
   "outputs": [],
   "source": [
    "%pip install psycopg pgvector python-dotenv"
   ]
  },
  {
   "cell_type": "markdown",
   "id": "79e0fa6b",
   "metadata": {},
   "source": [
    "## Connect to DB\n",
    "\n",
    "Establish a connection with the database."
   ]
  },
  {
   "cell_type": "code",
   "execution_count": 13,
   "id": "84ebf0e8",
   "metadata": {},
   "outputs": [],
   "source": [
    "from dotenv import load_dotenv\n",
    "from pgvector.psycopg import register_vector\n",
    "import psycopg\n",
    "import os\n",
    "\n",
    "load_dotenv()\n",
    "\n",
    "conn_string = \"dbname=postgres user=postgres password=\" + os.getenv('DB_PASS') + \" host=db.pzdzoelitkqizxopmwfg.supabase.co port=5432\"\n",
    "conn = psycopg.connect(conn_string, row_factory=psycopg.rows.dict_row)\n",
    "conn.autocommit = True\n",
    "conn.execute('CREATE EXTENSION IF NOT EXISTS vector')\n",
    "register_vector(conn)"
   ]
  },
  {
   "cell_type": "markdown",
   "id": "c9b666c1",
   "metadata": {},
   "source": [
    "## Create database tables\n",
    "\n",
    "Create a table to hold all received questions and their respective response data."
   ]
  },
  {
   "cell_type": "code",
   "execution_count": 26,
   "id": "8927aed7",
   "metadata": {},
   "outputs": [],
   "source": [
    "def createDbTables():\n",
    "    conn.execute('DROP TABLE IF EXISTS question_answer_sections')\n",
    "\n",
    "    conn.execute('DROP TABLE IF EXISTS sections')\n",
    "    conn.execute('CREATE TABLE sections (id bigserial PRIMARY KEY, created_at timestamptz, updated_at timestamptz, page_url text, page_title text, page_summary text, tokens integer, content text, embedding vector(768))')\n",
    "    conn.execute('CREATE INDEX ON sections USING ivfflat (embedding vector_cosine_ops)')\n",
    "\n",
    "    conn.execute('DROP TABLE IF EXISTS questions')\n",
    "    conn.execute('CREATE TABLE questions (id bigserial PRIMARY KEY, created_at timestamptz, updated_at timestamptz, question text, prompt text, prompt_length integer, answer text, embedding vector(768))')\n",
    "    conn.execute('CREATE INDEX ON questions USING ivfflat (embedding vector_cosine_ops)')\n",
    "\n",
    "    conn.execute('CREATE TABLE question_answer_sections (question_id bigserial REFERENCES questions, section_id bigserial REFERENCES sections, similarity real, PRIMARY KEY (question_id, section_id))')\n",
    "\n",
    "createDbTables()"
   ]
  },
  {
   "cell_type": "markdown",
   "id": "4b9fb5ea",
   "metadata": {},
   "source": [
    "## Write embeddings to DB\n",
    "\n",
    "Write all page embeddings into PostgreSQL / pgvector / Supabase."
   ]
  },
  {
   "cell_type": "code",
   "execution_count": 35,
   "id": "83d5ea5d",
   "metadata": {},
   "outputs": [
    {
     "data": {
      "text/plain": [
       "<psycopg.Cursor [COMMAND_OK] [IDLE] (host=db.pzdzoelitkqizxopmwfg.supabase.co database=postgres) at 0x7f13a1733cc0>"
      ]
     },
     "execution_count": 35,
     "metadata": {},
     "output_type": "execute_result"
    }
   ],
   "source": [
    "from datetime import datetime\n",
    "\n",
    "timestamp = datetime.now()\n",
    "\n",
    "# Change back to .cuda() when GPU is available on Codespace\n",
    "section_embeddings = corpus_embeddings.cpu()\n",
    "\n",
    "for index, page_embedding in enumerate(section_embeddings.detach().numpy()):\n",
    "    conn.execute(\"\"\"\n",
    "        INSERT INTO sections (created_at, updated_at, page_url, page_title, page_summary, tokens, content, embedding)\n",
    "        VALUES (%(created_at)s, %(updated_at)s, %(page_url)s, %(page_title)s, %(page_summary)s, %(tokens)s, %(content)s, %(embedding)s);\n",
    "    \"\"\", ({\n",
    "        'created_at': timestamp,\n",
    "        'updated_at': timestamp,\n",
    "        'page_url': sections[index]['page']['url'],\n",
    "        'page_title': sections[index]['page']['title'],\n",
    "        'page_summary': sections[index]['page']['summary'],\n",
    "        'content': sections[index]['content'],\n",
    "        'tokens': sections[index]['tokens'],\n",
    "        'embedding': page_embedding\n",
    "    }))\n",
    "\n",
    "conn.execute('REINDEX TABLE sections')"
   ]
  },
  {
   "cell_type": "markdown",
   "id": "30a8c7d8",
   "metadata": {},
   "source": [
    "## Define (online) search function\n",
    "\n",
    "This function can be used to run a search against the PostgreSQL vector table."
   ]
  },
  {
   "cell_type": "code",
   "execution_count": 14,
   "id": "62e5543a",
   "metadata": {},
   "outputs": [],
   "source": [
    "from sentence_transformers import CrossEncoder, SentenceTransformer\n",
    "\n",
    "bi_encoder = SentenceTransformer('msmarco-distilbert-cos-v5')\n",
    "bi_encoder.max_seq_length = 256\n",
    "\n",
    "top_k = 32\n",
    "cross_encoder = CrossEncoder('cross-encoder/ms-marco-MiniLM-L-6-v2')\n",
    "\n",
    "def search(query):\n",
    "    print(\"Input question:\", query)\n",
    "\n",
    "    question_embedding = bi_encoder.encode(query, convert_to_tensor=True)\n",
    "    # Change back to .cuda() when GPU is available on Codespace\n",
    "    question_embedding = question_embedding.cpu()\n",
    "\n",
    "    hits = conn.execute('SELECT * FROM sections ORDER BY embedding <-> %s LIMIT ' + str(top_k), (question_embedding.detach().numpy(),)).fetchall()\n",
    "\n",
    "    cross_inp = [[query, hit['content']] for hit in hits]\n",
    "    cross_scores = cross_encoder.predict(cross_inp)\n",
    "\n",
    "    for idx in range(len(cross_scores)):\n",
    "        hits[idx]['cross-score'] = cross_scores[idx]\n",
    "\n",
    "    print(\"\\n-------------------------\\n\")\n",
    "    print(\"Top-5 Cross-Encoder Re-ranker hits from PostgreSQL\")\n",
    "    hits = sorted(hits, key=lambda x: x['cross-score'], reverse=True)\n",
    "    for hit in hits[0:5]:\n",
    "        print(\"\\t{:.3f}\\t{}\\t{}\".format(hit['cross-score'], hit['heading'], hit['content']))\n"
   ]
  },
  {
   "cell_type": "code",
   "execution_count": 15,
   "id": "be18f7ea",
   "metadata": {},
   "outputs": [
    {
     "name": "stdout",
     "output_type": "stream",
     "text": [
      "Input question: What are the 5 main benefits of using Design Token in your Design System?\n",
      "\n",
      "-------------------------\n",
      "\n",
      "Top-5 Cross-Encoder Re-ranker hits from PostgreSQL\n",
      "\t4.090\tFeatures\tThis starter is already quite rich in features that are enabled out-of-the-box for you.. To give you some orientation, while also describing the intention behind features, and ensuring you can actually make the most out of your Design System.. Design Token integration One important part of a Design System is having a well structured and semantic token system in place.. Learn about customizing your Design Token set in our dedicated section above, helping you to adapt your own branding / CI / CD.. Design Token can be initialized by changing the values in src/token/branding-token.json and calling yarn init-tokens, and compiled to CSS Custom Properties by running yarn build-tokens.. While yarn init-tokens generates your Design Token set in src/token/dictionary, yarn build-tokens reads it from there, and outputs the resulting formats (which CSS Custom Properties is just one of) according to your Style Dictionary config.. We already include a minimal Style Dictionary configuration as part of our CLI, but you can overwrite this configuration by adding a sd.config.cjs to your repository root.. Explore that file for details on the formats configured in this starter (the path the format output is written to can be influenced by setting buildPath): |Platform||Description| css |Creates a |Design Token converted to CSS Custom Properties, using the naming structure expected by Component Token in html HTML icon sprite (learn more), that is needed when integrating raw HTML (e.g.. into PHP, ASP.NET, or similar).. Also serves as the central icon file read by the storybook-design-token addon.. Added as jsx React version of the same file as the one above, this should be used when working with React directly.. Called storybook |Writes a selection of files (|storybook-design-token addon js |This also creates a file (|Storybook, to add some light theming to your instance based on your Design Token set.. Also included is a set of Storybook pages documenting your Design Token set, using aforementioned storybook-design-token addon.. You can find them in docs/tokens, feel free to adjust them to your liking!. You can also have a look at our Figma token file visualizing exactly that token structure: To learn more about Design Token and their support in kickstartDS read our first release spotlight: Release Spotlight: Semantic Token.. Storybook integration Some aspects of our integration with Storybook were already covered by the last section about Design Token integration..\n",
      "\t4.018\tConnect to Design Tooling\t... to help bridge the dev-design divide How Design Tokens enable better processes: Tokens are the perfect starting ground when establishing shared processes and responsibilities between designers and developers, as they encode the most atomic design decisions of your Design System. Connecting design tools like Figma through Style Dictionary, or using complementary services to manage your Design System like Backlight, helps set up a baseline for your team, without requiring you to do everything by yourself! Style Dictionary Style Dictionary is a tool developed by Amazon to help with establishing a dependable structure for your Design Tokens. This includes defining them in a well-defined way (JSON) and then converting them to different target formats: CSS Properties, iOS definitions or themes. All our tokens are defined in a Style Dictionary. Figma Figma is currently taking the design space by storm. We offer a Figma template with all our semantic Design Tokens encoded in a visual way. You can even change values in Figma, and use one of our connectors to integrate them back into your code base automatically... for example as part of your CI/CD Backlight Backlight can function as your teams whole-in-one platform for Design System management / DesignOps. kickstartDS is wholly compatible with Backlight, and its features like the Style Dictionary integration, bundling and packaging, etc. You can even use our starter to cut even more corners in getting your first Design System release live!.\n",
      "\t3.308\tBranding, Design & Component Token\tToken are the smallest building blocks of a Design System. Based on the values they store, they are usually used across multiple tools and platforms to ensure consistency and matching brand identity. kickstartDS differentiates between Branding, Design and Component Token. Whereas Design Token store values e.g. color, typography, spacing, animation, etc., Branding Token come in handy offering a structured approach towards applying your company’s brand identity or corporate design at one single spot with maximum efficiency. Component Token represent the properties and values that are contained in a component, e.g. controlling how its container, label text, icons, and states look. Since we are publicly open source now, the great thing is, that you can check out that structure on your own in our repo.\n",
      "\t3.288\tWhat are Token?\tToken are the smallest building blocks of a design system. Based on the values they store, they are usually used across multiple tools and platforms to ensure consistence and matching brand identity. Because Token are described abstraction, the defined values can change without disturbing the designer or developer experience. The single source of truth to name and store a design decision, distributed so teams can use it across design tools and coding languages. -W3C Design Token Community Group\n",
      "\t3.215\tDesign Token\tDesign Token are the smallest building blocks, the core pieces of a design system. Design Token in kickstartDS are stored in a JSON format and can be transformed to be used on any platform.\n"
     ]
    }
   ],
   "source": [
    "search('What are the 5 main benefits of using Design Token in your Design System?')"
   ]
  },
  {
   "cell_type": "markdown",
   "id": "9f17f196",
   "metadata": {},
   "source": [
    "## Call edge function with cURL locally\n",
    "\n",
    "This calls the edge function using cURL. Edge function is served locally by first using `yarn supabase start && yarn supabase functions serve`."
   ]
  },
  {
   "cell_type": "markdown",
   "id": "31a81932",
   "metadata": {},
   "source": [
    "```\n",
    "curl --request POST 'http://localhost:54321/functions/v1/answer' \\\n",
    "  --header 'Authorization: Bearer ADD_YOUR_TOKEN' \\\n",
    "  --header 'Content-Type: application/json' \\\n",
    "  --data '{ \"question\":\"What is the definition of a Design System?\" }'\n",
    "```"
   ]
  },
  {
   "cell_type": "markdown",
   "id": "a92430c6",
   "metadata": {},
   "source": [
    "## Close DB connection\n",
    "\n",
    "After we're done, we'll close down the connection to PostgreSQL again."
   ]
  },
  {
   "cell_type": "code",
   "execution_count": 5,
   "id": "a8655628",
   "metadata": {},
   "outputs": [],
   "source": [
    "conn.close()"
   ]
  }
 ],
 "metadata": {
  "kernelspec": {
   "display_name": "Python 3.10.9 64-bit",
   "language": "python",
   "name": "python3"
  },
  "language_info": {
   "codemirror_mode": {
    "name": "ipython",
    "version": 3
   },
   "file_extension": ".py",
   "mimetype": "text/x-python",
   "name": "python",
   "nbconvert_exporter": "python",
   "pygments_lexer": "ipython3",
   "version": "3.10.9"
  },
  "vscode": {
   "interpreter": {
    "hash": "e7370f93d1d0cde622a1f8e1c04877d8463912d04d973331ad4851f04de6915a"
   }
  }
 },
 "nbformat": 4,
 "nbformat_minor": 5
}
