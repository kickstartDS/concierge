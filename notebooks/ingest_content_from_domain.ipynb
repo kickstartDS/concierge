{
 "cells": [
  {
   "cell_type": "markdown",
   "id": "2b6ad454",
   "metadata": {},
   "source": [
    "# Ingest Content"
   ]
  },
  {
   "cell_type": "markdown",
   "id": "707db4ee",
   "metadata": {},
   "source": [
    "## Notes\n",
    "\n",
    "Collection of notes to help ingest content from a domain. Includes specific instructions to filter output for some domains (like bradfrost.com).\n",
    "\n",
    "### bradfrost.com\n",
    "\n",
    "- Exclude `/blog/link/*` and `/blog/tag/*`\n",
    "\n",
    "### danmall.com\n",
    "\n",
    "- Exclude `/topics/*`\n",
    "\n",
    "### primer.style\n",
    "\n",
    "- Exclude `/octicons/*` and `/design/foundations/icons/*` and `/view-components/lookbook/*`\n",
    "\n",
    "### digitaldesign.vattenfall.com\n",
    "\n",
    "- Exclude `/components/modules/*`.\n",
    "\n",
    "### volkswagen.frontify.com\n",
    "\n",
    "- Exclude `/builder/groupui/*`."
   ]
  },
  {
   "cell_type": "markdown",
   "id": "0fcd0776",
   "metadata": {},
   "source": [
    "## Dependencies\n",
    "\n",
    "Install the following dependencies first:"
   ]
  },
  {
   "cell_type": "code",
   "execution_count": null,
   "id": "d57cb64e",
   "metadata": {},
   "outputs": [],
   "source": [
    "%pip install bs4 jsonlines pytest-playwright"
   ]
  },
  {
   "cell_type": "markdown",
   "id": "5394c9c6",
   "metadata": {},
   "source": [
    "## Install needed browsers\n",
    "\n",
    "In this case we'll just use Chrome... but Webkit and Firefox get installed, too."
   ]
  },
  {
   "cell_type": "code",
   "execution_count": null,
   "id": "547fa0e4",
   "metadata": {},
   "outputs": [],
   "source": [
    "!playwright install"
   ]
  },
  {
   "cell_type": "markdown",
   "id": "957c8e26",
   "metadata": {},
   "source": [
    "## Set the domain to ingest\n",
    "\n",
    "Set the domain you want to have scanned, this will include all subpages on that domain (and that domain only). Excludes links with parameters (`?`) and anchors (`#`).\n",
    "\n",
    "Also set a name that will be used to create files to persist ingested content."
   ]
  },
  {
   "cell_type": "code",
   "execution_count": 1,
   "id": "e1f7df4e",
   "metadata": {},
   "outputs": [],
   "source": [
    "name = 'kickstartDS_com'\n",
    "url = 'https://www.kickstartDS.com/'"
   ]
  },
  {
   "cell_type": "markdown",
   "id": "7023a00d",
   "metadata": {},
   "source": [
    "Think about ways of including a script / snippet per domain to handle edge cases. Some kind of hook?"
   ]
  },
  {
   "cell_type": "markdown",
   "id": "6d075443",
   "metadata": {},
   "source": [
    "## Find all internal URLs\n",
    "\n",
    "First step is to crawl a domain for all internal links leading to HTML content. Do this until everything is discovered. Enter your domain through adjusting the `url` in `__main__`.\n",
    "\n",
    "Write the set of discovered URLs from `all_links` to disk, converting them to `jsonl` format for easier processing in the next steps. We'll build upon that `page` dict in the following steps.\n",
    "\n",
    "Scroll delay (currently 5 * .5s) serves as a kind of \"backoff\" as to not become blocked for DDoS / obvious scraping for the moment.\n",
    "\n",
    "TODO:\n",
    "- Still some duplicate URLs (/ vs non-/)\n",
    "- Not finding some URLs when behind tabbed content? (e.g. https://atlassian.design/components/button/examples -> Usage tab)\n",
    "- Add exclude list / filter to processed urls (e.g. to exclude stuff like \"blog/tag/*\")\n",
    "- Attempt to handle Cookies / Cookie Consent, try to close cookie banners? (e.g. for screenshots)\n",
    "- Some types of links seem still to fail (e.g. \"https://danmall.com/topics/artificial intelligence\", as logged)\n",
    "- Some links (probably because of weird endless scrolling) seem to always time out, like this one: https://www.designbetter.co/principles-of-product-design/break-black-box\n",
    "- Subdomains seem to have problems (like here: https://design-system.service.gov.uk/ / https://hds.hel.fi/)\n",
    "- Sometimes empy URLs\n",
    "- Timeout on https://primer.style/design/foundations/css-utilities/animations\n",
    "- Retry-Logic and incremental crawling"
   ]
  },
  {
   "cell_type": "code",
   "execution_count": 2,
   "id": "0aee3df6",
   "metadata": {},
   "outputs": [
    {
     "name": "stdout",
     "output_type": "stream",
     "text": [
      "https://www.kickstartDS.com/\n",
      "https://www.kickstartDS.com/about/\n",
      "https://www.kickstartDS.com/legal/\n",
      "https://www.kickstartDS.com/blog/great-components/\n",
      "https://www.kickstartDS.com/services/\n",
      "https://www.kickstartDS.com/cookies/\n",
      "https://www.kickstartDS.com/integrations/\n",
      "https://www.kickstartDS.com/storybook/\n",
      "https://www.kickstartDS.com/storybook\n",
      "https://www.kickstartDS.com/blog/\n",
      "https://www.kickstartDS.com/docs/\n",
      "https://www.kickstartDS.com/privacy/\n",
      "https://www.kickstartDS.com/blog/release-spotlight-documentation-starter/\n",
      "https://www.kickstartDS.com/blog/unlocking-the-frontend-pt1/\n",
      "https://www.kickstartDS.com/blog/release-spotlight-semantic-token/\n",
      "https://www.kickstartDS.com/blog/quarterly-design-system-and-frontend-podcast-roundup-q1-22/\n",
      "https://www.kickstartDS.com/blog/release-spotlight-container-queries/\n",
      "https://www.kickstartDS.com/blog/kickstartds-is-open-source-now-lets-start-to-democratize-design-systems-today/\n",
      "https://www.kickstartDS.com/blog/setting-up-a-working-design-system-in-less-than-a-day/\n",
      "https://www.kickstartDS.com/blog/how-our-initiative-workshop-series-helps-customers-to-decide-for-or-against-a-design-system/\n",
      "https://www.kickstartDS.com/blog/why-we-created-kickstartds/\n",
      "https://www.kickstartDS.com/blog/everything-meta-and-everything-matters/\n",
      "https://www.kickstartDS.com/docs/guides/components/\n",
      "https://www.kickstartDS.com/docs/guides\n",
      "https://www.kickstartDS.com/docs/foundations/token/design-token/\n",
      "https://www.kickstartDS.com/docs/foundations/\n",
      "https://www.kickstartDS.com/docs/guides/use-our-starter\n",
      "https://www.kickstartDS.com/docs/guides/design-system-initiative\n",
      "https://www.kickstartDS.com/docs/integration\n",
      "https://www.kickstartDS.com/docs/intro/next\n",
      "https://www.kickstartDS.com/docs/guides/examples/components/button\n",
      "https://www.kickstartDS.com/docs/guides/components/recipe\n",
      "https://www.kickstartDS.com/docs/intro/packages\n",
      "https://www.kickstartDS.com/docs/foundations/components/component-api\n",
      "https://www.kickstartDS.com/docs/guides/examples/components/headline\n",
      "https://www.kickstartDS.com/docs/intro/\n",
      "https://www.kickstartDS.com/docs/intro\n",
      "https://www.kickstartDS.com/docs/foundations/layout/\n",
      "https://www.kickstartDS.com/docs/foundations/layout/sections\n",
      "https://www.kickstartDS.com/docs/guides/create/start\n",
      "https://www.kickstartDS.com/docs/intro/upgrading\n",
      "https://www.kickstartDS.com/docs/guides/create/storybook\n",
      "https://www.kickstartDS.com/docs/foundations/token/design-token/shadow\n",
      "https://www.kickstartDS.com/docs/foundations/token/design-token/spacing\n",
      "https://www.kickstartDS.com/docs/integration/frameworks/gatsby\n",
      "https://www.kickstartDS.com/docs/foundations/token/design-token/border\n",
      "https://www.kickstartDS.com/docs/foundations\n",
      "https://www.kickstartDS.com/docs/guides/\n",
      "https://www.kickstartDS.com/docs/guides/examples/components/interstitial\n",
      "https://www.kickstartDS.com/docs/feedback/\n",
      "https://www.kickstartDS.com/docs/foundations/token/branding-token\n",
      "https://www.kickstartDS.com/docs/feedback\n",
      "https://www.kickstartDS.com/docs/foundations/token/component-token\n",
      "https://www.kickstartDS.com/docs/integration/storybook/token\n",
      "https://www.kickstartDS.com/docs/guides/examples/recipes/article-teaser\n",
      "https://www.kickstartDS.com/docs/guides/create/\n",
      "https://www.kickstartDS.com/docs/intro/cli\n",
      "https://www.kickstartDS.com/docs/guides/examples/components/\n",
      "https://www.kickstartDS.com/docs/concepts/\n",
      "https://www.kickstartDS.com/docs/foundations/token/\n",
      "https://www.kickstartDS.com/docs/guides/components/adapt\n",
      "https://www.kickstartDS.com/docs/guides/examples/\n",
      "https://www.kickstartDS.com/docs/FAQ\n",
      "https://www.kickstartDS.com/docs/integration/storybook/\n",
      "https://www.kickstartDS.com/docs/foundations/components/styling\n",
      "https://www.kickstartDS.com/docs/foundations/components/\n",
      "https://www.kickstartDS.com/docs/guides/create/components\n",
      "https://www.kickstartDS.com/docs/foundations/components/template\n",
      "https://www.kickstartDS.com/docs/foundations/modules\n",
      "https://www.kickstartDS.com/docs/guides/examples/components/teaser-card\n",
      "https://www.kickstartDS.com/docs/roadmap\n",
      "https://www.kickstartDS.com/docs/guides/create/publish\n",
      "https://www.kickstartDS.com/docs/integration/frameworks/\n",
      "https://www.kickstartDS.com/docs/integration/storybook/controls\n",
      "https://www.kickstartDS.com/docs/foundations/components/anatomy\n",
      "https://www.kickstartDS.com/docs/roadmap/\n",
      "https://www.kickstartDS.com/docs/foundations/token/design-token/typo\n",
      "https://www.kickstartDS.com/docs/concepts\n",
      "https://www.kickstartDS.com/docs/foundations/components/react\n",
      "https://www.kickstartDS.com/docs/foundations/token/design-token/breakpoints\n",
      "https://www.kickstartDS.com/docs/foundations/token/design-token/color\n",
      "https://www.kickstartDS.com/docs/integration/frameworks/nextjs\n",
      "https://www.kickstartDS.com/docs/foundations/token/design-token/depth\n",
      "https://www.kickstartDS.com/docs/integration/react/image-rendering\n",
      "https://www.kickstartDS.com/docs/guides/components/customize\n",
      "https://www.kickstartDS.com/docs/integration/storybook/theming\n",
      "https://www.kickstartDS.com/docs/guides/create/design\n",
      "https://www.kickstartDS.com/docs/guides/components/extend\n",
      "https://www.kickstartDS.com/docs/integration/\n",
      "https://www.kickstartDS.com/docs/integration/storybook/schema\n",
      "https://www.kickstartDS.com/docs/guides/examples/recipes/\n",
      "https://www.kickstartDS.com/docs/guides/migrations/upgrade-2.0.0\n",
      "https://www.kickstartDS.com/docs/guides/components/create\n",
      "https://www.kickstartDS.com/docs/integration/react/rich-text-rendering\n",
      "https://www.kickstartDS.com/docs/integration/react/\n",
      "https://www.kickstartDS.com/docs/intro/environment\n",
      "https://www.kickstartDS.com/docs/guides/migrations\n",
      "https://www.kickstartDS.com/docs/guides/use-our-starter/\n",
      "https://www.kickstartDS.com/docs/guides/examples/components/section\n",
      "https://www.kickstartDS.com/docs/foundations/layout/bedrock\n",
      "https://www.kickstartDS.com/docs/guides/migrations/\n",
      "https://www.kickstartDS.com/docs/foundations/modules/\n",
      "https://www.kickstartDS.com/docs/integration/storybook/stories\n",
      "https://www.kickstartDS.com/docs/intro/environment/\n",
      "https://www.kickstartDS.com/glossary/typescript/\n",
      "https://www.kickstartDS.com/services\n",
      "https://www.kickstartDS.com/docs/foundations/token/design-token\n",
      "https://www.kickstartDS.com/docs/foundations/token/component-token/\n",
      "https://www.kickstartDS.com/docs/foundations/components/template/\n",
      "https://www.kickstartDS.com/docs/foundations/components/component-api/\n",
      "https://www.kickstartDS.com/docs/foundations/components/styling/\n",
      "https://www.kickstartDS.com/docs/foundations/components/anatomy/\n",
      "https://www.kickstartDS.com/docs/foundations/components/react/\n",
      "https://www.kickstartDS.com/glossary/es6/\n",
      "https://www.kickstartDS.com/glossary/javascript/\n",
      "\n",
      "All done! 95 links discovered.\n"
     ]
    }
   ],
   "source": [
    "import asyncio\n",
    "import requests\n",
    "import jsonlines\n",
    "import pathlib\n",
    "import time\n",
    "from urllib.parse import urlparse, urljoin\n",
    "from bs4 import BeautifulSoup\n",
    "from playwright.async_api import async_playwright\n",
    "from slugify import slugify\n",
    " \n",
    "def get_domain(url):\n",
    "    parsed_uri = urlparse(url)\n",
    "    domain = '{uri.scheme}://{uri.netloc}/'.format(uri=parsed_uri)\n",
    "    return domain\n",
    "\n",
    "def get_path(url):\n",
    "    parsed_uri = urlparse(url)\n",
    "    return parsed_uri.path\n",
    " \n",
    "def get_links(url, content):\n",
    "    soup = BeautifulSoup(content, 'html.parser')\n",
    "    domain = get_domain(url)\n",
    "    links = set()\n",
    "    for link in soup.find_all('a'):\n",
    "        link_url = link.get('href')\n",
    "        if link_url:\n",
    "            absolute_link = urljoin(url, link_url)\n",
    "            if absolute_link.startswith(domain):\n",
    "                links.add(absolute_link)\n",
    "    return links\n",
    " \n",
    "async def playwright(url, slug):\n",
    "    async with async_playwright() as p:\n",
    "        browser = await p.chromium.launch()\n",
    "        page = await browser.new_page()\n",
    "        await page.goto(url)\n",
    "        \n",
    "        screenshot_dir = 'screenshots/' + name\n",
    "        pathlib.Path(screenshot_dir).mkdir(parents=True, exist_ok=True)\n",
    "        await page.screenshot(path=f'{screenshot_dir}/{slug}-{p.chromium.name}.png')\n",
    "        \n",
    "        for i in range(5):\n",
    "            await page.mouse.wheel(0, 15000)\n",
    "            time.sleep(0.500)\n",
    "            i += 1\n",
    "        \n",
    "        content = await page.content()\n",
    "        await browser.close()\n",
    "        return content\n",
    "    \n",
    "if __name__ == '__main__':\n",
    "    queue = [url]\n",
    "    visited = set()\n",
    "    all_links = set()\n",
    "    pages = []\n",
    " \n",
    "    while queue:\n",
    "        url = queue.pop(0)\n",
    "        visited.add(url)\n",
    "        response = requests.get(url)\n",
    "        if (response.ok and \"text/html\" in response.headers['Content-Type']):\n",
    "            page = dict()\n",
    "            print(url)\n",
    "            if (url.rstrip(\"/\") not in all_links):\n",
    "                all_links.add(url.rstrip(\"/\"))\n",
    "                page['url'] = url\n",
    "                page['slug'] = slugify(get_path(page['url']))\n",
    "                page['content'] = dict()\n",
    "                page['content']['html'] = await playwright(page['url'], page['slug'])\n",
    "                pages.append(page)\n",
    "    \n",
    "                links = get_links(page['url'], page['content']['html'])\n",
    "                for link in links:\n",
    "                    if link not in visited and link not in queue and '#' not in link and '?' not in link:\n",
    "                        queue.append(link)\n",
    "    \n",
    "    print()\n",
    "    print('All done! ' + str(len(all_links)) + ' links discovered.')\n",
    "\n",
    "    with jsonlines.open('pages-' + name + '.jsonl', 'w') as writer:\n",
    "        writer.write_all(pages)"
   ]
  },
  {
   "cell_type": "markdown",
   "id": "422625f5",
   "metadata": {},
   "source": [
    "## More dependencies\n",
    "\n",
    "Install trafilatura, that will be used to extract the content from pages, and tiktoken to have a first relevant token measurement for complete page content."
   ]
  },
  {
   "cell_type": "code",
   "execution_count": null,
   "id": "113d2d3a",
   "metadata": {},
   "outputs": [],
   "source": [
    "%pip install trafilatura tiktoken"
   ]
  },
  {
   "cell_type": "markdown",
   "id": "6f45a7ec",
   "metadata": {},
   "source": [
    "## Extract content from discovered pages\n",
    "\n",
    "We'll keep Markdown formatting for now. It will be used to split sections from pages by slicing by headlines. "
   ]
  },
  {
   "cell_type": "code",
   "execution_count": 3,
   "id": "6b35361e",
   "metadata": {},
   "outputs": [
    {
     "name": "stderr",
     "output_type": "stream",
     "text": [
      "/tmp/ipykernel_14065/3555263822.py:17: DeprecationWarning: The 'text' argument to find()-type methods is deprecated. Use 'string' instead.\n",
      "  text = ''.join(soup.findAll(text=True))\n"
     ]
    },
    {
     "name": "stdout",
     "output_type": "stream",
     "text": [
      "extracted: https://www.kickstartDS.com/ https://www.kickstartDS.com/ 1206 Token, 5324\n",
      "extracted: https://www.kickstartDS.com/about/ https://www.kickstartDS.com/about/ 627 Token, 2884\n",
      "extracted: https://www.kickstartDS.com/legal/ https://www.kickstartDS.com/legal/ 196 Token, 729\n",
      "extracted: https://www.kickstartDS.com/blog/great-components/ https://www.kickstartDS.com/blog/great-components/ 1222 Token, 5721\n",
      "extracted: https://www.kickstartDS.com/services/ https://www.kickstartDS.com/services/ 221 Token, 1047\n",
      "extracted: https://www.kickstartDS.com/cookies/ https://www.kickstartDS.com/cookies/ 339 Token, 1395\n",
      "extracted: https://www.kickstartDS.com/integrations/ https://www.kickstartDS.com/integrations/ 1419 Token, 6527\n",
      "extracted: https://www.kickstartDS.com/storybook/ https://www.kickstartDS.com/storybook/ 172 Token, 890\n",
      "extracted: https://www.kickstartDS.com/blog/ https://www.kickstartDS.com/blog/ 225 Token, 1090\n",
      "extracted: https://www.kickstartDS.com/docs/ https://www.kickstartDS.com/docs/ 123 Token, 524\n",
      "extracted: https://www.kickstartDS.com/privacy/ https://www.kickstartDS.com/privacy/ 5794 Token, 27495\n",
      "extracted: https://www.kickstartDS.com/blog/release-spotlight-documentation-starter/ https://www.kickstartDS.com/blog/release-spotlight-documentation-starter/ 1934 Token, 8477\n",
      "extracted: https://www.kickstartDS.com/blog/unlocking-the-frontend-pt1/ https://www.kickstartDS.com/blog/unlocking-the-frontend-pt1/ 2133 Token, 10495\n",
      "extracted: https://www.kickstartDS.com/blog/release-spotlight-semantic-token/ https://www.kickstartDS.com/blog/release-spotlight-semantic-token/ 1915 Token, 8975\n",
      "extracted: https://www.kickstartDS.com/blog/quarterly-design-system-and-frontend-podcast-roundup-q1-22/ https://www.kickstartDS.com/blog/quarterly-design-system-and-frontend-podcast-roundup-q1-22/ 2876 Token, 8965\n",
      "extracted: https://www.kickstartDS.com/blog/release-spotlight-container-queries/ https://www.kickstartDS.com/blog/release-spotlight-container-queries/ 1071 Token, 5173\n",
      "extracted: https://www.kickstartDS.com/blog/kickstartds-is-open-source-now-lets-start-to-democratize-design-systems-today/ https://www.kickstartDS.com/blog/kickstartds-is-open-source-now-lets-start-to-democratize-design-systems-today/ 1579 Token, 7481\n",
      "extracted: https://www.kickstartDS.com/blog/setting-up-a-working-design-system-in-less-than-a-day/ https://www.kickstartDS.com/blog/setting-up-a-working-design-system-in-less-than-a-day/ 1047 Token, 4617\n",
      "extracted: https://www.kickstartDS.com/blog/how-our-initiative-workshop-series-helps-customers-to-decide-for-or-against-a-design-system/ https://www.kickstartDS.com/blog/how-our-initiative-workshop-series-helps-customers-to-decide-for-or-against-a-design-system/ 1949 Token, 9786\n",
      "extracted: https://www.kickstartDS.com/blog/why-we-created-kickstartds/ https://www.kickstartDS.com/blog/why-we-created-kickstartds/ 1135 Token, 5473\n",
      "extracted: https://www.kickstartDS.com/blog/everything-meta-and-everything-matters/ https://www.kickstartDS.com/blog/everything-meta-and-everything-matters/ 1013 Token, 4932\n",
      "extracted: https://www.kickstartDS.com/docs/guides/components/ https://www.kickstartDS.com/docs/guides/components/ 2023 Token, 9567\n",
      "extracted: https://www.kickstartDS.com/docs/guides https://www.kickstartDS.com/docs/guides 241 Token, 1207\n",
      "extracted: https://www.kickstartDS.com/docs/foundations/token/design-token/ https://www.kickstartDS.com/docs/foundations/token/design-token/ 170 Token, 801\n",
      "extracted: https://www.kickstartDS.com/docs/foundations/ https://www.kickstartDS.com/docs/foundations/ 113 Token, 557\n",
      "extracted: https://www.kickstartDS.com/docs/guides/use-our-starter https://www.kickstartDS.com/docs/guides/use-our-starter 6324 Token, 26890\n",
      "extracted: https://www.kickstartDS.com/docs/guides/design-system-initiative https://www.kickstartDS.com/docs/guides/design-system-initiative 859 Token, 4472\n",
      "extracted: https://www.kickstartDS.com/docs/integration https://www.kickstartDS.com/docs/integration 477 Token, 2197\n",
      "extracted: https://www.kickstartDS.com/docs/intro/next https://www.kickstartDS.com/docs/intro/next 68 Token, 289\n",
      "extracted: https://www.kickstartDS.com/docs/guides/examples/components/button https://www.kickstartDS.com/docs/guides/examples/components/button 2446 Token, 10065\n",
      "extracted: https://www.kickstartDS.com/docs/guides/components/recipe https://www.kickstartDS.com/docs/guides/components/recipe 251 Token, 1199\n",
      "extracted: https://www.kickstartDS.com/docs/intro/packages https://www.kickstartDS.com/docs/intro/packages 5247 Token, 20035\n",
      "extracted: https://www.kickstartDS.com/docs/foundations/components/component-api https://www.kickstartDS.com/docs/foundations/components/component-api 125 Token, 619\n",
      "extracted: https://www.kickstartDS.com/docs/guides/examples/components/headline https://www.kickstartDS.com/docs/guides/examples/components/headline 2515 Token, 10403\n",
      "extracted: https://www.kickstartDS.com/docs/intro/ https://www.kickstartDS.com/docs/intro/ 2093 Token, 9915\n",
      "extracted: https://www.kickstartDS.com/docs/foundations/layout/ https://www.kickstartDS.com/docs/foundations/layout/ 237 Token, 1275\n",
      "extracted: https://www.kickstartDS.com/docs/foundations/layout/sections https://www.kickstartDS.com/docs/foundations/layout/sections 1744 Token, 6854\n",
      "extracted: https://www.kickstartDS.com/docs/guides/create/start https://www.kickstartDS.com/docs/guides/create/start 1116 Token, 4537\n",
      "extracted: https://www.kickstartDS.com/docs/intro/upgrading https://www.kickstartDS.com/docs/intro/upgrading 675 Token, 3117\n",
      "extracted: https://www.kickstartDS.com/docs/guides/create/storybook https://www.kickstartDS.com/docs/guides/create/storybook 5895 Token, 23261\n",
      "extracted: https://www.kickstartDS.com/docs/foundations/token/design-token/shadow https://www.kickstartDS.com/docs/foundations/token/design-token/shadow 164 Token, 572\n",
      "extracted: https://www.kickstartDS.com/docs/foundations/token/design-token/spacing https://www.kickstartDS.com/docs/foundations/token/design-token/spacing 191 Token, 647\n",
      "extracted: https://www.kickstartDS.com/docs/integration/frameworks/gatsby https://www.kickstartDS.com/docs/integration/frameworks/gatsby 519 Token, 2187\n",
      "extracted: https://www.kickstartDS.com/docs/foundations/token/design-token/border https://www.kickstartDS.com/docs/foundations/token/design-token/border 126 Token, 505\n",
      "extracted: https://www.kickstartDS.com/docs/guides/examples/components/interstitial https://www.kickstartDS.com/docs/guides/examples/components/interstitial 2396 Token, 10188\n",
      "extracted: https://www.kickstartDS.com/docs/feedback/ https://www.kickstartDS.com/docs/feedback/ 65 Token, 257\n",
      "extracted: https://www.kickstartDS.com/docs/foundations/token/branding-token https://www.kickstartDS.com/docs/foundations/token/branding-token 292 Token, 1250\n",
      "extracted: https://www.kickstartDS.com/docs/foundations/token/component-token https://www.kickstartDS.com/docs/foundations/token/component-token 81 Token, 457\n",
      "extracted: https://www.kickstartDS.com/docs/integration/storybook/token https://www.kickstartDS.com/docs/integration/storybook/token 747 Token, 3167\n",
      "extracted: https://www.kickstartDS.com/docs/guides/examples/recipes/article-teaser https://www.kickstartDS.com/docs/guides/examples/recipes/article-teaser 246 Token, 1196\n",
      "extracted: https://www.kickstartDS.com/docs/guides/create/ https://www.kickstartDS.com/docs/guides/create/ 1869 Token, 7958\n",
      "extracted: https://www.kickstartDS.com/docs/intro/cli https://www.kickstartDS.com/docs/intro/cli 5478 Token, 23762\n",
      "extracted: https://www.kickstartDS.com/docs/guides/examples/components/ https://www.kickstartDS.com/docs/guides/examples/components/ 65 Token, 331\n",
      "extracted: https://www.kickstartDS.com/docs/concepts/ https://www.kickstartDS.com/docs/concepts/ 229 Token, 1121\n",
      "extracted: https://www.kickstartDS.com/docs/foundations/token/ https://www.kickstartDS.com/docs/foundations/token/ 193 Token, 957\n",
      "extracted: https://www.kickstartDS.com/docs/guides/components/adapt https://www.kickstartDS.com/docs/guides/components/adapt 3146 Token, 14042\n",
      "extracted: https://www.kickstartDS.com/docs/guides/examples/ https://www.kickstartDS.com/docs/guides/examples/ 65 Token, 342\n",
      "extracted: https://www.kickstartDS.com/docs/FAQ https://www.kickstartDS.com/docs/FAQ 283 Token, 1114\n",
      "extracted: https://www.kickstartDS.com/docs/integration/storybook/ https://www.kickstartDS.com/docs/integration/storybook/ 254 Token, 1278\n",
      "extracted: https://www.kickstartDS.com/docs/foundations/components/styling https://www.kickstartDS.com/docs/foundations/components/styling 208 Token, 1050\n",
      "extracted: https://www.kickstartDS.com/docs/foundations/components/ https://www.kickstartDS.com/docs/foundations/components/ 247 Token, 1319\n",
      "extracted: https://www.kickstartDS.com/docs/guides/create/components https://www.kickstartDS.com/docs/guides/create/components 3245 Token, 13972\n",
      "extracted: https://www.kickstartDS.com/docs/foundations/components/template https://www.kickstartDS.com/docs/foundations/components/template 207 Token, 1051\n",
      "extracted: https://www.kickstartDS.com/docs/foundations/modules https://www.kickstartDS.com/docs/foundations/modules 562 Token, 2687\n",
      "extracted: https://www.kickstartDS.com/docs/guides/examples/components/teaser-card https://www.kickstartDS.com/docs/guides/examples/components/teaser-card 2950 Token, 12103\n",
      "extracted: https://www.kickstartDS.com/docs/roadmap https://www.kickstartDS.com/docs/roadmap 302 Token, 1294\n",
      "extracted: https://www.kickstartDS.com/docs/guides/create/publish https://www.kickstartDS.com/docs/guides/create/publish 227 Token, 1124\n",
      "extracted: https://www.kickstartDS.com/docs/integration/frameworks/ https://www.kickstartDS.com/docs/integration/frameworks/ 242 Token, 1217\n",
      "extracted: https://www.kickstartDS.com/docs/integration/storybook/controls https://www.kickstartDS.com/docs/integration/storybook/controls 915 Token, 3772\n",
      "extracted: https://www.kickstartDS.com/docs/foundations/components/anatomy https://www.kickstartDS.com/docs/foundations/components/anatomy 856 Token, 3845\n",
      "extracted: https://www.kickstartDS.com/docs/foundations/token/design-token/typo https://www.kickstartDS.com/docs/foundations/token/design-token/typo 552 Token, 2042\n",
      "extracted: https://www.kickstartDS.com/docs/foundations/components/react https://www.kickstartDS.com/docs/foundations/components/react 540 Token, 1743\n",
      "extracted: https://www.kickstartDS.com/docs/foundations/token/design-token/breakpoints https://www.kickstartDS.com/docs/foundations/token/design-token/breakpoints 82 Token, 422\n",
      "extracted: https://www.kickstartDS.com/docs/foundations/token/design-token/color https://www.kickstartDS.com/docs/foundations/token/design-token/color 509 Token, 2031\n",
      "extracted: https://www.kickstartDS.com/docs/integration/frameworks/nextjs https://www.kickstartDS.com/docs/integration/frameworks/nextjs 624 Token, 2488\n",
      "extracted: https://www.kickstartDS.com/docs/foundations/token/design-token/depth https://www.kickstartDS.com/docs/foundations/token/design-token/depth 235 Token, 1124\n",
      "extracted: https://www.kickstartDS.com/docs/integration/react/image-rendering https://www.kickstartDS.com/docs/integration/react/image-rendering 201 Token, 1010\n",
      "extracted: https://www.kickstartDS.com/docs/guides/components/customize https://www.kickstartDS.com/docs/guides/components/customize 3611 Token, 16243\n",
      "extracted: https://www.kickstartDS.com/docs/integration/storybook/theming https://www.kickstartDS.com/docs/integration/storybook/theming 309 Token, 1301\n",
      "extracted: https://www.kickstartDS.com/docs/guides/create/design https://www.kickstartDS.com/docs/guides/create/design 2268 Token, 9487\n",
      "extracted: https://www.kickstartDS.com/docs/guides/components/extend https://www.kickstartDS.com/docs/guides/components/extend 3450 Token, 15334\n",
      "extracted: https://www.kickstartDS.com/docs/integration/storybook/schema https://www.kickstartDS.com/docs/integration/storybook/schema 557 Token, 2368\n",
      "extracted: https://www.kickstartDS.com/docs/guides/examples/recipes/ https://www.kickstartDS.com/docs/guides/examples/recipes/ 110 Token, 538\n",
      "extracted: https://www.kickstartDS.com/docs/guides/migrations/upgrade-2.0.0 https://www.kickstartDS.com/docs/guides/migrations/upgrade-2.0.0 168 Token, 566\n",
      "extracted: https://www.kickstartDS.com/docs/guides/components/create https://www.kickstartDS.com/docs/guides/components/create 3647 Token, 16334\n",
      "extracted: https://www.kickstartDS.com/docs/integration/react/rich-text-rendering https://www.kickstartDS.com/docs/integration/react/rich-text-rendering 104 Token, 436\n",
      "extracted: https://www.kickstartDS.com/docs/integration/react/ https://www.kickstartDS.com/docs/integration/react/ 252 Token, 1264\n",
      "extracted: https://www.kickstartDS.com/docs/intro/environment https://www.kickstartDS.com/docs/intro/environment 1285 Token, 5747\n",
      "extracted: https://www.kickstartDS.com/docs/guides/migrations https://www.kickstartDS.com/docs/guides/migrations 80 Token, 316\n",
      "extracted: https://www.kickstartDS.com/docs/guides/examples/components/section https://www.kickstartDS.com/docs/guides/examples/components/section 3087 Token, 12490\n",
      "extracted: https://www.kickstartDS.com/docs/foundations/layout/bedrock https://www.kickstartDS.com/docs/foundations/layout/bedrock 1186 Token, 4646\n",
      "extracted: https://www.kickstartDS.com/docs/integration/storybook/stories https://www.kickstartDS.com/docs/integration/storybook/stories 696 Token, 2813\n",
      "extracted: https://www.kickstartDS.com/glossary/typescript/ https://www.kickstartDS.com/glossary/typescript/ 138 Token, 701\n",
      "extracted: https://www.kickstartDS.com/glossary/es6/ https://www.kickstartDS.com/glossary/es6/ 162 Token, 781\n",
      "extracted: https://www.kickstartDS.com/glossary/javascript/ https://www.kickstartDS.com/glossary/javascript/ 99 Token, 456\n",
      "\n",
      "wrote extracted content to \"pages-kickstartDS_com_extracted.jsonl\"\n"
     ]
    }
   ],
   "source": [
    "import re\n",
    "import jsonlines\n",
    "import tiktoken\n",
    "from bs4 import BeautifulSoup\n",
    "from trafilatura import load_html, extract\n",
    "from markdown import markdown\n",
    "\n",
    "enc = tiktoken.encoding_for_model(\"text-davinci-003\")\n",
    "\n",
    "def markdown_to_text(markdown_string):\n",
    "    html = markdown(markdown_string)\n",
    "\n",
    "    html = re.sub(r'<pre>(.*?)</pre>', ' ', html)\n",
    "    html = re.sub(r'<code>(.*?)</code >', ' ', html)\n",
    "\n",
    "    soup = BeautifulSoup(html, \"html.parser\")\n",
    "    text = ''.join(soup.findAll(text=True))\n",
    "\n",
    "    return text\n",
    "\n",
    "extracted_content = []\n",
    "with jsonlines.open('pages-' + name + '.jsonl') as pages:\n",
    "    for page in pages:\n",
    "        if (page['content']['html']):\n",
    "            downloaded = load_html(page['content']['html'])\n",
    "            parsed = BeautifulSoup(str(downloaded))\n",
    "            ogTitle = parsed.find(\"meta\", property=\"og:title\")\n",
    "            title = parsed.title.string if (parsed.title and parsed.title.string) else ogTitle[\"content\"] if ogTitle else page['url']\n",
    "            result = extract(downloaded, url=page['url'], include_formatting=True)\n",
    "\n",
    "            if result is None:\n",
    "                print('couldnt extract:', page['url'])\n",
    "            else:\n",
    "                augmented = dict()\n",
    "                augmented['url'] = page['url']\n",
    "                augmented['slug'] = page['slug']\n",
    "\n",
    "                augmented['content'] = page['content']\n",
    "                augmented['content']['raw'] = markdown_to_text(result)\n",
    "                augmented['content']['markdown'] = result\n",
    "\n",
    "                augmented['title'] = title\n",
    "                augmented['lines'] = result.splitlines()\n",
    "                augmented['size'] = len(result)\n",
    "                augmented['token'] = len(enc.encode(result))\n",
    "\n",
    "                extracted_content.append(augmented)\n",
    "                print('extracted:', augmented['url'], augmented['title'], str(augmented['token']) + ' Token,', len(result))  \n",
    "\n",
    "with jsonlines.open('pages-' + name + '_extracted.jsonl', 'w') as pages:\n",
    "    pages.write_all(extracted_content)\n",
    "    \n",
    "print()\n",
    "print('wrote extracted content to \"pages-' + name + '_extracted.jsonl\"')"
   ]
  },
  {
   "cell_type": "markdown",
   "id": "f8ce1f33",
   "metadata": {},
   "source": [
    "## Even more dependencies\n",
    "\n",
    "Install the BERT extractive summarizer and Sentence Transformers, we'll use these to create summaries as a first step."
   ]
  },
  {
   "cell_type": "code",
   "execution_count": null,
   "id": "912c959e",
   "metadata": {},
   "outputs": [],
   "source": [
    "%pip install bert-extractive-summarizer sentence-transformers"
   ]
  },
  {
   "cell_type": "markdown",
   "id": "8588092c",
   "metadata": {},
   "source": [
    "## Create SBert summaries\n",
    "\n",
    "We first create SBert summaries by identifying the most central sentences on a page, concatenating those for a rough first summary."
   ]
  },
  {
   "cell_type": "code",
   "execution_count": 4,
   "id": "89606e20",
   "metadata": {
    "scrolled": true
   },
   "outputs": [
    {
     "data": {
      "application/vnd.jupyter.widget-view+json": {
       "model_id": "a77fe41d9c574933a854ec965dfc1fb1",
       "version_major": 2,
       "version_minor": 0
      },
      "text/plain": [
       "Downloading (…)0fe39/.gitattributes:   0%|          | 0.00/968 [00:00<?, ?B/s]"
      ]
     },
     "metadata": {},
     "output_type": "display_data"
    },
    {
     "data": {
      "application/vnd.jupyter.widget-view+json": {
       "model_id": "c5a226badc014778a453dc7e1a6d7470",
       "version_major": 2,
       "version_minor": 0
      },
      "text/plain": [
       "Downloading (…)_Pooling/config.json:   0%|          | 0.00/190 [00:00<?, ?B/s]"
      ]
     },
     "metadata": {},
     "output_type": "display_data"
    },
    {
     "data": {
      "application/vnd.jupyter.widget-view+json": {
       "model_id": "6bab67e7496649f281dc6f506d371c0c",
       "version_major": 2,
       "version_minor": 0
      },
      "text/plain": [
       "Downloading (…)83e900fe39/README.md:   0%|          | 0.00/3.79k [00:00<?, ?B/s]"
      ]
     },
     "metadata": {},
     "output_type": "display_data"
    },
    {
     "data": {
      "application/vnd.jupyter.widget-view+json": {
       "model_id": "4c308d7ec8a94cbe9c8d2d109391e0c9",
       "version_major": 2,
       "version_minor": 0
      },
      "text/plain": [
       "Downloading (…)e900fe39/config.json:   0%|          | 0.00/645 [00:00<?, ?B/s]"
      ]
     },
     "metadata": {},
     "output_type": "display_data"
    },
    {
     "data": {
      "application/vnd.jupyter.widget-view+json": {
       "model_id": "ee36c697e91d40b4a0d1eb3f0929e33b",
       "version_major": 2,
       "version_minor": 0
      },
      "text/plain": [
       "Downloading (…)ce_transformers.json:   0%|          | 0.00/122 [00:00<?, ?B/s]"
      ]
     },
     "metadata": {},
     "output_type": "display_data"
    },
    {
     "data": {
      "application/vnd.jupyter.widget-view+json": {
       "model_id": "298df47c1ce242f988eae9576e5aab6e",
       "version_major": 2,
       "version_minor": 0
      },
      "text/plain": [
       "Downloading pytorch_model.bin:   0%|          | 0.00/471M [00:00<?, ?B/s]"
      ]
     },
     "metadata": {},
     "output_type": "display_data"
    },
    {
     "data": {
      "application/vnd.jupyter.widget-view+json": {
       "model_id": "24342272e15f4ed884034250aee3f1e9",
       "version_major": 2,
       "version_minor": 0
      },
      "text/plain": [
       "Downloading (…)nce_bert_config.json:   0%|          | 0.00/53.0 [00:00<?, ?B/s]"
      ]
     },
     "metadata": {},
     "output_type": "display_data"
    },
    {
     "data": {
      "application/vnd.jupyter.widget-view+json": {
       "model_id": "aba9079b9b5d49e88002db9b78549bc2",
       "version_major": 2,
       "version_minor": 0
      },
      "text/plain": [
       "Downloading (…)tencepiece.bpe.model:   0%|          | 0.00/5.07M [00:00<?, ?B/s]"
      ]
     },
     "metadata": {},
     "output_type": "display_data"
    },
    {
     "data": {
      "application/vnd.jupyter.widget-view+json": {
       "model_id": "3b8ef4195d9e4739aa8ea50680edb83c",
       "version_major": 2,
       "version_minor": 0
      },
      "text/plain": [
       "Downloading (…)cial_tokens_map.json:   0%|          | 0.00/239 [00:00<?, ?B/s]"
      ]
     },
     "metadata": {},
     "output_type": "display_data"
    },
    {
     "data": {
      "application/vnd.jupyter.widget-view+json": {
       "model_id": "772eb0876a4c43c6bc707f5061d148fd",
       "version_major": 2,
       "version_minor": 0
      },
      "text/plain": [
       "Downloading tokenizer.json:   0%|          | 0.00/9.08M [00:00<?, ?B/s]"
      ]
     },
     "metadata": {},
     "output_type": "display_data"
    },
    {
     "data": {
      "application/vnd.jupyter.widget-view+json": {
       "model_id": "dca01cb3847042238286083517a218cf",
       "version_major": 2,
       "version_minor": 0
      },
      "text/plain": [
       "Downloading (…)okenizer_config.json:   0%|          | 0.00/480 [00:00<?, ?B/s]"
      ]
     },
     "metadata": {},
     "output_type": "display_data"
    },
    {
     "data": {
      "application/vnd.jupyter.widget-view+json": {
       "model_id": "29020d8ee8b842c798bd7d3c86458aa9",
       "version_major": 2,
       "version_minor": 0
      },
      "text/plain": [
       "Downloading unigram.json:   0%|          | 0.00/14.8M [00:00<?, ?B/s]"
      ]
     },
     "metadata": {},
     "output_type": "display_data"
    },
    {
     "data": {
      "application/vnd.jupyter.widget-view+json": {
       "model_id": "8df9b4224c4a4e8cae8dcee79d752f22",
       "version_major": 2,
       "version_minor": 0
      },
      "text/plain": [
       "Downloading (…)900fe39/modules.json:   0%|          | 0.00/229 [00:00<?, ?B/s]"
      ]
     },
     "metadata": {},
     "output_type": "display_data"
    },
    {
     "name": "stdout",
     "output_type": "stream",
     "text": [
      "Creating summaries for 95 pages.\n"
     ]
    },
    {
     "name": "stderr",
     "output_type": "stream",
     "text": [
      "/home/codespace/.local/lib/python3.10/site-packages/sklearn/cluster/_kmeans.py:870: FutureWarning: The default value of `n_init` will change from 10 to 'auto' in 1.4. Set the value of `n_init` explicitly to suppress the warning\n",
      "  warnings.warn(\n"
     ]
    },
    {
     "name": "stdout",
     "output_type": "stream",
     "text": [
      "\n",
      "https://www.kickstartDS.com/ https://www.kickstartDS.com/ 144 Token, kickstartDS is the Open Source starter kit for Design Systems A low-code framework and comprehensive component library enabling digital teams to create consistent and brand compliant web frontends super efficiently. Alternatively, use our ready-to-use React components directly in your codebase! Make it your own Learn how kickstartDS helps in building your Design System Great Open Source components Components serving as the basic building blocks of your Design Systen kickstartDS is the foundation for your Design System, built with reusable components and tools, guided by clear standards, that can be assembled together to create your products: fast, flexible, responsive, accessible and the best of all: 👉 you can plug it onto every digital touch point you own.\n"
     ]
    },
    {
     "name": "stderr",
     "output_type": "stream",
     "text": [
      "/home/codespace/.local/lib/python3.10/site-packages/sklearn/cluster/_kmeans.py:870: FutureWarning: The default value of `n_init` will change from 10 to 'auto' in 1.4. Set the value of `n_init` explicitly to suppress the warning\n",
      "  warnings.warn(\n",
      "/home/codespace/.local/lib/python3.10/site-packages/sklearn/cluster/_kmeans.py:870: FutureWarning: The default value of `n_init` will change from 10 to 'auto' in 1.4. Set the value of `n_init` explicitly to suppress the warning\n",
      "  warnings.warn(\n"
     ]
    },
    {
     "name": "stdout",
     "output_type": "stream",
     "text": [
      "\n",
      "https://www.kickstartDS.com/about/ https://www.kickstartDS.com/about/ 128 Token, Frontend is our passion That is why we baked 20+ years of agency experience into kickstartDS Design Systems- also known as \"pattern libraries\" or \"component libraries\" - promote quality, consistent UX design across products; and expedite the work of designers, developers, and anyone else working on a digital service. Knowing that we can create tremendous value for all these frontend creators and the companies they are working for. Daniel Ley, Co-Founder + UX Strategist with heart & soul Own a Design System without investing years of development kickstartDS is the design system starter kit in which we have already solved all core challenges.\n",
      "\n",
      "https://www.kickstartDS.com/legal/ https://www.kickstartDS.com/legal/ 173 Token, Legal notice kickstartDS is a service provided by ruhmesmeile GmbH Registered office of the company: Bonn Court of registration: Amtsgericht Bonn Register No: HRB 20812 VAT identification number according to § 27a of Value Added Tax Act: DE 295835353 Schumannstr. 15 53113 Bonn Phone: +49 228 688 966-20 Fax: +49 228 688 966-28 hello@kickstartds.com Responsibilities: Responsible for content as per § 6 MDStV: Daniel Ley Authorised shareholder representative: Daniel Ley, Jonas Ulrich Platform of the EU Commission regarding online dispute resolution: https://ec.europa.eu/consumers/odr The Seller is neither obliged nor prepared to attend a dispute settlement procedure before an alternative dispute resolution entity.\n"
     ]
    },
    {
     "name": "stderr",
     "output_type": "stream",
     "text": [
      "/home/codespace/.local/lib/python3.10/site-packages/sklearn/cluster/_kmeans.py:870: FutureWarning: The default value of `n_init` will change from 10 to 'auto' in 1.4. Set the value of `n_init` explicitly to suppress the warning\n",
      "  warnings.warn(\n"
     ]
    },
    {
     "name": "stdout",
     "output_type": "stream",
     "text": [
      "\n",
      "https://www.kickstartDS.com/blog/great-components/ https://www.kickstartDS.com/blog/great-components/ 99 Token, #tldr: in this post I’ll try to provide some background info on the power of kickstartDS components. Especially how well-curated component options, connected with carefully chosen design and component tokens, give you a nice expressive workbench… all while providing safety, by keeping you inside set (design system) guard rails in regards to branding and consistency. This is just one more example of what differentiates our components, making them a great experience for all parties involved.\n"
     ]
    },
    {
     "name": "stderr",
     "output_type": "stream",
     "text": [
      "/home/codespace/.local/lib/python3.10/site-packages/sklearn/cluster/_kmeans.py:870: FutureWarning: The default value of `n_init` will change from 10 to 'auto' in 1.4. Set the value of `n_init` explicitly to suppress the warning\n",
      "  warnings.warn(\n"
     ]
    },
    {
     "name": "stdout",
     "output_type": "stream",
     "text": [
      "\n",
      "https://www.kickstartDS.com/services/ https://www.kickstartDS.com/services/ 60 Token, Use our design and consultancy services to support you introducing your design system, including onboarding, training or governance. Removing all the assumptions on building your design system, and reduce the risk and effort required to get started. Join our community Talk to our experts, we would love to her from you!\n"
     ]
    },
    {
     "name": "stderr",
     "output_type": "stream",
     "text": [
      "/home/codespace/.local/lib/python3.10/site-packages/sklearn/cluster/_kmeans.py:870: FutureWarning: The default value of `n_init` will change from 10 to 'auto' in 1.4. Set the value of `n_init` explicitly to suppress the warning\n",
      "  warnings.warn(\n"
     ]
    },
    {
     "name": "stdout",
     "output_type": "stream",
     "text": [
      "\n",
      "https://www.kickstartDS.com/cookies/ https://www.kickstartDS.com/cookies/ 176 Token, Cookie List Info about the cookies in use on our site Adjust your cookie preferences Cookie List Performance Cookies These cookies allow us to count visits and traffic sources so we can measure and improve the performance of our site. They help us to know which pages are the most and least popular and see how visitors move around the site. |Cookie Subgroup||Cookies||Cookies used| |www.kickstartds.com||_hjIncludedInPageviewSample||First Party| |kickstartds.com||_hjTLDTest , _hjAbsoluteSessionInProgress , _hjid , _ga , _hjFirstSeen , _ga_GTP95B7SBV||First Party| Strictly Necessary Cookies These cookies are necessary for the website to function and cannot be switched off in our systems.\n"
     ]
    },
    {
     "name": "stderr",
     "output_type": "stream",
     "text": [
      "/home/codespace/.local/lib/python3.10/site-packages/sklearn/cluster/_kmeans.py:870: FutureWarning: The default value of `n_init` will change from 10 to 'auto' in 1.4. Set the value of `n_init` explicitly to suppress the warning\n",
      "  warnings.warn(\n"
     ]
    },
    {
     "name": "stdout",
     "output_type": "stream",
     "text": [
      "\n",
      "https://www.kickstartDS.com/integrations/ https://www.kickstartDS.com/integrations/ 134 Token, Leverage rich integrations... ... to ease setup and everyday tasks Focus on the stuff that really matters: While having a solid Design System is the necessary start, without projects using it this is theoretical value. Complete Gatsby theme Our theme automates everything related to rendering your frontend (SEO, performance, etc), while also providing a common interface to implement your own transformers and resolvers. Connect to Design Tooling ... to help bridge the dev-design divide How Design Tokens enable better processes: Tokens are the perfect starting ground when establishing shared processes and responsibilities between designers and developers, as they encode the most atomic design decisions of your Design System.\n",
      "\n",
      "https://www.kickstartDS.com/storybook/ https://www.kickstartDS.com/storybook/ 72 Token, These cookies allow us to count visits and traffic sources so we can measure and improve the performance of our site. They help us to know which pages are the most and least popular and see how visitors move around the site. If you do not allow these cookies we will not know when you have visited our site, and will not be able to monitor its performance.\n"
     ]
    },
    {
     "name": "stderr",
     "output_type": "stream",
     "text": [
      "/home/codespace/.local/lib/python3.10/site-packages/sklearn/cluster/_kmeans.py:870: FutureWarning: The default value of `n_init` will change from 10 to 'auto' in 1.4. Set the value of `n_init` explicitly to suppress the warning\n",
      "  warnings.warn(\n",
      "/home/codespace/.local/lib/python3.10/site-packages/sklearn/cluster/_kmeans.py:870: FutureWarning: The default value of `n_init` will change from 10 to 'auto' in 1.4. Set the value of `n_init` explicitly to suppress the warning\n",
      "  warnings.warn(\n"
     ]
    },
    {
     "name": "stdout",
     "output_type": "stream",
     "text": [
      "\n",
      "https://www.kickstartDS.com/blog/ https://www.kickstartDS.com/blog/ 119 Token, Welcome to the kickstartDS Blog Here we keep you up to date on releases, updates and background info Dig deeper ⛏️ Here we keep you up to date on releases, updates and background info Dig deeper ⛏️ These cookies allow us to count visits and traffic sources so we can measure and improve the performance of our site. They help us to know which pages are the most and least popular and see how visitors move around the site. If you do not allow these cookies we will not know when you have visited our site, and will not be able to monitor its performance.\n",
      "\n",
      "https://www.kickstartDS.com/docs/ https://www.kickstartDS.com/docs/ 93 Token, kickstartDS documentation Learn how to own a Design System without investing years of development. Own a Design System in just 5 steps Follow our main guide to \"Create your Design System\" Sitemap Quick access to all pages of our main docs sections: Getting Started Section overview:Open Getting Started section Guides Section overview: - Guides - Create your Design System - Components - Examples - Migrations - Using our Starter - Design System Initiative Concepts Section overview:Open Concepts section\n"
     ]
    },
    {
     "name": "stderr",
     "output_type": "stream",
     "text": [
      "/home/codespace/.local/lib/python3.10/site-packages/sklearn/cluster/_kmeans.py:870: FutureWarning: The default value of `n_init` will change from 10 to 'auto' in 1.4. Set the value of `n_init` explicitly to suppress the warning\n",
      "  warnings.warn(\n",
      "/home/codespace/.local/lib/python3.10/site-packages/sklearn/cluster/_kmeans.py:870: FutureWarning: The default value of `n_init` will change from 10 to 'auto' in 1.4. Set the value of `n_init` explicitly to suppress the warning\n",
      "  warnings.warn(\n"
     ]
    },
    {
     "name": "stdout",
     "output_type": "stream",
     "text": [
      "\n",
      "https://www.kickstartDS.com/privacy/ https://www.kickstartDS.com/privacy/ 216 Token, Privacy policy Data Protection Declaration 1) Information on the Collection of Personal Data and Contact Details of the Controller 1.1 We are pleased that you are visiting our website and thank you for your interest. When you visit our website, we collect the following data that is technically necessary for us to display the website to you: - Our visited website - Date and time at the moment of access - Amount of data sent in bytes - Source/reference from which you came to the page - Browser used - Operating system used - IP address used (if applicable: in anonymized form) Data processing is carried out in accordance with Art. 9.2 RIGHT TO OBJECT IF, WITHIN THE FRAMEWORK OF A CONSIDERATION OF INTERESTS, WE PROCESS YOUR PERSONAL DATA ON THE BASIS OF OUR PREDOMINANT LEGITIMATE INTEREST, YOU HAVE THE RIGHT AT ANY TIME TO OBJECT TO THIS PROCESSING WITH EFFECT FOR THE FUTURE ON THE GROUNDS THAT ARISE FROM YOUR PARTICULAR SITUATION.\n"
     ]
    },
    {
     "name": "stderr",
     "output_type": "stream",
     "text": [
      "/home/codespace/.local/lib/python3.10/site-packages/sklearn/cluster/_kmeans.py:870: FutureWarning: The default value of `n_init` will change from 10 to 'auto' in 1.4. Set the value of `n_init` explicitly to suppress the warning\n",
      "  warnings.warn(\n"
     ]
    },
    {
     "name": "stdout",
     "output_type": "stream",
     "text": [
      "\n",
      "https://www.kickstartDS.com/blog/release-spotlight-documentation-starter/ https://www.kickstartDS.com/blog/release-spotlight-documentation-starter/ 98 Token, tldr We’ve added extensive documentation around the creation of Design Systems with kickstartDS. Foundations Our “Foundations” section describes the basic aspects of all main areas you can find in a Design System, especially when combined with the choices made in kickstartDS to be built upon. If you don’t feel like following a lengthy guide, and prefer to get going with some code immediately, it is the most efficient way of starting your Design System.\n"
     ]
    },
    {
     "name": "stderr",
     "output_type": "stream",
     "text": [
      "/home/codespace/.local/lib/python3.10/site-packages/sklearn/cluster/_kmeans.py:870: FutureWarning: The default value of `n_init` will change from 10 to 'auto' in 1.4. Set the value of `n_init` explicitly to suppress the warning\n",
      "  warnings.warn(\n"
     ]
    },
    {
     "name": "stdout",
     "output_type": "stream",
     "text": [
      "\n",
      "https://www.kickstartDS.com/blog/unlocking-the-frontend-pt1/ https://www.kickstartDS.com/blog/unlocking-the-frontend-pt1/ 140 Token, tldr We’re still wasting massive amounts of valuable development cycles in the frontend world by working in silos, or by to at least some extent reinventing the wheel for every project. The main website could be built with Sanity, or other structured content-oriented solutions, as the headless CMS to really leverage connected, long-lasting content where it matters. Often even by oneself, just two projects before the current one… Why just creating a Design System is not the answer, either For product teams tasked with starting a Design System today, this also way too often feels like just another added thing on top, that’s expected to be delivered, en passant.\n"
     ]
    },
    {
     "name": "stderr",
     "output_type": "stream",
     "text": [
      "/home/codespace/.local/lib/python3.10/site-packages/sklearn/cluster/_kmeans.py:870: FutureWarning: The default value of `n_init` will change from 10 to 'auto' in 1.4. Set the value of `n_init` explicitly to suppress the warning\n",
      "  warnings.warn(\n"
     ]
    },
    {
     "name": "stdout",
     "output_type": "stream",
     "text": [
      "\n",
      "https://www.kickstartDS.com/blog/release-spotlight-semantic-token/ https://www.kickstartDS.com/blog/release-spotlight-semantic-token/ 111 Token, In almost every channel from the Design System space, you can feel a crispy white noise around the broad topic of Design Token. You choose your semantic token from a set of base values and scales, think of those as the painters palette, making sure there’s a lot of re-use (aliasing) in your Design Token. Unlike hassling around with configurations to be adjusted, or concepts not quite fitting your intention, this will be opinionated and tailor-made to the way we’ve approached token in kickstartDS.\n"
     ]
    },
    {
     "name": "stderr",
     "output_type": "stream",
     "text": [
      "/home/codespace/.local/lib/python3.10/site-packages/sklearn/cluster/_kmeans.py:870: FutureWarning: The default value of `n_init` will change from 10 to 'auto' in 1.4. Set the value of `n_init` explicitly to suppress the warning\n",
      "  warnings.warn(\n"
     ]
    },
    {
     "name": "stdout",
     "output_type": "stream",
     "text": [
      "\n",
      "https://www.kickstartDS.com/blog/quarterly-design-system-and-frontend-podcast-roundup-q1-22/ https://www.kickstartDS.com/blog/quarterly-design-system-and-frontend-podcast-roundup-q1-22/ 177 Token, tldr Read our roundup of podcasts released in the first quarter of 2022. Everything related to Design Systems, Frontend development and headless CMS / Jamstack. 🚀 On to the monthly overview: April April 15th, 2022 PodRocket: “Remix with Chance Strickland” Hosts: Kate Trahan, Kaelan Cooter Guest: Chance Strickland Length: 26m 8s Link: https://podrocket.logrocket.com/remix April 14th, 2022 devtools.fm: Episode #28 “Steve Sewell – Builder.io, partytown, Qwik, mitosis” Hosts: Andrew Lisowski, Justin Bennett Guest: Steve Sewell Length: 01h 06m Link: https://devtools.fm/episode/28 April 14th, 2022 JAMstack Radio: Ep.\n"
     ]
    },
    {
     "name": "stderr",
     "output_type": "stream",
     "text": [
      "/home/codespace/.local/lib/python3.10/site-packages/sklearn/cluster/_kmeans.py:870: FutureWarning: The default value of `n_init` will change from 10 to 'auto' in 1.4. Set the value of `n_init` explicitly to suppress the warning\n",
      "  warnings.warn(\n"
     ]
    },
    {
     "name": "stdout",
     "output_type": "stream",
     "text": [
      "\n",
      "https://www.kickstartDS.com/blog/release-spotlight-container-queries/ https://www.kickstartDS.com/blog/release-spotlight-container-queries/ 117 Token, tldr: Container Queries are another new feature coming with the Open Source release of kickstartDS. With Container Queries we now showcase the use and implementation of another future-proofing functionality with this, to get the perfect fit for your components, regardless of the layout they are placed into. Let me quote Brad Frost’s view on Layout & Grid in Design Systems before you hit our docs to check it out on your own - Design system developers create fully-fluid components and use container query syntaxto manage each component’s breakpoints. -\n"
     ]
    },
    {
     "name": "stderr",
     "output_type": "stream",
     "text": [
      "/home/codespace/.local/lib/python3.10/site-packages/sklearn/cluster/_kmeans.py:870: FutureWarning: The default value of `n_init` will change from 10 to 'auto' in 1.4. Set the value of `n_init` explicitly to suppress the warning\n",
      "  warnings.warn(\n"
     ]
    },
    {
     "name": "stdout",
     "output_type": "stream",
     "text": [
      "\n",
      "https://www.kickstartDS.com/blog/kickstartds-is-open-source-now-lets-start-to-democratize-design-systems-today/ https://www.kickstartDS.com/blog/kickstartds-is-open-source-now-lets-start-to-democratize-design-systems-today/ 135 Token, Finally, the wait is over … today we are very proud to announce the Open Source release of kickstartDS. The main steps will go as follows: - Start your Design System - Design Application - Configure Storybook - Add Components - Publish your Design System Although the resulting Design System will obviously not be finished by finishing these steps, you’ll have everything set up to start on the real work. One more reason why we think: relying on kickstartDS when building your Design System is of huge value for you and the Open Source community, who can start building more adapters and implementations on top of kickstartDS to simplify the process of applying Design Systems.\n"
     ]
    },
    {
     "name": "stderr",
     "output_type": "stream",
     "text": [
      "/home/codespace/.local/lib/python3.10/site-packages/sklearn/cluster/_kmeans.py:870: FutureWarning: The default value of `n_init` will change from 10 to 'auto' in 1.4. Set the value of `n_init` explicitly to suppress the warning\n",
      "  warnings.warn(\n"
     ]
    },
    {
     "name": "stdout",
     "output_type": "stream",
     "text": [
      "\n",
      "https://www.kickstartDS.com/blog/setting-up-a-working-design-system-in-less-than-a-day/ https://www.kickstartDS.com/blog/setting-up-a-working-design-system-in-less-than-a-day/ 172 Token, tldr: In this post I’d like to demonstrate how easy it can be to kick off your own Design System, by just applying some design tokens, and adding a sprinkle of customization, using kickstartDS. Have a look at the screenshot below, to get a feel for how this looks: Token application With all those macro design decisions out of the way, I could now move on with customizing the individual token values, which got generated for me from the theming input I defined before. At that point the pages were starting to look almost identical… I had to re-check the URL to make sure what page I was on 😉 Customization If you want to step outside the foundational layer of design tokens automatically available to you, and get really creative with your styling, you can always just as easily customize the components more directly.\n"
     ]
    },
    {
     "name": "stderr",
     "output_type": "stream",
     "text": [
      "/home/codespace/.local/lib/python3.10/site-packages/sklearn/cluster/_kmeans.py:870: FutureWarning: The default value of `n_init` will change from 10 to 'auto' in 1.4. Set the value of `n_init` explicitly to suppress the warning\n",
      "  warnings.warn(\n"
     ]
    },
    {
     "name": "stdout",
     "output_type": "stream",
     "text": [
      "\n",
      "https://www.kickstartDS.com/blog/how-our-initiative-workshop-series-helps-customers-to-decide-for-or-against-a-design-system/ https://www.kickstartDS.com/blog/how-our-initiative-workshop-series-helps-customers-to-decide-for-or-against-a-design-system/ 117 Token, tldr: this post explains and presents the Design System Initiative. Getting the design system initiative started During the initiative we usually run around seven to nine workshops including stakeholder mapping, exploring your current inventory as the baseline to synthesize to what should be real core components, in parallel we will sound out a strategy for the technical implementation and ultimately, we will identify a product serving as the potential pilot project. So let me sum up: The Design System Initiative helps you and your team to evaluate the key stakeholders and the necessary inventory, while ultimately, jointly, identifying a design system pilot.\n"
     ]
    },
    {
     "name": "stderr",
     "output_type": "stream",
     "text": [
      "/home/codespace/.local/lib/python3.10/site-packages/sklearn/cluster/_kmeans.py:870: FutureWarning: The default value of `n_init` will change from 10 to 'auto' in 1.4. Set the value of `n_init` explicitly to suppress the warning\n",
      "  warnings.warn(\n"
     ]
    },
    {
     "name": "stdout",
     "output_type": "stream",
     "text": [
      "\n",
      "https://www.kickstartDS.com/blog/why-we-created-kickstartds/ https://www.kickstartDS.com/blog/why-we-created-kickstartds/ 97 Token, #tldr: We want to support you to create one library of components, patterns and tokens to be used in any frontend you need to give your digital touch points a consistent interface. Even shorter: we want to kickstart your design system implementation. With the ambitious idea of transforming it into a product-led company we decided to join forces and strive for the most modern solution to help SMEs and frontend development teams to build up their design systems putting frontend first!\n"
     ]
    },
    {
     "name": "stderr",
     "output_type": "stream",
     "text": [
      "/home/codespace/.local/lib/python3.10/site-packages/sklearn/cluster/_kmeans.py:870: FutureWarning: The default value of `n_init` will change from 10 to 'auto' in 1.4. Set the value of `n_init` explicitly to suppress the warning\n",
      "  warnings.warn(\n"
     ]
    },
    {
     "name": "stdout",
     "output_type": "stream",
     "text": [
      "\n",
      "https://www.kickstartDS.com/blog/everything-meta-and-everything-matters/ https://www.kickstartDS.com/blog/everything-meta-and-everything-matters/ 163 Token, #tldr: in this post Daniel explains why kickstartDS is a meta framework for Design System creation and how you can benefit from it when starting to develop a Design System. When we made the decision to develop our pattern library into an Open Source tool, we thought about many different ways to describe what the core of it is, or at that time will become: kickstartDS is a … - Comprehensive component and pattern library for Design System - Adaptable framework for digital Design Systems - UI framework for all your headless and legacy experiences - Low-code framework and starter kit for Design Systems - Design System Meta Framework All of the above is true! A meta framework is a tool to help understand how the components of a system interact and how they can be adjusted to improve the overall performance of the system.\n"
     ]
    },
    {
     "name": "stderr",
     "output_type": "stream",
     "text": [
      "/home/codespace/.local/lib/python3.10/site-packages/sklearn/cluster/_kmeans.py:870: FutureWarning: The default value of `n_init` will change from 10 to 'auto' in 1.4. Set the value of `n_init` explicitly to suppress the warning\n",
      "  warnings.warn(\n"
     ]
    },
    {
     "name": "stdout",
     "output_type": "stream",
     "text": [
      "\n",
      "https://www.kickstartDS.com/docs/guides/components/ https://www.kickstartDS.com/docs/guides/components/ 130 Token, Components Overview There are a lot of different basic ways of building a component with kickstartDS. Accompanying each general guide is a corresponding example component guide, illustrating the process in detail for a demo component: Adapt a component: Adapt Buttoncomponent Customize a component: Customize Headlinecomponent Create a component: Create TeaserCardcomponent Extend a component: Extend Sectioncomponent Four main processes See below for a small description about the different proccesses. This means while also following everything established by \"Adapt a component\", we potentially add new, custom properties to our component API that were not part of the original kickstartDS base component.\n",
      "\n",
      "https://www.kickstartDS.com/docs/guides https://www.kickstartDS.com/docs/guides 85 Token, Guides Guides provide instructions on how to get the most out of kickstartDS to create your own Design System. If you do not allow these cookies we will not know when you have visited our site, and will not be able to monitor its performance. They are usually only set in response to actions made by you which amount to a request for services, such as setting your privacy preferences, logging in or filling in forms.\n"
     ]
    },
    {
     "name": "stderr",
     "output_type": "stream",
     "text": [
      "/home/codespace/.local/lib/python3.10/site-packages/sklearn/cluster/_kmeans.py:870: FutureWarning: The default value of `n_init` will change from 10 to 'auto' in 1.4. Set the value of `n_init` explicitly to suppress the warning\n",
      "  warnings.warn(\n",
      "/home/codespace/.local/lib/python3.10/site-packages/sklearn/cluster/_kmeans.py:870: FutureWarning: The default value of `n_init` will change from 10 to 'auto' in 1.4. Set the value of `n_init` explicitly to suppress the warning\n",
      "  warnings.warn(\n",
      "/home/codespace/.local/lib/python3.10/site-packages/sklearn/cluster/_kmeans.py:870: FutureWarning: The default value of `n_init` will change from 10 to 'auto' in 1.4. Set the value of `n_init` explicitly to suppress the warning\n",
      "  warnings.warn(\n"
     ]
    },
    {
     "name": "stdout",
     "output_type": "stream",
     "text": [
      "\n",
      "https://www.kickstartDS.com/docs/foundations/token/design-token/ https://www.kickstartDS.com/docs/foundations/token/design-token/ 71 Token, Design Token Design Token are the smallest building blocks, the core pieces of a design system. The kickstartDS Token taxonomy relies on the article Naming Token in Design Systems by Nathan Curtis, who really is the number one mate in the design systems space. Thank you for sharing you passion and knowledge, this is really empowering the DS community 🙏\n",
      "\n",
      "https://www.kickstartDS.com/docs/foundations/ https://www.kickstartDS.com/docs/foundations/ 68 Token, Foundations Foundations are the visual elements needed to create your Design System and its engaging user experiences. You can build up your specifics based on all the best practice defaults given by kickstartDS on token, like color, typography, but also components and layout. everything you need to build beautiful content experiences or to enrich your existing Design System\n"
     ]
    },
    {
     "name": "stderr",
     "output_type": "stream",
     "text": [
      "/home/codespace/.local/lib/python3.10/site-packages/sklearn/cluster/_kmeans.py:870: FutureWarning: The default value of `n_init` will change from 10 to 'auto' in 1.4. Set the value of `n_init` explicitly to suppress the warning\n",
      "  warnings.warn(\n"
     ]
    },
    {
     "name": "stdout",
     "output_type": "stream",
     "text": [
      "\n",
      "https://www.kickstartDS.com/docs/guides/use-our-starter https://www.kickstartDS.com/docs/guides/use-our-starter 199 Token, kickstartDS Design System Starter About The kickstartDS Design System Starter is your most efficient way of kickstarting a Design System. Explore that file for details on the formats configured in this starter (the path the format output is written to can be influenced by setting buildPath): |Platform||Description| css |Creates a |Design Token converted to CSS Custom Properties, using the naming structure expected by Component Token in html HTML icon sprite (learn more), that is needed when integrating raw HTML (e.g. into PHP, ASP.NET, or similar). Components As described in the very intro to this README, all the included components should be immediately useful in pretty much every Design System, but they're also specifically used to showcase features and best practices at play in kickstartDS, and to make it easier for you to just add stuff to an already working, well-oiled system: Recipes We added one recipe to give you an idea on how you could use those.\n"
     ]
    },
    {
     "name": "stderr",
     "output_type": "stream",
     "text": [
      "/home/codespace/.local/lib/python3.10/site-packages/sklearn/cluster/_kmeans.py:870: FutureWarning: The default value of `n_init` will change from 10 to 'auto' in 1.4. Set the value of `n_init` explicitly to suppress the warning\n",
      "  warnings.warn(\n"
     ]
    },
    {
     "name": "stdout",
     "output_type": "stream",
     "text": [
      "\n",
      "https://www.kickstartDS.com/docs/guides/design-system-initiative https://www.kickstartDS.com/docs/guides/design-system-initiative 103 Token, Design System Initiative A Design System Initiative is the process an organization undertakes when considering to initialize a Design System. Examplary Design System Initiative Process During the initiative we usually run around seven to nine workshops including stakeholder mapping, exploring your current inventory as the baseline to synthesize to what should be real core components, in parallel we will sound out a strategy for the technical implementation and ultimately, we will identify a product serving as the potential pilot project. Plus, you will better understand the existing design and development processes.\n"
     ]
    },
    {
     "name": "stderr",
     "output_type": "stream",
     "text": [
      "/home/codespace/.local/lib/python3.10/site-packages/sklearn/cluster/_kmeans.py:870: FutureWarning: The default value of `n_init` will change from 10 to 'auto' in 1.4. Set the value of `n_init` explicitly to suppress the warning\n",
      "  warnings.warn(\n"
     ]
    },
    {
     "name": "stdout",
     "output_type": "stream",
     "text": [
      "\n",
      "https://www.kickstartDS.com/docs/integration https://www.kickstartDS.com/docs/integration 59 Token, Integration There's one thing every Design System shares: it only generates value when being applied! One big category there would be integrating well with Storybook. We've written some addons to aid in that ourselves, but also try to always provide best-practice configuration and recommendations for your setup!\n",
      "\n",
      "https://www.kickstartDS.com/docs/intro/next https://www.kickstartDS.com/docs/intro/next 64 Token, Next Steps With all of that introductory stuff out of the way, we recommend following one of the three following paths: If you're interested in more background info, have a look through our blog... we try to give insights there as much as possible, too: https://www.kickstartDS.com/blog/\n"
     ]
    },
    {
     "name": "stderr",
     "output_type": "stream",
     "text": [
      "/home/codespace/.local/lib/python3.10/site-packages/sklearn/cluster/_kmeans.py:870: FutureWarning: The default value of `n_init` will change from 10 to 'auto' in 1.4. Set the value of `n_init` explicitly to suppress the warning\n",
      "  warnings.warn(\n"
     ]
    },
    {
     "name": "stdout",
     "output_type": "stream",
     "text": [
      "\n",
      "https://www.kickstartDS.com/docs/guides/examples/components/button https://www.kickstartDS.com/docs/guides/examples/components/button 111 Token, Adapt Button component This guided example shows how you'd often add components to your Design System that use a kickstartDS base component pretty directly. When running the schema generation in our Design System again, we should now automatically end up with a corresponding type definition to be used in creation of the template in the next step: How your schema generation is started might change depending on your setup. Add Button component 3/5 We then connect the props as defined in our component API that are directly taken from the underlying kickstartDS base component by just passing them through.\n"
     ]
    },
    {
     "name": "stderr",
     "output_type": "stream",
     "text": [
      "/home/codespace/.local/lib/python3.10/site-packages/sklearn/cluster/_kmeans.py:870: FutureWarning: The default value of `n_init` will change from 10 to 'auto' in 1.4. Set the value of `n_init` explicitly to suppress the warning\n",
      "  warnings.warn(\n"
     ]
    },
    {
     "name": "stdout",
     "output_type": "stream",
     "text": [
      "\n",
      "https://www.kickstartDS.com/docs/guides/components/recipe https://www.kickstartDS.com/docs/guides/components/recipe 72 Token, These cookies allow us to count visits and traffic sources so we can measure and improve the performance of our site. They help us to know which pages are the most and least popular and see how visitors move around the site. If you do not allow these cookies we will not know when you have visited our site, and will not be able to monitor its performance.\n"
     ]
    },
    {
     "name": "stderr",
     "output_type": "stream",
     "text": [
      "/home/codespace/.local/lib/python3.10/site-packages/sklearn/cluster/_kmeans.py:870: FutureWarning: The default value of `n_init` will change from 10 to 'auto' in 1.4. Set the value of `n_init` explicitly to suppress the warning\n",
      "  warnings.warn(\n"
     ]
    },
    {
     "name": "stdout",
     "output_type": "stream",
     "text": [
      "\n",
      "https://www.kickstartDS.com/docs/intro/packages https://www.kickstartDS.com/docs/intro/packages 223 Token, Packages Packages in programming are commonly used to divide up code into distinctly (re-)usable blocks of functionality. ( This includes (non-exhaustive): - Generating JSON Schemasready for consumption - Generating TypeScripttypes for auto-completion - Transpiling code to be browser-compatible - Generating CSSbundles from SCSS If you're wondering how you'd do that in your own Design System, have a look at the final step of our main guide \"Create your Design System\". You can find this config on: |Category||Link| npm package registry |https://www.npmjs.com/package/@kickstartds/stylelint-config| |Our |Github mono-repository |https://github.com/kickstartDS/config/tree/master/packages/stylelint| |https://github.com/kickstartDS/config/blob/master/packages/stylelint/CHANGELOG.md| kickstartDS packages The following packages are used for our own purposes.\n",
      "\n",
      "https://www.kickstartDS.com/docs/foundations/components/component-api https://www.kickstartDS.com/docs/foundations/components/component-api 103 Token, Component API Our Component API simplifies processes within the development tool chain by being low-code and increasing the frontend developer experience (DX) and making Design System adoption anti challenging. With „JSON schema“ we lower barriers to a huge number of other softwares Simplification and automation of processes: - adapters to connect headless CMS or interface builders - automatic validation for quality assurance - automatic typing and IDE-completion - generation of documentation inside Storybook We'll heavily expand upon this section, soon.\n"
     ]
    },
    {
     "name": "stderr",
     "output_type": "stream",
     "text": [
      "/home/codespace/.local/lib/python3.10/site-packages/sklearn/cluster/_kmeans.py:870: FutureWarning: The default value of `n_init` will change from 10 to 'auto' in 1.4. Set the value of `n_init` explicitly to suppress the warning\n",
      "  warnings.warn(\n",
      "/home/codespace/.local/lib/python3.10/site-packages/sklearn/cluster/_kmeans.py:870: FutureWarning: The default value of `n_init` will change from 10 to 'auto' in 1.4. Set the value of `n_init` explicitly to suppress the warning\n",
      "  warnings.warn(\n"
     ]
    },
    {
     "name": "stdout",
     "output_type": "stream",
     "text": [
      "\n",
      "https://www.kickstartDS.com/docs/guides/examples/components/headline https://www.kickstartDS.com/docs/guides/examples/components/headline 92 Token, Customize Headline component This guided example shows how you'd add components to your Design System that use a kickstartDS base component pretty directly. see here, at the very end of that section, for more details) We also add our rendering functions and HTMLAttributes to the type signature. Import re-usable Headline Stories... We import the existing Headline Story part of @kickstartDS/base, to re-use all the default settings. ...\n"
     ]
    },
    {
     "name": "stderr",
     "output_type": "stream",
     "text": [
      "/home/codespace/.local/lib/python3.10/site-packages/sklearn/cluster/_kmeans.py:870: FutureWarning: The default value of `n_init` will change from 10 to 'auto' in 1.4. Set the value of `n_init` explicitly to suppress the warning\n",
      "  warnings.warn(\n"
     ]
    },
    {
     "name": "stdout",
     "output_type": "stream",
     "text": [
      "\n",
      "https://www.kickstartDS.com/docs/intro/ https://www.kickstartDS.com/docs/intro/ 157 Token, Introduction to kickstartDS kickstartDS is an Open Source Design System starter and UI toolkit for building up your very own Design System. kickstartDS aims to be the foundation for your Design System, built with reusable components and tools itself, guided by clear standards, that can be adopted and assembled together, to create your products: fast, flexible, responsive, accessible and best of all: you can plug it onto every digital touch point you own! Or you just re-use one of those we've already written for: WordPress, Netlify CMS, Contentful, MDX Next.js Helper Use our starter to have a project running in mere minutes, or use our plugins directly to configure everything the way you like... while still profiting from work already done.\n"
     ]
    },
    {
     "name": "stderr",
     "output_type": "stream",
     "text": [
      "/home/codespace/.local/lib/python3.10/site-packages/sklearn/cluster/_kmeans.py:870: FutureWarning: The default value of `n_init` will change from 10 to 'auto' in 1.4. Set the value of `n_init` explicitly to suppress the warning\n",
      "  warnings.warn(\n"
     ]
    },
    {
     "name": "stdout",
     "output_type": "stream",
     "text": [
      "\n",
      "https://www.kickstartDS.com/docs/foundations/layout/ https://www.kickstartDS.com/docs/foundations/layout/ 59 Token, Layout Layouting helps give context to your components, that were developed in isolation otherwise. They help present and structure your content, supporting consistency across your applications. If you do not allow these cookies we will not know when you have visited our site, and will not be able to monitor its performance.\n"
     ]
    },
    {
     "name": "stderr",
     "output_type": "stream",
     "text": [
      "/home/codespace/.local/lib/python3.10/site-packages/sklearn/cluster/_kmeans.py:870: FutureWarning: The default value of `n_init` will change from 10 to 'auto' in 1.4. Set the value of `n_init` explicitly to suppress the warning\n",
      "  warnings.warn(\n"
     ]
    },
    {
     "name": "stdout",
     "output_type": "stream",
     "text": [
      "\n",
      "https://www.kickstartDS.com/docs/foundations/layout/sections https://www.kickstartDS.com/docs/foundations/layout/sections 182 Token, Follow our main guide to learn how you can \"Create your Design System\" in just 5 steps: Open guide Sections Style A section style is mainly expressed by the given background color. Setting Token Application default --l-section--content-width-default The default frame width narrow --l-section--content-width-narrow A narrow frame width wide --l-section--content-width-wide A wide frame width max --l-section--content-width-max The content spans over the entiere screen full --l-section--content-width-full The content spans over the entiere screen, without content-padding Screen spanning layouts For creating full screen layouts there are options of max and full. This enables us to provide support through chat (try it yourself: click the little button on the bottom right, if you decide to accept cookies), and analyze how people are using our site.\n"
     ]
    },
    {
     "name": "stderr",
     "output_type": "stream",
     "text": [
      "/home/codespace/.local/lib/python3.10/site-packages/sklearn/cluster/_kmeans.py:870: FutureWarning: The default value of `n_init` will change from 10 to 'auto' in 1.4. Set the value of `n_init` explicitly to suppress the warning\n",
      "  warnings.warn(\n"
     ]
    },
    {
     "name": "stdout",
     "output_type": "stream",
     "text": [
      "\n",
      "https://www.kickstartDS.com/docs/guides/create/start https://www.kickstartDS.com/docs/guides/create/start 241 Token, Start your Design System Overview Setting up your own Design System can be done in one of two ways: - By creating a new project for your Design System to live in, or - by adding everything to an existing project Create new project Start in a fresh directory inside your terminal. Next we'll add a .gitignore file to the repository, that will be built up through the following sections to exclude generated code files: Add the node_modules folder to it for now: Then we'll add a .nvmrc file specifying the use of Node 16.14 for this project (this is the version kickstartDS currently works off of) to our project root: Call nvm use right after, to activate the correct Node and npm versions: Finally we'll make it a valid npm package, too: Enter the prompted information, and you'll end up with a package.json describing your freshly made npm package. We'll pretend to start fresh: Add React If your project was not using React before, you should add a compatible version ( kickstartDS currently uses React 17) of it now: Change SemVer requirement We want to get newer versions for React 17, so we change the import slightly!\n"
     ]
    },
    {
     "name": "stderr",
     "output_type": "stream",
     "text": [
      "/home/codespace/.local/lib/python3.10/site-packages/sklearn/cluster/_kmeans.py:870: FutureWarning: The default value of `n_init` will change from 10 to 'auto' in 1.4. Set the value of `n_init` explicitly to suppress the warning\n",
      "  warnings.warn(\n"
     ]
    },
    {
     "name": "stdout",
     "output_type": "stream",
     "text": [
      "\n",
      "https://www.kickstartDS.com/docs/intro/upgrading https://www.kickstartDS.com/docs/intro/upgrading 105 Token, Upgrading We generally try to avoid Breaking Changes, and thus the need for explicit migration. So Breaking Changes will be expressed in the initial number of the version (we're currently on 2.x) To further improve ease of use, and add consistency through good defaults, we use Auto to generate releases based on semantic version labels on pull requests on our Github repository. Learn more about this in our Contribution-Guide, detailling this process of Github Discussions, Issues, Pull Requests, Canaries and releases.\n"
     ]
    },
    {
     "name": "stderr",
     "output_type": "stream",
     "text": [
      "/home/codespace/.local/lib/python3.10/site-packages/sklearn/cluster/_kmeans.py:870: FutureWarning: The default value of `n_init` will change from 10 to 'auto' in 1.4. Set the value of `n_init` explicitly to suppress the warning\n",
      "  warnings.warn(\n"
     ]
    },
    {
     "name": "stdout",
     "output_type": "stream",
     "text": [
      "\n",
      "https://www.kickstartDS.com/docs/guides/create/storybook https://www.kickstartDS.com/docs/guides/create/storybook 205 Token, Configure Storybook Overview We use Storybook for a lot of different useful features it offers. We also tell it to put those Storybook specific files into our already existing src/token directory: With that change, re-build your Design Token set: You'll notice it now writes two additional files for you, specifically for the Storybook integration: Annotated tokens.css Those are all of our Design Token converted to CSS custom properties (as with src/token/tokens.css), but with the correct storybook-design-token presenters already added. You can follow the progress for this on the following ticket: kickstartDS/storybook-addon-jsonschema/issues/19 Review changes Let us review our package.json again now, it's starting to grow already: HTML rendering addon We use @whitespace/storybook-addon-html to add a tab to every component Canvas sidebar, where you can copy the currently configured component as a plain HTML component.\n",
      "\n",
      "https://www.kickstartDS.com/docs/foundations/token/design-token/shadow https://www.kickstartDS.com/docs/foundations/token/design-token/shadow 66 Token, Core Token Opacity |Token| Color The color token is an rgba value that features opacity as the alpha value. |Token| Semantic Token Shadow Types Every shadow type also has a hover concept. Control --ks-box-shadow-control --ks-box-shadow-control-hover For small horizontally stretched elements.\n"
     ]
    },
    {
     "name": "stderr",
     "output_type": "stream",
     "text": [
      "/home/codespace/.local/lib/python3.10/site-packages/sklearn/cluster/_kmeans.py:870: FutureWarning: The default value of `n_init` will change from 10 to 'auto' in 1.4. Set the value of `n_init` explicitly to suppress the warning\n",
      "  warnings.warn(\n",
      "/home/codespace/.local/lib/python3.10/site-packages/sklearn/cluster/_kmeans.py:870: FutureWarning: The default value of `n_init` will change from 10 to 'auto' in 1.4. Set the value of `n_init` explicitly to suppress the warning\n",
      "  warnings.warn(\n"
     ]
    },
    {
     "name": "stdout",
     "output_type": "stream",
     "text": [
      "\n",
      "https://www.kickstartDS.com/docs/foundations/token/design-token/spacing https://www.kickstartDS.com/docs/foundations/token/design-token/spacing 77 Token, Core Token |Spacing||Token| Semantic Token Spacing Content Inset --ks-spacing-inset-m Even padding. Inset Squish --ks-spacing-inset-squish-m Reduced top and bottom padding, resulting in a vertically condensed visual display. Figma See the following Page in our Figma tokens file for a visual representation:\n",
      "\n",
      "https://www.kickstartDS.com/docs/integration/frameworks/gatsby https://www.kickstartDS.com/docs/integration/frameworks/gatsby 114 Token, Gatsby Gatsby is a framework helping developers build websites faster and with better results overall, while being compatible with a wide range of other systems out-of-the-box. You can see the Gatsby theme in action today, on our own website: https://www.kickstartDS.com To learn more about Gatsby, visit their official website. Other It will also handle the following things for you out-of-the-box: - Integrated SEO independent of used source systems - Centralized menu concept - Performance optimization Interested?\n"
     ]
    },
    {
     "name": "stderr",
     "output_type": "stream",
     "text": [
      "/home/codespace/.local/lib/python3.10/site-packages/sklearn/cluster/_kmeans.py:870: FutureWarning: The default value of `n_init` will change from 10 to 'auto' in 1.4. Set the value of `n_init` explicitly to suppress the warning\n",
      "  warnings.warn(\n",
      "/home/codespace/.local/lib/python3.10/site-packages/sklearn/cluster/_kmeans.py:870: FutureWarning: The default value of `n_init` will change from 10 to 'auto' in 1.4. Set the value of `n_init` explicitly to suppress the warning\n",
      "  warnings.warn(\n"
     ]
    },
    {
     "name": "stdout",
     "output_type": "stream",
     "text": [
      "\n",
      "https://www.kickstartDS.com/docs/foundations/token/design-token/border https://www.kickstartDS.com/docs/foundations/token/design-token/border 70 Token, Border Width |Token||Description| |The default width for elements featuring a border| |For highlighting important elements| Radius Control --ks-border-radius-control For small horizontally stretched elements. Card --ks-border-radius-card For medium sized vertically stretched elements. Surface --ks-border-radius-surface For large screen covering elements.\n"
     ]
    },
    {
     "name": "stderr",
     "output_type": "stream",
     "text": [
      "/home/codespace/.local/lib/python3.10/site-packages/sklearn/cluster/_kmeans.py:870: FutureWarning: The default value of `n_init` will change from 10 to 'auto' in 1.4. Set the value of `n_init` explicitly to suppress the warning\n",
      "  warnings.warn(\n"
     ]
    },
    {
     "name": "stdout",
     "output_type": "stream",
     "text": [
      "\n",
      "https://www.kickstartDS.com/docs/guides/examples/components/interstitial https://www.kickstartDS.com/docs/guides/examples/components/interstitial 134 Token, Create Interstitial component This guided example show how to find a fitting, existing kickstartDS base component for one of your use cases, to repurpose it. Overview More concretely: what we're building up to in this example... and for the sake of imagination, assume this was what your designer cooked up: This will be done in three simple steps: - Component Definition, - Component Mapping, and - Component Creation For more details about those steps, have a look at the guide about different component processes and their shared structure. While directly helping us get a better grasp on our new component, these will also be used to write our JSON Schema later!\n",
      "\n",
      "https://www.kickstartDS.com/docs/feedback/ https://www.kickstartDS.com/docs/feedback/ 49 Token, If that's not your cup of tea, you can also reach out to us: - Through the chat widget, included in all of our public facing websites - By writing us an email - By joining us on Twitter - By writing us on WhatsApp\n",
      "\n",
      "https://www.kickstartDS.com/docs/foundations/token/branding-token https://www.kickstartDS.com/docs/foundations/token/branding-token 43 Token, Branding Token When selecting branding token to create your initial Design Token set, you apply basic corporate design elements to the Design System. Breakpoints Set the screen sizes from which on the according breakpoint will be applied.\n"
     ]
    },
    {
     "name": "stderr",
     "output_type": "stream",
     "text": [
      "/home/codespace/.local/lib/python3.10/site-packages/sklearn/cluster/_kmeans.py:870: FutureWarning: The default value of `n_init` will change from 10 to 'auto' in 1.4. Set the value of `n_init` explicitly to suppress the warning\n",
      "  warnings.warn(\n",
      "/home/codespace/.local/lib/python3.10/site-packages/sklearn/cluster/_kmeans.py:870: FutureWarning: The default value of `n_init` will change from 10 to 'auto' in 1.4. Set the value of `n_init` explicitly to suppress the warning\n",
      "  warnings.warn(\n"
     ]
    },
    {
     "name": "stdout",
     "output_type": "stream",
     "text": [
      "\n",
      "https://www.kickstartDS.com/docs/foundations/token/component-token https://www.kickstartDS.com/docs/foundations/token/component-token 59 Token, Component Token Component Token are a representation of values associated with a specific component. Whenever possible, we recommend to keep pointing these to the foundational token, rather than change into hard values such as hex codes. Nevertheless you can use these to fully match a components appearance to a given design layout or specification.\n"
     ]
    },
    {
     "name": "stderr",
     "output_type": "stream",
     "text": [
      "/home/codespace/.local/lib/python3.10/site-packages/sklearn/cluster/_kmeans.py:870: FutureWarning: The default value of `n_init` will change from 10 to 'auto' in 1.4. Set the value of `n_init` explicitly to suppress the warning\n",
      "  warnings.warn(\n",
      "/home/codespace/.local/lib/python3.10/site-packages/sklearn/cluster/_kmeans.py:870: FutureWarning: The default value of `n_init` will change from 10 to 'auto' in 1.4. Set the value of `n_init` explicitly to suppress the warning\n",
      "  warnings.warn(\n"
     ]
    },
    {
     "name": "stdout",
     "output_type": "stream",
     "text": [
      "\n",
      "https://www.kickstartDS.com/docs/integration/storybook/token https://www.kickstartDS.com/docs/integration/storybook/token 100 Token, Design & Component Token Design Token Integration To display your Design Token set in Storybook we use and recommend the storybook-design-token addon. We also provide ready-to-use docs pages for Storybook, using the DesignTokenDocBlock by storybook-design-token, mapped to our semantic Design Token categories and values. Component Token integration Our storybook-adddon-component-tokens addon displays CSS Custom Properties used inside a component directly as part of your Storybook.\n",
      "\n",
      "https://www.kickstartDS.com/docs/guides/examples/recipes/article-teaser https://www.kickstartDS.com/docs/guides/examples/recipes/article-teaser 62 Token, Article Teaser recipe We're currently finishing up this recipe! They help us to know which pages are the most and least popular and see how visitors move around the site. If you do not allow these cookies we will not know when you have visited our site, and will not be able to monitor its performance.\n"
     ]
    },
    {
     "name": "stderr",
     "output_type": "stream",
     "text": [
      "/home/codespace/.local/lib/python3.10/site-packages/sklearn/cluster/_kmeans.py:870: FutureWarning: The default value of `n_init` will change from 10 to 'auto' in 1.4. Set the value of `n_init` explicitly to suppress the warning\n",
      "  warnings.warn(\n"
     ]
    },
    {
     "name": "stdout",
     "output_type": "stream",
     "text": [
      "\n",
      "https://www.kickstartDS.com/docs/guides/create/ https://www.kickstartDS.com/docs/guides/create/ 152 Token, Create your Design System Overview In this guide we'll get your first Design System, based on kickstartDS of course, off the ground in just 5 rather simple steps! The main steps involved go as follows: - Start your Design System - Design Application - Configure Storybook - Add Components - Publish your Design System The resulting Design System will obviously not be finished by the end of this guide, but you'll have everything set up to start on the real work. We'll add links along the way when it makes sense, calling out concepts at play, or processes to use, to find and refine your own personalized worfklow with kickstartDS, and ultimately your own Design System (stuff like choosing an initial component set for your Design System).\n"
     ]
    },
    {
     "name": "stderr",
     "output_type": "stream",
     "text": [
      "/home/codespace/.local/lib/python3.10/site-packages/sklearn/cluster/_kmeans.py:870: FutureWarning: The default value of `n_init` will change from 10 to 'auto' in 1.4. Set the value of `n_init` explicitly to suppress the warning\n",
      "  warnings.warn(\n",
      "/home/codespace/.local/lib/python3.10/site-packages/sklearn/cluster/_kmeans.py:870: FutureWarning: The default value of `n_init` will change from 10 to 'auto' in 1.4. Set the value of `n_init` explicitly to suppress the warning\n",
      "  warnings.warn(\n"
     ]
    },
    {
     "name": "stdout",
     "output_type": "stream",
     "text": [
      "\n",
      "https://www.kickstartDS.com/docs/intro/cli https://www.kickstartDS.com/docs/intro/cli 182 Token, kickstartDS CLI About The kickstartDS CLI helps ease everyday tasks when working with Design Systems, especially when building on and with kickstartDS. This is the one defining kickstartDS tokens compile: https://github.com/kickstartDS/kickstartDS-cli/blob/next/.tokens-compilerc.schema.json There's also a base config included for every command, which provides the defaults in case --rc-only is supplied without a local .rc file in your project, or if that .rc file is missing some values. |Command||Subcommand||Description| |Initialize your |Design Token set from Branding Token |Compile your |Design Token set into all configured Style Dictionary formats / outputs |Sync your |Design Token set to Figma (work in progress) Schema category: Commands around working with your JSON Schema.\n",
      "\n",
      "https://www.kickstartDS.com/docs/guides/examples/components/ https://www.kickstartDS.com/docs/guides/examples/components/ 60 Token, Components Components are the main building blocks for any user interface. Using reusable components will enhance your product development workflow by reducing design and tech debt and speeding up the process. Following we provide some examples on how customize the compoentns contained in kickstartdS, to make them your own.\n"
     ]
    },
    {
     "name": "stderr",
     "output_type": "stream",
     "text": [
      "/home/codespace/.local/lib/python3.10/site-packages/sklearn/cluster/_kmeans.py:870: FutureWarning: The default value of `n_init` will change from 10 to 'auto' in 1.4. Set the value of `n_init` explicitly to suppress the warning\n",
      "  warnings.warn(\n",
      "/home/codespace/.local/lib/python3.10/site-packages/sklearn/cluster/_kmeans.py:870: FutureWarning: The default value of `n_init` will change from 10 to 'auto' in 1.4. Set the value of `n_init` explicitly to suppress the warning\n",
      "  warnings.warn(\n"
     ]
    },
    {
     "name": "stdout",
     "output_type": "stream",
     "text": [
      "\n",
      "https://www.kickstartDS.com/docs/concepts/ https://www.kickstartDS.com/docs/concepts/ 83 Token, Concepts We'll add content to this section soon, in the meantime: let us know what you'd like to read and learn about! We'll add content to this section soon, in the meantime: let us know what you'd like to read and learn about! If you do not allow these cookies we will not know when you have visited our site, and will not be able to monitor its performance.\n",
      "\n",
      "https://www.kickstartDS.com/docs/foundations/token/ https://www.kickstartDS.com/docs/foundations/token/ 77 Token, Based on the values they store, they are usually used across multiple tools and platforms to ensure consistence and matching brand identity. The single source of truth to name and store a design decision, distributed so teams can use it across design tools and coding languages. -W3C Design Token Community Group Inherit Token Level kickstartDS differentiates between Branding, Design and Component Token.\n"
     ]
    },
    {
     "name": "stderr",
     "output_type": "stream",
     "text": [
      "/home/codespace/.local/lib/python3.10/site-packages/sklearn/cluster/_kmeans.py:870: FutureWarning: The default value of `n_init` will change from 10 to 'auto' in 1.4. Set the value of `n_init` explicitly to suppress the warning\n",
      "  warnings.warn(\n",
      "/home/codespace/.local/lib/python3.10/site-packages/sklearn/cluster/_kmeans.py:870: FutureWarning: The default value of `n_init` will change from 10 to 'auto' in 1.4. Set the value of `n_init` explicitly to suppress the warning\n",
      "  warnings.warn(\n"
     ]
    },
    {
     "name": "stdout",
     "output_type": "stream",
     "text": [
      "\n",
      "https://www.kickstartDS.com/docs/guides/components/adapt https://www.kickstartDS.com/docs/guides/components/adapt 128 Token, Adapt a component Overview Adapting a component means to use the component \"directly\". You might need a slightly different version of the component, or its props (learn more in our guide \"Customize a component\", or view \"Customize Headline component\" as an example), or you may want to add something completely new to it (learn more in our guide \"Extend a component\", or view \"Extend Section component\" as an example). Adapt Button component In this example component guide we adapt the Button component (as part of the @kickstartDS/base module) to use it for buttons in our own Design System.\n",
      "\n",
      "https://www.kickstartDS.com/docs/guides/examples/ https://www.kickstartDS.com/docs/guides/examples/ 48 Token, Examples Those are guides showing, in detail, how you could potentially create components. They should act as inspiration, and hopefully you'll develop a feeling for the concepts at play. It should start to feel natural after following a bunch of them!\n"
     ]
    },
    {
     "name": "stderr",
     "output_type": "stream",
     "text": [
      "/home/codespace/.local/lib/python3.10/site-packages/sklearn/cluster/_kmeans.py:870: FutureWarning: The default value of `n_init` will change from 10 to 'auto' in 1.4. Set the value of `n_init` explicitly to suppress the warning\n",
      "  warnings.warn(\n",
      "/home/codespace/.local/lib/python3.10/site-packages/sklearn/cluster/_kmeans.py:870: FutureWarning: The default value of `n_init` will change from 10 to 'auto' in 1.4. Set the value of `n_init` explicitly to suppress the warning\n",
      "  warnings.warn(\n"
     ]
    },
    {
     "name": "stdout",
     "output_type": "stream",
     "text": [
      "\n",
      "https://www.kickstartDS.com/docs/FAQ https://www.kickstartDS.com/docs/FAQ 87 Token, Frequently Asked Questions We'll add a more comprehensive FAQ soon, please tell us your questions... we'll make sure to include answers to them here! React How can I debug components re-rendering too often / in an infinite loop? While Next.js doesn't transpile modules that are installed via NPM, you need to customize the Babel configuration or use the next-transpile-modules plugin (recommended).\n",
      "\n",
      "https://www.kickstartDS.com/docs/integration/storybook/ https://www.kickstartDS.com/docs/integration/storybook/ 62 Token, Storybook Integrating well with Storybook means giving all the users of your Design System the best experience possible. It should be the perfect workbench, welcoming every type of stakeholder! You can set your browser to block or alert you about these cookies, but some parts of the site will not then work.\n"
     ]
    },
    {
     "name": "stderr",
     "output_type": "stream",
     "text": [
      "/home/codespace/.local/lib/python3.10/site-packages/sklearn/cluster/_kmeans.py:870: FutureWarning: The default value of `n_init` will change from 10 to 'auto' in 1.4. Set the value of `n_init` explicitly to suppress the warning\n",
      "  warnings.warn(\n",
      "/home/codespace/.local/lib/python3.10/site-packages/sklearn/cluster/_kmeans.py:870: FutureWarning: The default value of `n_init` will change from 10 to 'auto' in 1.4. Set the value of `n_init` explicitly to suppress the warning\n",
      "  warnings.warn(\n"
     ]
    },
    {
     "name": "stdout",
     "output_type": "stream",
     "text": [
      "\n",
      "https://www.kickstartDS.com/docs/foundations/components/styling https://www.kickstartDS.com/docs/foundations/components/styling 67 Token, Styling This foundations page will follow soon, please have a look back here soon! They help us to know which pages are the most and least popular and see how visitors move around the site. If you do not allow these cookies we will not know when you have visited our site, and will not be able to monitor its performance.\n",
      "\n",
      "https://www.kickstartDS.com/docs/foundations/components/ https://www.kickstartDS.com/docs/foundations/components/ 61 Token, Components Components are the main building blocks for any user interface. Using a reusable component library will enhance your product development workflow by reducing design and tech debt and speeding up the process. You can set your browser to block or alert you about these cookies, but some parts of the site will not then work.\n"
     ]
    },
    {
     "name": "stderr",
     "output_type": "stream",
     "text": [
      "/home/codespace/.local/lib/python3.10/site-packages/sklearn/cluster/_kmeans.py:870: FutureWarning: The default value of `n_init` will change from 10 to 'auto' in 1.4. Set the value of `n_init` explicitly to suppress the warning\n",
      "  warnings.warn(\n"
     ]
    },
    {
     "name": "stdout",
     "output_type": "stream",
     "text": [
      "\n",
      "https://www.kickstartDS.com/docs/guides/create/components https://www.kickstartDS.com/docs/guides/create/components 174 Token, Add Components Now we'll get to the meat of it... adding our first set of components based on kickstartDS. Those are most definitely not exhausting, but they serve as a good introduction: Adapta component ( Button) Createa component ( Headline) Customizea component ( TeaserCard) Extenda component ( Section) We'll follow one guide for each of those general workflows, resulting in the four planned components being added to our Design System. The result will look like this: Choose your own adventure: |Path||Link| |Follow the Component example guide||Create | |Read the process description||Customize a component| |Look at the Code Sandbox||see below| See the completed example in a Code Sandbox below: Toggle the file browser with the hamburger icon at the top left, or open it directly in your browser.\n"
     ]
    },
    {
     "name": "stderr",
     "output_type": "stream",
     "text": [
      "/home/codespace/.local/lib/python3.10/site-packages/sklearn/cluster/_kmeans.py:870: FutureWarning: The default value of `n_init` will change from 10 to 'auto' in 1.4. Set the value of `n_init` explicitly to suppress the warning\n",
      "  warnings.warn(\n"
     ]
    },
    {
     "name": "stdout",
     "output_type": "stream",
     "text": [
      "\n",
      "https://www.kickstartDS.com/docs/foundations/components/template https://www.kickstartDS.com/docs/foundations/components/template 66 Token, Template This foundations page will follow soon, please have a look back here soon! They help us to know which pages are the most and least popular and see how visitors move around the site. If you do not allow these cookies we will not know when you have visited our site, and will not be able to monitor its performance.\n"
     ]
    },
    {
     "name": "stderr",
     "output_type": "stream",
     "text": [
      "/home/codespace/.local/lib/python3.10/site-packages/sklearn/cluster/_kmeans.py:870: FutureWarning: The default value of `n_init` will change from 10 to 'auto' in 1.4. Set the value of `n_init` explicitly to suppress the warning\n",
      "  warnings.warn(\n"
     ]
    },
    {
     "name": "stdout",
     "output_type": "stream",
     "text": [
      "\n",
      "https://www.kickstartDS.com/docs/foundations/modules https://www.kickstartDS.com/docs/foundations/modules 98 Token, Component Modules kickstartDS comes with different component modules which are all built on top of each other. If you want to learn more about this, take a deeper look into the according information at mozilla.org: CSS Container Queries Base Module Open Source The kickstartDS Base Module is our comprehensive component library enabling development teams to create consistent and brand compliant web frontends super efficiently. everything you need to build beautiful content experiences or to enrich your existing Design System Do you miss something?\n"
     ]
    },
    {
     "name": "stderr",
     "output_type": "stream",
     "text": [
      "/home/codespace/.local/lib/python3.10/site-packages/sklearn/cluster/_kmeans.py:870: FutureWarning: The default value of `n_init` will change from 10 to 'auto' in 1.4. Set the value of `n_init` explicitly to suppress the warning\n",
      "  warnings.warn(\n"
     ]
    },
    {
     "name": "stdout",
     "output_type": "stream",
     "text": [
      "\n",
      "https://www.kickstartDS.com/docs/guides/examples/components/teaser-card https://www.kickstartDS.com/docs/guides/examples/components/teaser-card 177 Token, Create TeaserCard component This guided example show how to find a fitting, existing kickstartDS base component for one of your use cases, to repurpose it. Start with an existing TeaserBox component variant We'll start by copying the JSX code for the Linked With Button variant of our TeaserBox component, from here: https://www.kickstartds.com/storybook/?path=/docs/base-teaser-box--linked-with-button Remove all of the unneeded stuff There are a bunch of properties that are completely optional in the copied JSX, or ones which just state the default value of that property anyway. This will be a purely functional React component, mapping our component structure (as defined in the JSON Schema) to the original component we're basing our work off of; the kickstartDS Storytelling component.\n",
      "\n",
      "https://www.kickstartDS.com/docs/roadmap https://www.kickstartDS.com/docs/roadmap 132 Token, Roadmap As we just released kickstartDS with the first version of this documentation, we know, that we still have to work on many details to let our documentation shine. Planned  Full check accessibility Complete Documentation Add Concepts Add more guides Add Recipes Refine roadmap  v2.0 (current version)  Open Source release  v1.5 Community We try to have a healthy, friendly and active community. If that's not your cup of tea, you can also reach out to us: - Through the chat widget, included in all of our public facing websites - By writing us an email - By joining us on Twitter - By writing us on WhatsApp\n"
     ]
    },
    {
     "name": "stderr",
     "output_type": "stream",
     "text": [
      "/home/codespace/.local/lib/python3.10/site-packages/sklearn/cluster/_kmeans.py:870: FutureWarning: The default value of `n_init` will change from 10 to 'auto' in 1.4. Set the value of `n_init` explicitly to suppress the warning\n",
      "  warnings.warn(\n",
      "/home/codespace/.local/lib/python3.10/site-packages/sklearn/cluster/_kmeans.py:870: FutureWarning: The default value of `n_init` will change from 10 to 'auto' in 1.4. Set the value of `n_init` explicitly to suppress the warning\n",
      "  warnings.warn(\n"
     ]
    },
    {
     "name": "stdout",
     "output_type": "stream",
     "text": [
      "\n",
      "https://www.kickstartDS.com/docs/guides/create/publish https://www.kickstartDS.com/docs/guides/create/publish 66 Token, Publish your Design System We're currently in the process of writing this part! They help us to know which pages are the most and least popular and see how visitors move around the site. If you do not allow these cookies we will not know when you have visited our site, and will not be able to monitor its performance.\n",
      "\n",
      "https://www.kickstartDS.com/docs/integration/frameworks/ https://www.kickstartDS.com/docs/integration/frameworks/ 89 Token, Frameworks Integration with common React frameworks can really speed up adoption, and make the difference between a successful Design System... and one that fails! If you do not allow these cookies we will not know when you have visited our site, and will not be able to monitor its performance. They are usually only set in response to actions made by you which amount to a request for services, such as setting your privacy preferences, logging in or filling in forms.\n"
     ]
    },
    {
     "name": "stderr",
     "output_type": "stream",
     "text": [
      "/home/codespace/.local/lib/python3.10/site-packages/sklearn/cluster/_kmeans.py:870: FutureWarning: The default value of `n_init` will change from 10 to 'auto' in 1.4. Set the value of `n_init` explicitly to suppress the warning\n",
      "  warnings.warn(\n",
      "/home/codespace/.local/lib/python3.10/site-packages/sklearn/cluster/_kmeans.py:870: FutureWarning: The default value of `n_init` will change from 10 to 'auto' in 1.4. Set the value of `n_init` explicitly to suppress the warning\n",
      "  warnings.warn(\n"
     ]
    },
    {
     "name": "stdout",
     "output_type": "stream",
     "text": [
      "\n",
      "https://www.kickstartDS.com/docs/integration/storybook/controls https://www.kickstartDS.com/docs/integration/storybook/controls 153 Token, Generated Controls Using Controls, and the Controls addon, is one of the main reasons for choosing Storybook. This is the JSON Schema we've defined for an adapted version of it, as part of the \"Create your Design System\" guide: Using our helpers inside your story files automatically generates the following Controls for our Button, while also generating the full documentation block for the Docs view Story The corresponding story for our Button might look a little like this when adding all our helpers: Import helpers and schema First we import all helpers we'll use, and the dereferenced version ouf our components JSON Schema. Get Args and ArgTypes We pull out args (as defaultArgs) and argTypes for our schema out of getArgsShared.\n"
     ]
    },
    {
     "name": "stderr",
     "output_type": "stream",
     "text": [
      "/home/codespace/.local/lib/python3.10/site-packages/sklearn/cluster/_kmeans.py:870: FutureWarning: The default value of `n_init` will change from 10 to 'auto' in 1.4. Set the value of `n_init` explicitly to suppress the warning\n",
      "  warnings.warn(\n"
     ]
    },
    {
     "name": "stdout",
     "output_type": "stream",
     "text": [
      "\n",
      "https://www.kickstartDS.com/docs/foundations/components/anatomy https://www.kickstartDS.com/docs/foundations/components/anatomy 147 Token, Anatomy Component driven development We strongly follow component driven development: https://www.componentdriven.org/ Overview of layers Different layers: - Branding Token - Design Token - Component Token - (S)CSS - JavaScript - HTML / Markup - React & TypeScript - JSON Schema Branding Token Branding Token are the most basic, and high-level, elements influencing a component. Design Token Generated by Branding Token these act as inputs, to be converted and used in your Component Token to break down Design System rules into component rules to re-use. React & TypeScript Although kickstartDS components are basically framework agnostic, each component is also shipped as a fully typed and ready to use React component.\n"
     ]
    },
    {
     "name": "stderr",
     "output_type": "stream",
     "text": [
      "/home/codespace/.local/lib/python3.10/site-packages/sklearn/cluster/_kmeans.py:870: FutureWarning: The default value of `n_init` will change from 10 to 'auto' in 1.4. Set the value of `n_init` explicitly to suppress the warning\n",
      "  warnings.warn(\n",
      "/home/codespace/.local/lib/python3.10/site-packages/sklearn/cluster/_kmeans.py:870: FutureWarning: The default value of `n_init` will change from 10 to 'auto' in 1.4. Set the value of `n_init` explicitly to suppress the warning\n",
      "  warnings.warn(\n"
     ]
    },
    {
     "name": "stdout",
     "output_type": "stream",
     "text": [
      "\n",
      "https://www.kickstartDS.com/docs/foundations/token/design-token/typo https://www.kickstartDS.com/docs/foundations/token/design-token/typo 58 Token, Typography Typography is one of the main ways you surface content in products. dolor sit amet Almost before we knew it, we had left the ground. dolor sit amet Semantic Token Font package A combination of font-size, font-family and line-height.\n",
      "\n",
      "https://www.kickstartDS.com/docs/foundations/components/react https://www.kickstartDS.com/docs/foundations/components/react 0 Token, \n",
      "\n",
      "https://www.kickstartDS.com/docs/foundations/token/design-token/breakpoints https://www.kickstartDS.com/docs/foundations/token/design-token/breakpoints 57 Token, They are used to generate scales of font sizes and spacing for different screen sizes. Only one CSS custom property is created, which is read via JavaScript and used to inform components about a breakpoint change. So if you write custom styles, you have to write the media query declaration manually.\n"
     ]
    },
    {
     "name": "stderr",
     "output_type": "stream",
     "text": [
      "/home/codespace/.local/lib/python3.10/site-packages/sklearn/cluster/_kmeans.py:870: FutureWarning: The default value of `n_init` will change from 10 to 'auto' in 1.4. Set the value of `n_init` explicitly to suppress the warning\n",
      "  warnings.warn(\n"
     ]
    },
    {
     "name": "stdout",
     "output_type": "stream",
     "text": [
      "\n",
      "https://www.kickstartDS.com/docs/foundations/token/design-token/color https://www.kickstartDS.com/docs/foundations/token/design-token/color 101 Token, Color palette |Token||Description| |High priority elements| |Default foreground color, most prevelant in copy text.| |Hyperlink color| |Elements featuring transparency| Color scales kickstartDS generates color scales based on your Core Token. With a linear scaling the distance between the shades would be too large. alpha/to-bg scale opacity/bg-mixin |to-bg| |alpha| Semantic Token Color variants |Variant||Description| |Highlights elements.\n"
     ]
    },
    {
     "name": "stderr",
     "output_type": "stream",
     "text": [
      "/home/codespace/.local/lib/python3.10/site-packages/sklearn/cluster/_kmeans.py:870: FutureWarning: The default value of `n_init` will change from 10 to 'auto' in 1.4. Set the value of `n_init` explicitly to suppress the warning\n",
      "  warnings.warn(\n",
      "/home/codespace/.local/lib/python3.10/site-packages/sklearn/cluster/_kmeans.py:870: FutureWarning: The default value of `n_init` will change from 10 to 'auto' in 1.4. Set the value of `n_init` explicitly to suppress the warning\n",
      "  warnings.warn(\n"
     ]
    },
    {
     "name": "stdout",
     "output_type": "stream",
     "text": [
      "\n",
      "https://www.kickstartDS.com/docs/integration/frameworks/nextjs https://www.kickstartDS.com/docs/integration/frameworks/nextjs 78 Token, Next.js We've already implemented a bunch of Next.js based apps and pages using kickstartDS successfully. It's compatible pretty much out-of-the-box, only some slight transpilation may be needed (see below on how to do that). There's some obvious overlap between Next.js and kickstartDS in the choice of React as the frontend technology.\n",
      "\n",
      "https://www.kickstartDS.com/docs/foundations/token/design-token/depth https://www.kickstartDS.com/docs/foundations/token/design-token/depth 92 Token, |Token||Description| |For modal elements that overlap the default content| The token can be found in depth.json. |Token||Description| |For modal elements that overlap the default content| These cookies allow us to count visits and traffic sources so we can measure and improve the performance of our site. If you do not allow these cookies we will not know when you have visited our site, and will not be able to monitor its performance.\n"
     ]
    },
    {
     "name": "stderr",
     "output_type": "stream",
     "text": [
      "/home/codespace/.local/lib/python3.10/site-packages/sklearn/cluster/_kmeans.py:870: FutureWarning: The default value of `n_init` will change from 10 to 'auto' in 1.4. Set the value of `n_init` explicitly to suppress the warning\n",
      "  warnings.warn(\n"
     ]
    },
    {
     "name": "stdout",
     "output_type": "stream",
     "text": [
      "\n",
      "https://www.kickstartDS.com/docs/integration/react/image-rendering https://www.kickstartDS.com/docs/integration/react/image-rendering 64 Token, Image Rendering This guide is coming soon, please come back later! They help us to know which pages are the most and least popular and see how visitors move around the site. If you do not allow these cookies we will not know when you have visited our site, and will not be able to monitor its performance.\n"
     ]
    },
    {
     "name": "stderr",
     "output_type": "stream",
     "text": [
      "/home/codespace/.local/lib/python3.10/site-packages/sklearn/cluster/_kmeans.py:870: FutureWarning: The default value of `n_init` will change from 10 to 'auto' in 1.4. Set the value of `n_init` explicitly to suppress the warning\n",
      "  warnings.warn(\n"
     ]
    },
    {
     "name": "stdout",
     "output_type": "stream",
     "text": [
      "\n",
      "https://www.kickstartDS.com/docs/guides/components/customize https://www.kickstartDS.com/docs/guides/components/customize 111 Token, Customize a component Overview Customizing a component should be part of your arsenal if you already have a specific kickstartDS component in mind, but it's missing a certain feature that you require. Adaptation process as a base line If you've read our \"Adapt a component\" guide you probably already know this: This guide expects you to reduce the set of props offered by kickstartDS components, when used as a base component. For the full version of customizing a Headline have a look at our \"Customize Headline component\" guide.\n"
     ]
    },
    {
     "name": "stderr",
     "output_type": "stream",
     "text": [
      "/home/codespace/.local/lib/python3.10/site-packages/sklearn/cluster/_kmeans.py:870: FutureWarning: The default value of `n_init` will change from 10 to 'auto' in 1.4. Set the value of `n_init` explicitly to suppress the warning\n",
      "  warnings.warn(\n"
     ]
    },
    {
     "name": "stdout",
     "output_type": "stream",
     "text": [
      "\n",
      "https://www.kickstartDS.com/docs/integration/storybook/theming https://www.kickstartDS.com/docs/integration/storybook/theming 112 Token, But while this might seem like a small thing, it can really help make your Storybook feel like home. That transformer takes your Design Token set and converts it to JavaScript values that can be imported in Storybooks theme file ( .storybook/themes.js). Example Have a look at our very own kickstartDS instance to see our colors (as an example) at work: To learn how to use this in your own Storybook, have a look at part three of our \"Create your Design System\" guide for an in-depth explanation.\n"
     ]
    },
    {
     "name": "stderr",
     "output_type": "stream",
     "text": [
      "/home/codespace/.local/lib/python3.10/site-packages/sklearn/cluster/_kmeans.py:870: FutureWarning: The default value of `n_init` will change from 10 to 'auto' in 1.4. Set the value of `n_init` explicitly to suppress the warning\n",
      "  warnings.warn(\n"
     ]
    },
    {
     "name": "stdout",
     "output_type": "stream",
     "text": [
      "\n",
      "https://www.kickstartDS.com/docs/guides/create/design https://www.kickstartDS.com/docs/guides/create/design 227 Token, Design Application Overview Applying your branding and corporate design to kickstartDS is itself done in roughly two steps: - Use a reduced set of Branding Tokento generate your initial Design Tokenset - Fine tune the resulting Design Tokenset to closely fit your corporate identity Apply branding Initialization We start by creating a file branding-token.json, inside a new directory src/token... for everything to do with Design Token going forward: This file will hold all of our Branding Token. Customize foreground and link colors For this guide we'll have just change the foreground color, but this will influence how elements and text are rendered in components. kickstartDS Integration First, add the kickstartDS CLI to your project: Read more about our CLI here Then add the following two additional lines to your package.json scripts block: init-tokens is used to convert your Branding Token ( branding-token.json) into a Style Dictionary compatible Design Token set (a bunch of JSON files), whereas build-tokens takes your Design Token set, and converts it to the outputs needed to use and display your Design System.\n"
     ]
    },
    {
     "name": "stderr",
     "output_type": "stream",
     "text": [
      "/home/codespace/.local/lib/python3.10/site-packages/sklearn/cluster/_kmeans.py:870: FutureWarning: The default value of `n_init` will change from 10 to 'auto' in 1.4. Set the value of `n_init` explicitly to suppress the warning\n",
      "  warnings.warn(\n"
     ]
    },
    {
     "name": "stdout",
     "output_type": "stream",
     "text": [
      "\n",
      "https://www.kickstartDS.com/docs/guides/components/extend https://www.kickstartDS.com/docs/guides/components/extend 106 Token, Extend a component Overview Extending a component takes a kickstartDS component and expands upon its abilities. Adaptation process as a base line If you've read our \"Adapt a component\" guide you probably already know this: This guide expects you to reduce the set of props offered by kickstartDS components, when used as a base component. Extend Section component In this example component guide we extend the Section component (as part of the @kickstartDS/base module) to use it for sections in our own Design System.\n"
     ]
    },
    {
     "name": "stderr",
     "output_type": "stream",
     "text": [
      "/home/codespace/.local/lib/python3.10/site-packages/sklearn/cluster/_kmeans.py:870: FutureWarning: The default value of `n_init` will change from 10 to 'auto' in 1.4. Set the value of `n_init` explicitly to suppress the warning\n",
      "  warnings.warn(\n",
      "/home/codespace/.local/lib/python3.10/site-packages/sklearn/cluster/_kmeans.py:870: FutureWarning: The default value of `n_init` will change from 10 to 'auto' in 1.4. Set the value of `n_init` explicitly to suppress the warning\n",
      "  warnings.warn(\n",
      "/home/codespace/.local/lib/python3.10/site-packages/sklearn/cluster/_kmeans.py:870: FutureWarning: The default value of `n_init` will change from 10 to 'auto' in 1.4. Set the value of `n_init` explicitly to suppress the warning\n",
      "  warnings.warn(\n"
     ]
    },
    {
     "name": "stdout",
     "output_type": "stream",
     "text": [
      "\n",
      "https://www.kickstartDS.com/docs/integration/storybook/schema https://www.kickstartDS.com/docs/integration/storybook/schema 167 Token, JSON Schema Overview To integrate your component API / JSON Schema into Storybook you can install an addon we've written specifically for that purpose: Storybook JSON Schema Addon Displays associated JSON Schema documentation using a rich JSON Schema Explorer interface, and adds a validating JSON Code Editor with semantic auto-complete to interact with your components, and copy configurations with ease. JSON Schema Explorer is based on the excellent Atlassian JSON Schema Viewer. First step is to install the addon: Second step, register the addon inside your .storybook/main.js (just add it to the list): Third step, export the schema as component- or story parameter: For a detailed explanation on how to add this to your project, have a look at part three of our \"Create your Design System\" guide.\n",
      "\n",
      "https://www.kickstartDS.com/docs/guides/examples/recipes/ https://www.kickstartDS.com/docs/guides/examples/recipes/ 57 Token, Recipes The recipes in a design system are like real life examples to showcase common patterns and best practice usage. Recipes provide a brief overview on how components can be used and combined to create reusable interaction elements. Source: bradfrost.com We'll start adding recipe examples here!\n",
      "\n",
      "https://www.kickstartDS.com/docs/guides/migrations/upgrade-2.0.0 https://www.kickstartDS.com/docs/guides/migrations/upgrade-2.0.0 139 Token, Upgrade to 2.0.0 Removed SASS breakpoints helper Usage of breakpoints helper for layouts Remove the current @use from your SASS: Replace it with a standard media query for this: https://developer.mozilla.org/en-US/docs/Web/CSS/Media_Queries/Using_media_queries Like this: Where xl in our case equates to 75em. You can use the CSS Properties generated for you, to help still writing maintainable media queries. For example: Usage of breakpoints helper for components Remove the current @use from your SASS: Replace it with: Or: Search: and: Replace: and:\n"
     ]
    },
    {
     "name": "stderr",
     "output_type": "stream",
     "text": [
      "/home/codespace/.local/lib/python3.10/site-packages/sklearn/cluster/_kmeans.py:870: FutureWarning: The default value of `n_init` will change from 10 to 'auto' in 1.4. Set the value of `n_init` explicitly to suppress the warning\n",
      "  warnings.warn(\n",
      "/home/codespace/.local/lib/python3.10/site-packages/sklearn/cluster/_kmeans.py:870: FutureWarning: The default value of `n_init` will change from 10 to 'auto' in 1.4. Set the value of `n_init` explicitly to suppress the warning\n",
      "  warnings.warn(\n"
     ]
    },
    {
     "name": "stdout",
     "output_type": "stream",
     "text": [
      "\n",
      "https://www.kickstartDS.com/docs/guides/components/create https://www.kickstartDS.com/docs/guides/components/create 105 Token, Create a component Overview Creating a component differs from \"just\" adapting a component in that it starts out without a specific kickstartDS component already in mind. We also have an additional example in \"Create Interstitial component\", but to actually implement that you need access to our kickstartDS content module. Create TeaserCard component In this example component guide we create the TeaserCard component, mapped to the TeaserBox component (part of the @kickstartDS/base module), to tease content in our Design System.\n",
      "\n",
      "https://www.kickstartDS.com/docs/integration/react/rich-text-rendering https://www.kickstartDS.com/docs/integration/react/rich-text-rendering 82 Token, Rich Text Rendering By default, the kickstartDS RichText component accepts markdown as input. There are many cases where data other than markdown needs to be processed, e.g. if you're working with a CMS. To make it work with the kickstartDS RichText component, we can use the RichTexts renderText render function to convert Sanity Portable Text data to react components.\n"
     ]
    },
    {
     "name": "stderr",
     "output_type": "stream",
     "text": [
      "/home/codespace/.local/lib/python3.10/site-packages/sklearn/cluster/_kmeans.py:870: FutureWarning: The default value of `n_init` will change from 10 to 'auto' in 1.4. Set the value of `n_init` explicitly to suppress the warning\n",
      "  warnings.warn(\n"
     ]
    },
    {
     "name": "stdout",
     "output_type": "stream",
     "text": [
      "\n",
      "https://www.kickstartDS.com/docs/integration/react/ https://www.kickstartDS.com/docs/integration/react/ 99 Token, React React as our templating language of choice offers great integration capabilities, and we've built some on top of those... to help you even more when creating your own components. If you do not allow these cookies we will not know when you have visited our site, and will not be able to monitor its performance. They are usually only set in response to actions made by you which amount to a request for services, such as setting your privacy preferences, logging in or filling in forms.\n"
     ]
    },
    {
     "name": "stderr",
     "output_type": "stream",
     "text": [
      "/home/codespace/.local/lib/python3.10/site-packages/sklearn/cluster/_kmeans.py:870: FutureWarning: The default value of `n_init` will change from 10 to 'auto' in 1.4. Set the value of `n_init` explicitly to suppress the warning\n",
      "  warnings.warn(\n",
      "/home/codespace/.local/lib/python3.10/site-packages/sklearn/cluster/_kmeans.py:870: FutureWarning: The default value of `n_init` will change from 10 to 'auto' in 1.4. Set the value of `n_init` explicitly to suppress the warning\n",
      "  warnings.warn(\n"
     ]
    },
    {
     "name": "stdout",
     "output_type": "stream",
     "text": [
      "\n",
      "https://www.kickstartDS.com/docs/intro/environment https://www.kickstartDS.com/docs/intro/environment 211 Token, Environment Everything needed for getting started with kickstartDS is a Node & npm environment. We prefer using nvm, a pretty widely used, terminal based solution: https://github.com/nvm-sh/nvm We also include a .nvmrc file with all our repositories, specifying the currently used and supported version, for example this one for the main repository of kickstartDS: https://github.com/kickstartDS/kickstartDS/blob/next/.nvmrc With nvm installed, just switch to the folder and call: Which should net you something like this: If the needed version is not found locally, you're automatically prompted with the correct command to install it. You can find our repository here: github.com/kickstartDS/kickstartDS Popular configuration guides include: GitHub: Set up Git Gitlab: Installing Git Bitbucket: Install Git Git GUI If working with the terminal is not your thing, you might want to use a dedicated Git GUI (Graphical User Interface).\n",
      "\n",
      "https://www.kickstartDS.com/docs/guides/migrations https://www.kickstartDS.com/docs/guides/migrations 65 Token, Migrations There's currently only a single migration available. Have a look at it here for upgrade unstruction for kickstartDS 2.0.0: Upgrade 2.0.0 guide Integration with common React frameworks can really speed up adoption, and make the difference between a successful Design System... and one that fails!\n"
     ]
    },
    {
     "name": "stderr",
     "output_type": "stream",
     "text": [
      "/home/codespace/.local/lib/python3.10/site-packages/sklearn/cluster/_kmeans.py:870: FutureWarning: The default value of `n_init` will change from 10 to 'auto' in 1.4. Set the value of `n_init` explicitly to suppress the warning\n",
      "  warnings.warn(\n"
     ]
    },
    {
     "name": "stdout",
     "output_type": "stream",
     "text": [
      "\n",
      "https://www.kickstartDS.com/docs/guides/examples/components/section https://www.kickstartDS.com/docs/guides/examples/components/section 102 Token, Extend Section component This guided example shows how you'd add components to your Design System that use a kickstartDS base component pretty directly. Add allowed spaceAfters 1/2 We add a spaceAfter property of type string... Add allowed spaceAfters 2/2 ... and make it an enum, defining its available options explicitly. Add Section component 4/7 We then connect the props as defined in our component API that are directly taken from the underlying kickstartDS base component by just passing them through.\n"
     ]
    },
    {
     "name": "stderr",
     "output_type": "stream",
     "text": [
      "/home/codespace/.local/lib/python3.10/site-packages/sklearn/cluster/_kmeans.py:870: FutureWarning: The default value of `n_init` will change from 10 to 'auto' in 1.4. Set the value of `n_init` explicitly to suppress the warning\n",
      "  warnings.warn(\n"
     ]
    },
    {
     "name": "stdout",
     "output_type": "stream",
     "text": [
      "\n",
      "https://www.kickstartDS.com/docs/foundations/layout/bedrock https://www.kickstartDS.com/docs/foundations/layout/bedrock 154 Token, Follow our main guide to learn how you can \"Create your Design System\" in just 5 steps: Open guide Bedrock We use Bedrock as our library of choice when it comes to layouting: A collection of utility components that are designed to be used as building blocks for your web application's layout. Content Content Generators Lorem ipsum dolor sit amet, consetetur sadipscing elitr, sed diam nonumy eirmod tempor invidunt ut labore et dolore magna aliquyam erat, sed diam voluptua. Our usage of cookies to provide chat support and analyse website usage By clicking “Accept Cookies”, you agree to the storing of cookies on your device.\n"
     ]
    },
    {
     "name": "stderr",
     "output_type": "stream",
     "text": [
      "/home/codespace/.local/lib/python3.10/site-packages/sklearn/cluster/_kmeans.py:870: FutureWarning: The default value of `n_init` will change from 10 to 'auto' in 1.4. Set the value of `n_init` explicitly to suppress the warning\n",
      "  warnings.warn(\n",
      "/home/codespace/.local/lib/python3.10/site-packages/sklearn/cluster/_kmeans.py:870: FutureWarning: The default value of `n_init` will change from 10 to 'auto' in 1.4. Set the value of `n_init` explicitly to suppress the warning\n",
      "  warnings.warn(\n",
      "/home/codespace/.local/lib/python3.10/site-packages/sklearn/cluster/_kmeans.py:870: FutureWarning: The default value of `n_init` will change from 10 to 'auto' in 1.4. Set the value of `n_init` explicitly to suppress the warning\n",
      "  warnings.warn(\n"
     ]
    },
    {
     "name": "stdout",
     "output_type": "stream",
     "text": [
      "\n",
      "https://www.kickstartDS.com/docs/integration/storybook/stories https://www.kickstartDS.com/docs/integration/storybook/stories 85 Token, Premade Stories Stories are at the heart of Storybook (who whould've guessed 😅). Usage with kickstartDS We provide support in two key areas when it comes to Storybook stories: - Premade Design Tokenstories - Premade component stories See below for an explanation what these can do for you! You can simply import those to set useful defaults for your own component stories, inheriting from the base component.\n",
      "\n",
      "https://www.kickstartDS.com/glossary/typescript/ https://www.kickstartDS.com/glossary/typescript/ 90 Token, TypeScript In addition to using ES6 as a specific flavor, on top of JavaScript as a technology, we're using TypeScript for it's additional type safety and resulting confidence when developing long lasting, well-rounded frontend solutions like a component library. One additional feature of TypeScript we're relying heavily on is the ability to generate types for publishing packages. Read more, or chat with us, to learn how this helps create consistent frontend interfaces\n",
      "\n",
      "https://www.kickstartDS.com/glossary/es6/ https://www.kickstartDS.com/glossary/es6/ 102 Token, ECMAScript 6 (ES6) ES6 is the specific flavour of JavaScript we're writing for it's much improved module support, making 100% vanilla JavaScript solutions a reality. It is also much more terse and expressive in its syntax (iterators, destructuring, arrow functions, etc). As every piece of code being run in a website built on kickstartDS components is developed in a bespoke fashion, being able to rely on such best practives while also staying complete compatible and performant.\n",
      "\n",
      "https://www.kickstartDS.com/glossary/javascript/ https://www.kickstartDS.com/glossary/javascript/ 82 Token, On the one hand it is the foundation for progressively layered interactivity on a website / interface built with kickstartDS, and on the other hand it's at the core of the \"engine\" powering quality and developer experience in modern web frameworks: build tooling, bundling, semantic versioning, testing, etc. Read more, or chat with us, to learn how this helps create consistent frontend interfaces\n",
      "\n",
      "All summaries created.\n"
     ]
    },
    {
     "name": "stderr",
     "output_type": "stream",
     "text": [
      "/home/codespace/.local/lib/python3.10/site-packages/sklearn/cluster/_kmeans.py:870: FutureWarning: The default value of `n_init` will change from 10 to 'auto' in 1.4. Set the value of `n_init` explicitly to suppress the warning\n",
      "  warnings.warn(\n"
     ]
    }
   ],
   "source": [
    "import tiktoken\n",
    "import jsonlines\n",
    "from summarizer.sbert import SBertSummarizer\n",
    "\n",
    "enc = tiktoken.encoding_for_model(\"text-davinci-003\")\n",
    "model = SBertSummarizer('paraphrase-multilingual-MiniLM-L12-v2')  \n",
    "\n",
    "with_summaries = []\n",
    "with jsonlines.open('pages-' + name + '_extracted.jsonl', 'r') as pages:\n",
    "    for page in pages:\n",
    "        with_summaries.append(page)\n",
    "    \n",
    "print('Creating summaries for ' + str(len(list(with_summaries))) + ' pages.')\n",
    "\n",
    "for page in with_summaries:\n",
    "    result = model(page['content']['raw'].replace('\\n', ' '), num_sentences=3, min_length=60)\n",
    "    page['summaries'] = dict()\n",
    "    page['summaries']['sbert'] = ''.join(result)\n",
    "    print()\n",
    "    print(page['url'], page['title'], str(len(enc.encode(page['summaries']['sbert']))) + ' Token,', page['summaries']['sbert'])\n",
    "        \n",
    "with jsonlines.open('pages-' + name + '_extracted_summaries.jsonl', 'w') as pages:\n",
    "    pages.write_all(with_summaries)\n",
    "\n",
    "print()\n",
    "print('All summaries created.')"
   ]
  },
  {
   "attachments": {},
   "cell_type": "markdown",
   "id": "517f6671",
   "metadata": {},
   "source": [
    "## More dependencies and download\n",
    "\n",
    "We'll install `nltk` and download the `punkt` set."
   ]
  },
  {
   "cell_type": "code",
   "execution_count": null,
   "id": "b71e8072",
   "metadata": {},
   "outputs": [],
   "source": [
    "%pip install nltk"
   ]
  },
  {
   "cell_type": "code",
   "execution_count": 10,
   "id": "6905ba15",
   "metadata": {},
   "outputs": [
    {
     "name": "stderr",
     "output_type": "stream",
     "text": [
      "[nltk_data] Downloading package punkt to /home/codespace/nltk_data...\n",
      "[nltk_data]   Unzipping tokenizers/punkt.zip.\n"
     ]
    },
    {
     "data": {
      "text/plain": [
       "True"
      ]
     },
     "execution_count": 10,
     "metadata": {},
     "output_type": "execute_result"
    }
   ],
   "source": [
    "import nltk\n",
    "\n",
    "nltk.download('punkt')"
   ]
  },
  {
   "cell_type": "markdown",
   "id": "8c46e23c",
   "metadata": {},
   "source": [
    "## Extract sections from markdown page content\n",
    "\n",
    "We'll extract sections from our pages by splitting along markdown headlines (# to ######)."
   ]
  },
  {
   "cell_type": "code",
   "execution_count": 11,
   "id": "23ef9a1c",
   "metadata": {},
   "outputs": [
    {
     "name": "stdout",
     "output_type": "stream",
     "text": [
      "Extracted sections for 95 pages.\n"
     ]
    }
   ],
   "source": [
    "import re\n",
    "import json\n",
    "import tiktoken\n",
    "import numpy as np\n",
    "import pandas as pd\n",
    "from bs4 import BeautifulSoup\n",
    "from typing import Set\n",
    "from markdown import markdown\n",
    "from nltk.tokenize import sent_tokenize\n",
    "\n",
    "enc = tiktoken.encoding_for_model(\"text-davinci-003\")\n",
    "\n",
    "def markdown_to_text(markdown_string):\n",
    "    html = markdown(markdown_string)\n",
    "\n",
    "    html = re.sub(r'<pre>(.*?)</pre>', ' ', html)\n",
    "    html = re.sub(r'<code>(.*?)</code >', ' ', html)\n",
    "\n",
    "    soup = BeautifulSoup(html, \"html.parser\")\n",
    "    text = ''.join(soup.findAll(string=True))\n",
    "\n",
    "    return text\n",
    "\n",
    "def count_tokens(text: str) -> int:\n",
    "    \"\"\"count the number of tokens in a string\"\"\"\n",
    "    return len(enc.encode(text))\n",
    "\n",
    "def reduce_long(\n",
    "    long_text: str, long_text_tokens: bool = False, max_len: int = 590\n",
    ") -> str:\n",
    "    \"\"\"\n",
    "    Reduce a long text to a maximum of `max_len` tokens by potentially cutting at a sentence end\n",
    "    \"\"\"\n",
    "    if not long_text_tokens:\n",
    "        long_text_tokens = count_tokens(long_text)\n",
    "    if long_text_tokens > max_len:\n",
    "        sentences = sent_tokenize(long_text.replace(\"\\n\", \" \"))\n",
    "        ntokens = 0\n",
    "        for i, sentence in enumerate(sentences):\n",
    "            ntokens += 1 + count_tokens(sentence)\n",
    "            if ntokens > max_len:\n",
    "                return \". \".join(sentences[:i][:-1]) + \".\"\n",
    "\n",
    "    return long_text\n",
    "\n",
    "discard_categories = []\n",
    "\n",
    "def extract_sections(\n",
    "    page_text: str,\n",
    "    title: str,\n",
    "    max_len: int = 1500,\n",
    "    discard_categories: Set[str] = discard_categories,\n",
    ") -> str:\n",
    "    \"\"\"\n",
    "    Extract the sections of a kickstartDS page, discarding the references and other low information sections\n",
    "    \"\"\"\n",
    "    if len(page_text) == 0:\n",
    "        return []\n",
    "\n",
    "    # find all headings and the coresponding contents\n",
    "    headings = re.findall(\"#+ .*\", page_text)\n",
    "    for heading in headings:\n",
    "        page_text = page_text.replace(heading, \"#+ !!\")\n",
    "    contents = page_text.split(\"#+ !!\")\n",
    "    contents = [c.strip() for c in contents]\n",
    "    assert len(headings) == len(contents) - 1\n",
    "\n",
    "    cont = contents.pop(0).strip()\n",
    "    outputs = [(title, \"Summary\", cont, count_tokens(cont)+4)]\n",
    "    \n",
    "    # discard the discard categories, accounting for a tree structure\n",
    "    max_level = 100\n",
    "    keep_group_level = max_level\n",
    "    remove_group_level = max_level\n",
    "    nheadings, ncontents = [], []\n",
    "    for heading, content in zip(headings, contents):\n",
    "        plain_heading = \" \".join(heading.split(\" \")[1:-1])\n",
    "        num_equals = len(heading.split(\" \")[0])\n",
    "        if num_equals <= keep_group_level:\n",
    "            keep_group_level = max_level\n",
    "\n",
    "        if num_equals > remove_group_level:\n",
    "            if (\n",
    "                num_equals <= keep_group_level\n",
    "            ):\n",
    "                continue\n",
    "        keep_group_level = max_level\n",
    "        if plain_heading in discard_categories:\n",
    "            remove_group_level = num_equals\n",
    "            keep_group_level = max_level\n",
    "            continue\n",
    "        nheadings.append(heading.replace(\"#\", \"\").strip())\n",
    "        ncontents.append(markdown_to_text(content).replace('\\n', ' '))\n",
    "        remove_group_level = max_level\n",
    "\n",
    "    # count the tokens of each section\n",
    "    ncontent_ntokens = [\n",
    "        count_tokens(c)\n",
    "        + 3\n",
    "        + count_tokens(\" \".join(h.split(\" \")[1:-1]))\n",
    "        - (1 if len(c) == 0 else 0)\n",
    "        for h, c in zip(nheadings, ncontents)\n",
    "    ]\n",
    "\n",
    "    # Create a tuple of (title, section_name, content, number of tokens)\n",
    "    outputs += [(title, h, c, t) if t<max_len \n",
    "                else (title, h, reduce_long(c, max_len), count_tokens(reduce_long(c,max_len))) \n",
    "                    for h, c, t in zip(nheadings, ncontents, ncontent_ntokens)]\n",
    "    \n",
    "    return outputs\n",
    "\n",
    "with_sections = []\n",
    "with jsonlines.open('pages-' + name + '_extracted_summaries.jsonl') as pages:\n",
    "    for page in pages:\n",
    "        outputs = []\n",
    "        outputs += extract_sections(page[\"content\"][\"markdown\"], page[\"title\"])\n",
    "        \n",
    "        df = pd.DataFrame(outputs, columns=[\"title\", \"heading\", \"content\", \"tokens\"])\n",
    "        df = df[df.tokens>40]\n",
    "        df = df.drop_duplicates(['title','heading'])\n",
    "        df = df.reset_index().drop('index',axis=1) # reset index\n",
    "        df.head()\n",
    "\n",
    "        result = df.to_json(orient=\"records\")\n",
    "        parsed = json.loads(result)\n",
    "        page['sections'] = parsed\n",
    "        \n",
    "        with_sections.append(page)\n",
    "\n",
    "with jsonlines.open('pages-' + name + '_extracted_sections.jsonl', 'w') as pages:\n",
    "    pages.write_all(with_sections)\n",
    "    \n",
    "print('Extracted sections for ' + str(len(with_sections)) + ' pages.')"
   ]
  }
 ],
 "metadata": {
  "kernelspec": {
   "display_name": "Python 3 (ipykernel)",
   "language": "python",
   "name": "python3"
  },
  "language_info": {
   "codemirror_mode": {
    "name": "ipython",
    "version": 3
   },
   "file_extension": ".py",
   "mimetype": "text/x-python",
   "name": "python",
   "nbconvert_exporter": "python",
   "pygments_lexer": "ipython3",
   "version": "3.10.4"
  }
 },
 "nbformat": 4,
 "nbformat_minor": 5
}
