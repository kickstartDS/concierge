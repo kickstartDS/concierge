{
 "cells": [
  {
   "attachments": {},
   "cell_type": "markdown",
   "metadata": {},
   "source": [
    "# Ideas\n",
    "\n",
    "- try adding `section['page']['title']` and `section['page']['summary']` to `get_section_content`, to better align all sections from a page in meaning\n",
    "- assign topics to pages\n",
    "- fix document visualizations / topic lengths\n",
    "- try plugging in LangChain\n",
    "- add option to filter model to just certain domains from `pages-all.jsonl`"
   ]
  },
  {
   "cell_type": "code",
   "execution_count": null,
   "metadata": {},
   "outputs": [],
   "source": [
    "import logging\n",
    "import torch\n",
    "import pickle\n",
    "import jsonlines\n",
    "import os\n",
    "import numpy as np\n",
    "from sentence_transformers import SentenceTransformer, LoggingHandler\n",
    "\n",
    "logging.basicConfig(\n",
    "    format='%(asctime)s - %(message)s',\n",
    "    datefmt='%Y-%m-%d %H:%M:%S',\n",
    "    level=logging.INFO,\n",
    "    handlers=[LoggingHandler()]\n",
    ")\n",
    "\n",
    "embeddings_location = '../page-embeddings.pkl'\n",
    "raw_jsonl_data_location = '/tmp/pages-all.jsonl'\n",
    "\n",
    "def get_section_content(section):\n",
    "    return section['content'].replace('\\n', ' ').strip()\n",
    "\n",
    "if not os.path.exists(embeddings_location):\n",
    "    print('Creating embeddings for knowledge base.')\n",
    "    sections = []\n",
    "    with jsonlines.open(raw_jsonl_data_location, 'r') as pages:\n",
    "        for page in pages:\n",
    "            for page_section in page['sections']:\n",
    "                section = dict()\n",
    "                section['page'] = dict()\n",
    "                section['page']['url'] = page['url']\n",
    "                section['page']['title'] = page['title']\n",
    "                section['page']['summary'] = page['summaries']['sbert']\n",
    "                section['content'] = page_section['content']['raw']\n",
    "                section['tokens'] = page_section['tokens']\n",
    "                sections.append(section)\n",
    "\n",
    "    passages = []\n",
    "    passages.extend(map(get_section_content, sections))\n",
    "    print('Passages:', len(passages))\n",
    "    \n",
    "    bi_encoder = SentenceTransformer('paraphrase-multilingual-MiniLM-L12-v2')\n",
    "    bi_encoder.max_seq_length = 350\n",
    "\n",
    "    if not torch.cuda.is_available():\n",
    "        print(\"Warning: No GPU found. Please add GPU to your notebook for better performance, falling back to CPU pooling.\")\n",
    "        pool = bi_encoder.start_multi_process_pool()\n",
    "        corpus_embeddings = bi_encoder.encode_multi_process(passages, pool)\n",
    "        bi_encoder.stop_multi_process_pool(pool)\n",
    "\n",
    "    else:\n",
    "        corpus_embeddings = bi_encoder.encode(passages)\n",
    "    print('Corpus embeddings created.')\n",
    "    \n",
    "    with open(embeddings_location, \"wb\") as writer:\n",
    "        pickle.dump({'sections': sections, 'embeddings': corpus_embeddings}, writer)\n",
    "    print(\"Embeddings stored on disc: \" + embeddings_location)\n",
    "\n",
    "else:\n",
    "    print(\"Loading pre-computed embeddings from disc: \" + embeddings_location)\n",
    "    with open(embeddings_location, \"rb\") as reader:\n",
    "        cache_data = pickle.load(reader)\n",
    "        sections = cache_data['sections']\n",
    "        corpus_embeddings = cache_data['embeddings']\n",
    "\n",
    "print('Corpus embedding size:', corpus_embeddings.shape)\n",
    "print('Sections:', len(sections))\n",
    "\n",
    "print(\"Successfully initialized / loaded embeddings.\")"
   ]
  },
  {
   "cell_type": "code",
   "execution_count": null,
   "metadata": {},
   "outputs": [],
   "source": [
    "from umap import UMAP\n",
    "from hdbscan import HDBSCAN\n",
    "from sentence_transformers import SentenceTransformer\n",
    "from sklearn.feature_extraction.text import CountVectorizer\n",
    "\n",
    "from bertopic import BERTopic\n",
    "from bertopic.representation import KeyBERTInspired\n",
    "from bertopic.vectorizers import ClassTfidfTransformer\n",
    "\n",
    "topics_location = 'BERTopic.model'\n",
    "topics_propbs_location = 'BERTopic-topics-probs-pkl'\n",
    "\n",
    "# Step 1 - Extract embeddings\n",
    "embedding_model = SentenceTransformer(\"paraphrase-multilingual-MiniLM-L12-v2\")\n",
    "embedding_model.max_seq_length = 350\n",
    "\n",
    "# Step 2 - Reduce dimensionality\n",
    "umap_model = UMAP(n_neighbors=15, n_components=5, min_dist=0.0, metric='cosine')\n",
    "\n",
    "# Step 3 - Cluster reduced embeddings\n",
    "hdbscan_model = HDBSCAN(min_cluster_size=15, metric='euclidean', cluster_selection_method='eom', prediction_data=True)\n",
    "\n",
    "# Step 4 - Tokenize topics\n",
    "vectorizer_model = CountVectorizer(stop_words=\"english\")\n",
    "\n",
    "# Step 5 - Create topic representation\n",
    "ctfidf_model = ClassTfidfTransformer()\n",
    "\n",
    "# Step 6 - (Optional) Fine-tune topic representations with \n",
    "# a `bertopic.representation` model\n",
    "representation_model = KeyBERTInspired()\n",
    "\n",
    "# All steps together\n",
    "topic_model = BERTopic(\n",
    "    embedding_model=embedding_model,          # Step 1 - Extract embeddings\n",
    "    umap_model=umap_model,                    # Step 2 - Reduce dimensionality\n",
    "    hdbscan_model=hdbscan_model,              # Step 3 - Cluster reduced embeddings\n",
    "    vectorizer_model=vectorizer_model,        # Step 4 - Tokenize topics\n",
    "    ctfidf_model=ctfidf_model,                # Step 5 - Extract topic words\n",
    "    representation_model=representation_model # Step 6 - (Optional) Fine-tune topic represenations\n",
    ")\n",
    "\n",
    "passages = []\n",
    "passages.extend(map(get_section_content, sections))\n",
    "print('Passages:', len(passages))\n",
    "\n",
    "if not os.path.exists(topics_location) or not os.path.exists(topics_propbs_location):\n",
    "    print('Creating BERTopic model.')\n",
    "    topics, probs = topic_model.fit_transform(passages, corpus_embeddings)\n",
    "\n",
    "    topic_model.save(topics_location)\n",
    "    print(\"BERTopic model stored on disc: \" + topics_location)\n",
    "    with open(topics_propbs_location, \"wb\") as writer:\n",
    "        pickle.dump({'topics': topics, 'probs': probs}, writer)\n",
    "    print(\"BERTopic topics, probs stored on disc: \" + topics_location)\n",
    "else:\n",
    "    print(\"Loading pre-computed BERTopic model from disc: \" + topics_location)\n",
    "    topic_model = BERTopic.load(topics_location, embedding_model=embedding_model)\n",
    "\n",
    "    print(\"Loading pre-computed BERTopic topics, probs from disc: \" + topics_propbs_location)\n",
    "    with open(topics_propbs_location, \"rb\") as reader:\n",
    "        cache_data = pickle.load(reader)\n",
    "        topics = cache_data['topics']\n",
    "        probs = cache_data['probs']\n",
    "\n",
    "print(\"Connect sections to assigned topics\")\n",
    "topic_sections = {topic: [] for topic in set(topics)}\n",
    "for topic, section in zip(topics, sections):\n",
    "    topic_sections[topic].append(section)\n",
    "\n",
    "print(\"Successfully initialized / loaded BERTopic.\")"
   ]
  },
  {
   "cell_type": "code",
   "execution_count": 28,
   "metadata": {},
   "outputs": [],
   "source": [
    "topic_model = BERTopic.load(topics_location, embedding_model=embedding_model)\n",
    "\n",
    "with open(topics_propbs_location, \"rb\") as reader:\n",
    "    cache_data = pickle.load(reader)\n",
    "    topics = cache_data['topics']\n",
    "    probs = cache_data['probs']"
   ]
  },
  {
   "cell_type": "code",
   "execution_count": null,
   "metadata": {},
   "outputs": [],
   "source": [
    "topic_model.visualize_topics()"
   ]
  },
  {
   "cell_type": "code",
   "execution_count": 49,
   "metadata": {},
   "outputs": [
    {
     "data": {
      "text/plain": [
       "[('checkboxgroup', 0.52888036),\n",
       " ('checkboxitem', 0.49878812),\n",
       " ('checkbox', 0.45189434),\n",
       " ('icons', 0.3672846),\n",
       " ('dialogtrigger', 0.35388327),\n",
       " ('itemindicator', 0.32335225),\n",
       " ('textfield', 0.30959886),\n",
       " ('icon', 0.3065734),\n",
       " ('searchfield', 0.3058104),\n",
       " ('workflow', 0.28506392)]"
      ]
     },
     "execution_count": 49,
     "metadata": {},
     "output_type": "execute_result"
    }
   ],
   "source": [
    "topic_model.get_topic(441)"
   ]
  },
  {
   "cell_type": "code",
   "execution_count": 50,
   "metadata": {},
   "outputs": [
    {
     "data": {
      "text/plain": [
       "['Forms  Checkbox CheckboxGroup Form NumberField RadioGroup RangeSlider SearchField Slider Switch TextArea TextField  Icons  Custom Icons Workflow Icons  Navigation  Breadcrumbs Link Tabs',\n",
       " 'Forms  Checkbox CheckboxGroup Form NumberField RadioGroup RangeSlider SearchField Slider Switch TextArea TextField  Icons  Custom Icons Workflow Icons  Navigation  Breadcrumbs Link Tabs',\n",
       " 'Forms  Checkbox CheckboxGroup Form NumberField RadioGroup RangeSlider SearchField Slider Switch TextArea TextField  Icons  Custom Icons Workflow Icons  Navigation  Breadcrumbs Link Tabs']"
      ]
     },
     "execution_count": 50,
     "metadata": {},
     "output_type": "execute_result"
    }
   ],
   "source": [
    "topic_model.get_representative_docs(441)"
   ]
  },
  {
   "cell_type": "code",
   "execution_count": 54,
   "metadata": {},
   "outputs": [
    {
     "data": {
      "text/plain": [
       "[('checkboxmultiple', 0.82010657),\n",
       " ('checkboxoption', 0.7888438),\n",
       " ('checkboxes', 0.7774192),\n",
       " ('checkboxalways', 0.77417445),\n",
       " ('checkbox_onsummarycontainer', 0.7508235),\n",
       " ('checkboxgroup', 0.74379194),\n",
       " ('checkboxesresponsive', 0.72956383),\n",
       " ('checkboxto', 0.7260996),\n",
       " ('checkbox_faux_container', 0.7236576),\n",
       " ('checkboxcheckbox', 0.7199409)]"
      ]
     },
     "execution_count": 54,
     "metadata": {},
     "output_type": "execute_result"
    }
   ],
   "source": [
    "similar_topics, similarity = topic_model.find_topics(\"checkbox\", top_n=5)\n",
    "topic_model.get_topic(similar_topics[0])"
   ]
  },
  {
   "cell_type": "code",
   "execution_count": 55,
   "metadata": {},
   "outputs": [
    {
     "data": {
      "application/vnd.plotly.v1+json": {
       "config": {
        "plotlyServerURL": "https://plot.ly"
       },
       "data": [
        {
         "marker": {
          "color": "#D55E00"
         },
         "orientation": "h",
         "type": "bar",
         "x": [
          0.3490132689476013,
          0.35247212648391724,
          0.36263805627822876,
          0.3818063735961914,
          0.4152142107486725
         ],
         "xaxis": "x",
         "y": [
          "shouldcomponentupdate  ",
          "handlestatuschange  ",
          "componentdidupdate  ",
          "usecallback  ",
          "usetransition  "
         ],
         "yaxis": "y"
        },
        {
         "marker": {
          "color": "#0072B2"
         },
         "orientation": "h",
         "type": "bar",
         "x": [
          0.3571014702320099,
          0.3768986761569977,
          0.3794263005256653,
          0.38201773166656494,
          0.3950825333595276
         ],
         "xaxis": "x2",
         "y": [
          "updated  ",
          "20227  ",
          "datenumbernotesapr  ",
          "20195  ",
          "changelog  "
         ],
         "yaxis": "y2"
        },
        {
         "marker": {
          "color": "#CC79A7"
         },
         "orientation": "h",
         "type": "bar",
         "x": [
          0.3072790503501892,
          0.309455543756485,
          0.3134915828704834,
          0.3158814609050751,
          0.319164514541626
         ],
         "xaxis": "x3",
         "y": [
          "doing  ",
          "thinking  ",
          "like  ",
          "saying  ",
          "conversation  "
         ],
         "yaxis": "y3"
        },
        {
         "marker": {
          "color": "#E69F00"
         },
         "orientation": "h",
         "type": "bar",
         "x": [
          0.4522530138492584,
          0.4535098671913147,
          0.45418012142181396,
          0.4806276559829712,
          0.4995286464691162
         ],
         "xaxis": "x4",
         "y": [
          "authorized  ",
          "utilisateur  ",
          "permitted  ",
          "utilisateurs  ",
          "regulations  "
         ],
         "yaxis": "y4"
        },
        {
         "marker": {
          "color": "#56B4E9"
         },
         "orientation": "h",
         "type": "bar",
         "x": [
          0.5313646197319031,
          0.5444433093070984,
          0.5726410746574402,
          0.5884323716163635,
          0.600050687789917
         ],
         "xaxis": "x5",
         "y": [
          "actiontray  ",
          "tag  ",
          "actionlabel  ",
          "taggroup  ",
          "socialbutton  "
         ],
         "yaxis": "y5"
        },
        {
         "marker": {
          "color": "#009E73"
         },
         "orientation": "h",
         "type": "bar",
         "x": [
          0.4185188412666321,
          0.45586830377578735,
          0.600104570388794,
          0.6810811758041382,
          0.719893753528595
         ],
         "xaxis": "x6",
         "y": [
          "tokens  ",
          "design  ",
          "elevationiconsillustrationsspacingtypographycomponentsaccordion  ",
          "airportillustration  ",
          "airportillustrationto  "
         ],
         "yaxis": "y6"
        },
        {
         "marker": {
          "color": "#F0E442"
         },
         "orientation": "h",
         "type": "bar",
         "x": [
          0.45846647024154663,
          0.5014434456825256,
          0.5081835389137268,
          0.6777533292770386,
          0.8135008811950684
         ],
         "xaxis": "x7",
         "y": [
          "link  ",
          "servicelogo  ",
          "navigation  ",
          "navigationservicelink  ",
          "skeletonskiplinkskipnavigationslidersocialbutton  "
         ],
         "yaxis": "y7"
        },
        {
         "marker": {
          "color": "#D55E00"
         },
         "orientation": "h",
         "type": "bar",
         "x": [
          0.4834210276603699,
          0.663267195224762,
          0.6688783764839172,
          0.6807758808135986,
          0.9010080099105835
         ],
         "xaxis": "x8",
         "y": [
          "metatext  ",
          "customgroupstext  ",
          "texttextcustom  ",
          "textredtextred  ",
          "tagtexttextlinktextareatiletilegrouptimeline  "
         ],
         "yaxis": "y8"
        }
       ],
       "layout": {
        "annotations": [
         {
          "font": {
           "size": 16
          },
          "showarrow": false,
          "text": "Topic 0",
          "x": 0.0875,
          "xanchor": "center",
          "xref": "paper",
          "y": 1,
          "yanchor": "bottom",
          "yref": "paper"
         },
         {
          "font": {
           "size": 16
          },
          "showarrow": false,
          "text": "Topic 1",
          "x": 0.36250000000000004,
          "xanchor": "center",
          "xref": "paper",
          "y": 1,
          "yanchor": "bottom",
          "yref": "paper"
         },
         {
          "font": {
           "size": 16
          },
          "showarrow": false,
          "text": "Topic 2",
          "x": 0.6375000000000001,
          "xanchor": "center",
          "xref": "paper",
          "y": 1,
          "yanchor": "bottom",
          "yref": "paper"
         },
         {
          "font": {
           "size": 16
          },
          "showarrow": false,
          "text": "Topic 3",
          "x": 0.9125,
          "xanchor": "center",
          "xref": "paper",
          "y": 1,
          "yanchor": "bottom",
          "yref": "paper"
         },
         {
          "font": {
           "size": 16
          },
          "showarrow": false,
          "text": "Topic 4",
          "x": 0.0875,
          "xanchor": "center",
          "xref": "paper",
          "y": 0.4,
          "yanchor": "bottom",
          "yref": "paper"
         },
         {
          "font": {
           "size": 16
          },
          "showarrow": false,
          "text": "Topic 5",
          "x": 0.36250000000000004,
          "xanchor": "center",
          "xref": "paper",
          "y": 0.4,
          "yanchor": "bottom",
          "yref": "paper"
         },
         {
          "font": {
           "size": 16
          },
          "showarrow": false,
          "text": "Topic 6",
          "x": 0.6375000000000001,
          "xanchor": "center",
          "xref": "paper",
          "y": 0.4,
          "yanchor": "bottom",
          "yref": "paper"
         },
         {
          "font": {
           "size": 16
          },
          "showarrow": false,
          "text": "Topic 7",
          "x": 0.9125,
          "xanchor": "center",
          "xref": "paper",
          "y": 0.4,
          "yanchor": "bottom",
          "yref": "paper"
         }
        ],
        "height": 500,
        "hoverlabel": {
         "bgcolor": "white",
         "font": {
          "family": "Rockwell",
          "size": 16
         }
        },
        "showlegend": false,
        "template": {
         "data": {
          "bar": [
           {
            "error_x": {
             "color": "#2a3f5f"
            },
            "error_y": {
             "color": "#2a3f5f"
            },
            "marker": {
             "line": {
              "color": "white",
              "width": 0.5
             },
             "pattern": {
              "fillmode": "overlay",
              "size": 10,
              "solidity": 0.2
             }
            },
            "type": "bar"
           }
          ],
          "barpolar": [
           {
            "marker": {
             "line": {
              "color": "white",
              "width": 0.5
             },
             "pattern": {
              "fillmode": "overlay",
              "size": 10,
              "solidity": 0.2
             }
            },
            "type": "barpolar"
           }
          ],
          "carpet": [
           {
            "aaxis": {
             "endlinecolor": "#2a3f5f",
             "gridcolor": "#C8D4E3",
             "linecolor": "#C8D4E3",
             "minorgridcolor": "#C8D4E3",
             "startlinecolor": "#2a3f5f"
            },
            "baxis": {
             "endlinecolor": "#2a3f5f",
             "gridcolor": "#C8D4E3",
             "linecolor": "#C8D4E3",
             "minorgridcolor": "#C8D4E3",
             "startlinecolor": "#2a3f5f"
            },
            "type": "carpet"
           }
          ],
          "choropleth": [
           {
            "colorbar": {
             "outlinewidth": 0,
             "ticks": ""
            },
            "type": "choropleth"
           }
          ],
          "contour": [
           {
            "colorbar": {
             "outlinewidth": 0,
             "ticks": ""
            },
            "colorscale": [
             [
              0,
              "#0d0887"
             ],
             [
              0.1111111111111111,
              "#46039f"
             ],
             [
              0.2222222222222222,
              "#7201a8"
             ],
             [
              0.3333333333333333,
              "#9c179e"
             ],
             [
              0.4444444444444444,
              "#bd3786"
             ],
             [
              0.5555555555555556,
              "#d8576b"
             ],
             [
              0.6666666666666666,
              "#ed7953"
             ],
             [
              0.7777777777777778,
              "#fb9f3a"
             ],
             [
              0.8888888888888888,
              "#fdca26"
             ],
             [
              1,
              "#f0f921"
             ]
            ],
            "type": "contour"
           }
          ],
          "contourcarpet": [
           {
            "colorbar": {
             "outlinewidth": 0,
             "ticks": ""
            },
            "type": "contourcarpet"
           }
          ],
          "heatmap": [
           {
            "colorbar": {
             "outlinewidth": 0,
             "ticks": ""
            },
            "colorscale": [
             [
              0,
              "#0d0887"
             ],
             [
              0.1111111111111111,
              "#46039f"
             ],
             [
              0.2222222222222222,
              "#7201a8"
             ],
             [
              0.3333333333333333,
              "#9c179e"
             ],
             [
              0.4444444444444444,
              "#bd3786"
             ],
             [
              0.5555555555555556,
              "#d8576b"
             ],
             [
              0.6666666666666666,
              "#ed7953"
             ],
             [
              0.7777777777777778,
              "#fb9f3a"
             ],
             [
              0.8888888888888888,
              "#fdca26"
             ],
             [
              1,
              "#f0f921"
             ]
            ],
            "type": "heatmap"
           }
          ],
          "heatmapgl": [
           {
            "colorbar": {
             "outlinewidth": 0,
             "ticks": ""
            },
            "colorscale": [
             [
              0,
              "#0d0887"
             ],
             [
              0.1111111111111111,
              "#46039f"
             ],
             [
              0.2222222222222222,
              "#7201a8"
             ],
             [
              0.3333333333333333,
              "#9c179e"
             ],
             [
              0.4444444444444444,
              "#bd3786"
             ],
             [
              0.5555555555555556,
              "#d8576b"
             ],
             [
              0.6666666666666666,
              "#ed7953"
             ],
             [
              0.7777777777777778,
              "#fb9f3a"
             ],
             [
              0.8888888888888888,
              "#fdca26"
             ],
             [
              1,
              "#f0f921"
             ]
            ],
            "type": "heatmapgl"
           }
          ],
          "histogram": [
           {
            "marker": {
             "pattern": {
              "fillmode": "overlay",
              "size": 10,
              "solidity": 0.2
             }
            },
            "type": "histogram"
           }
          ],
          "histogram2d": [
           {
            "colorbar": {
             "outlinewidth": 0,
             "ticks": ""
            },
            "colorscale": [
             [
              0,
              "#0d0887"
             ],
             [
              0.1111111111111111,
              "#46039f"
             ],
             [
              0.2222222222222222,
              "#7201a8"
             ],
             [
              0.3333333333333333,
              "#9c179e"
             ],
             [
              0.4444444444444444,
              "#bd3786"
             ],
             [
              0.5555555555555556,
              "#d8576b"
             ],
             [
              0.6666666666666666,
              "#ed7953"
             ],
             [
              0.7777777777777778,
              "#fb9f3a"
             ],
             [
              0.8888888888888888,
              "#fdca26"
             ],
             [
              1,
              "#f0f921"
             ]
            ],
            "type": "histogram2d"
           }
          ],
          "histogram2dcontour": [
           {
            "colorbar": {
             "outlinewidth": 0,
             "ticks": ""
            },
            "colorscale": [
             [
              0,
              "#0d0887"
             ],
             [
              0.1111111111111111,
              "#46039f"
             ],
             [
              0.2222222222222222,
              "#7201a8"
             ],
             [
              0.3333333333333333,
              "#9c179e"
             ],
             [
              0.4444444444444444,
              "#bd3786"
             ],
             [
              0.5555555555555556,
              "#d8576b"
             ],
             [
              0.6666666666666666,
              "#ed7953"
             ],
             [
              0.7777777777777778,
              "#fb9f3a"
             ],
             [
              0.8888888888888888,
              "#fdca26"
             ],
             [
              1,
              "#f0f921"
             ]
            ],
            "type": "histogram2dcontour"
           }
          ],
          "mesh3d": [
           {
            "colorbar": {
             "outlinewidth": 0,
             "ticks": ""
            },
            "type": "mesh3d"
           }
          ],
          "parcoords": [
           {
            "line": {
             "colorbar": {
              "outlinewidth": 0,
              "ticks": ""
             }
            },
            "type": "parcoords"
           }
          ],
          "pie": [
           {
            "automargin": true,
            "type": "pie"
           }
          ],
          "scatter": [
           {
            "fillpattern": {
             "fillmode": "overlay",
             "size": 10,
             "solidity": 0.2
            },
            "type": "scatter"
           }
          ],
          "scatter3d": [
           {
            "line": {
             "colorbar": {
              "outlinewidth": 0,
              "ticks": ""
             }
            },
            "marker": {
             "colorbar": {
              "outlinewidth": 0,
              "ticks": ""
             }
            },
            "type": "scatter3d"
           }
          ],
          "scattercarpet": [
           {
            "marker": {
             "colorbar": {
              "outlinewidth": 0,
              "ticks": ""
             }
            },
            "type": "scattercarpet"
           }
          ],
          "scattergeo": [
           {
            "marker": {
             "colorbar": {
              "outlinewidth": 0,
              "ticks": ""
             }
            },
            "type": "scattergeo"
           }
          ],
          "scattergl": [
           {
            "marker": {
             "colorbar": {
              "outlinewidth": 0,
              "ticks": ""
             }
            },
            "type": "scattergl"
           }
          ],
          "scattermapbox": [
           {
            "marker": {
             "colorbar": {
              "outlinewidth": 0,
              "ticks": ""
             }
            },
            "type": "scattermapbox"
           }
          ],
          "scatterpolar": [
           {
            "marker": {
             "colorbar": {
              "outlinewidth": 0,
              "ticks": ""
             }
            },
            "type": "scatterpolar"
           }
          ],
          "scatterpolargl": [
           {
            "marker": {
             "colorbar": {
              "outlinewidth": 0,
              "ticks": ""
             }
            },
            "type": "scatterpolargl"
           }
          ],
          "scatterternary": [
           {
            "marker": {
             "colorbar": {
              "outlinewidth": 0,
              "ticks": ""
             }
            },
            "type": "scatterternary"
           }
          ],
          "surface": [
           {
            "colorbar": {
             "outlinewidth": 0,
             "ticks": ""
            },
            "colorscale": [
             [
              0,
              "#0d0887"
             ],
             [
              0.1111111111111111,
              "#46039f"
             ],
             [
              0.2222222222222222,
              "#7201a8"
             ],
             [
              0.3333333333333333,
              "#9c179e"
             ],
             [
              0.4444444444444444,
              "#bd3786"
             ],
             [
              0.5555555555555556,
              "#d8576b"
             ],
             [
              0.6666666666666666,
              "#ed7953"
             ],
             [
              0.7777777777777778,
              "#fb9f3a"
             ],
             [
              0.8888888888888888,
              "#fdca26"
             ],
             [
              1,
              "#f0f921"
             ]
            ],
            "type": "surface"
           }
          ],
          "table": [
           {
            "cells": {
             "fill": {
              "color": "#EBF0F8"
             },
             "line": {
              "color": "white"
             }
            },
            "header": {
             "fill": {
              "color": "#C8D4E3"
             },
             "line": {
              "color": "white"
             }
            },
            "type": "table"
           }
          ]
         },
         "layout": {
          "annotationdefaults": {
           "arrowcolor": "#2a3f5f",
           "arrowhead": 0,
           "arrowwidth": 1
          },
          "autotypenumbers": "strict",
          "coloraxis": {
           "colorbar": {
            "outlinewidth": 0,
            "ticks": ""
           }
          },
          "colorscale": {
           "diverging": [
            [
             0,
             "#8e0152"
            ],
            [
             0.1,
             "#c51b7d"
            ],
            [
             0.2,
             "#de77ae"
            ],
            [
             0.3,
             "#f1b6da"
            ],
            [
             0.4,
             "#fde0ef"
            ],
            [
             0.5,
             "#f7f7f7"
            ],
            [
             0.6,
             "#e6f5d0"
            ],
            [
             0.7,
             "#b8e186"
            ],
            [
             0.8,
             "#7fbc41"
            ],
            [
             0.9,
             "#4d9221"
            ],
            [
             1,
             "#276419"
            ]
           ],
           "sequential": [
            [
             0,
             "#0d0887"
            ],
            [
             0.1111111111111111,
             "#46039f"
            ],
            [
             0.2222222222222222,
             "#7201a8"
            ],
            [
             0.3333333333333333,
             "#9c179e"
            ],
            [
             0.4444444444444444,
             "#bd3786"
            ],
            [
             0.5555555555555556,
             "#d8576b"
            ],
            [
             0.6666666666666666,
             "#ed7953"
            ],
            [
             0.7777777777777778,
             "#fb9f3a"
            ],
            [
             0.8888888888888888,
             "#fdca26"
            ],
            [
             1,
             "#f0f921"
            ]
           ],
           "sequentialminus": [
            [
             0,
             "#0d0887"
            ],
            [
             0.1111111111111111,
             "#46039f"
            ],
            [
             0.2222222222222222,
             "#7201a8"
            ],
            [
             0.3333333333333333,
             "#9c179e"
            ],
            [
             0.4444444444444444,
             "#bd3786"
            ],
            [
             0.5555555555555556,
             "#d8576b"
            ],
            [
             0.6666666666666666,
             "#ed7953"
            ],
            [
             0.7777777777777778,
             "#fb9f3a"
            ],
            [
             0.8888888888888888,
             "#fdca26"
            ],
            [
             1,
             "#f0f921"
            ]
           ]
          },
          "colorway": [
           "#636efa",
           "#EF553B",
           "#00cc96",
           "#ab63fa",
           "#FFA15A",
           "#19d3f3",
           "#FF6692",
           "#B6E880",
           "#FF97FF",
           "#FECB52"
          ],
          "font": {
           "color": "#2a3f5f"
          },
          "geo": {
           "bgcolor": "white",
           "lakecolor": "white",
           "landcolor": "white",
           "showlakes": true,
           "showland": true,
           "subunitcolor": "#C8D4E3"
          },
          "hoverlabel": {
           "align": "left"
          },
          "hovermode": "closest",
          "mapbox": {
           "style": "light"
          },
          "paper_bgcolor": "white",
          "plot_bgcolor": "white",
          "polar": {
           "angularaxis": {
            "gridcolor": "#EBF0F8",
            "linecolor": "#EBF0F8",
            "ticks": ""
           },
           "bgcolor": "white",
           "radialaxis": {
            "gridcolor": "#EBF0F8",
            "linecolor": "#EBF0F8",
            "ticks": ""
           }
          },
          "scene": {
           "xaxis": {
            "backgroundcolor": "white",
            "gridcolor": "#DFE8F3",
            "gridwidth": 2,
            "linecolor": "#EBF0F8",
            "showbackground": true,
            "ticks": "",
            "zerolinecolor": "#EBF0F8"
           },
           "yaxis": {
            "backgroundcolor": "white",
            "gridcolor": "#DFE8F3",
            "gridwidth": 2,
            "linecolor": "#EBF0F8",
            "showbackground": true,
            "ticks": "",
            "zerolinecolor": "#EBF0F8"
           },
           "zaxis": {
            "backgroundcolor": "white",
            "gridcolor": "#DFE8F3",
            "gridwidth": 2,
            "linecolor": "#EBF0F8",
            "showbackground": true,
            "ticks": "",
            "zerolinecolor": "#EBF0F8"
           }
          },
          "shapedefaults": {
           "line": {
            "color": "#2a3f5f"
           }
          },
          "ternary": {
           "aaxis": {
            "gridcolor": "#DFE8F3",
            "linecolor": "#A2B1C6",
            "ticks": ""
           },
           "baxis": {
            "gridcolor": "#DFE8F3",
            "linecolor": "#A2B1C6",
            "ticks": ""
           },
           "bgcolor": "white",
           "caxis": {
            "gridcolor": "#DFE8F3",
            "linecolor": "#A2B1C6",
            "ticks": ""
           }
          },
          "title": {
           "x": 0.05
          },
          "xaxis": {
           "automargin": true,
           "gridcolor": "#EBF0F8",
           "linecolor": "#EBF0F8",
           "ticks": "",
           "title": {
            "standoff": 15
           },
           "zerolinecolor": "#EBF0F8",
           "zerolinewidth": 2
          },
          "yaxis": {
           "automargin": true,
           "gridcolor": "#EBF0F8",
           "linecolor": "#EBF0F8",
           "ticks": "",
           "title": {
            "standoff": 15
           },
           "zerolinecolor": "#EBF0F8",
           "zerolinewidth": 2
          }
         }
        },
        "title": {
         "font": {
          "color": "Black",
          "size": 22
         },
         "text": "Topic Word Scores",
         "x": 0.5,
         "xanchor": "center",
         "yanchor": "top"
        },
        "width": 1000,
        "xaxis": {
         "anchor": "y",
         "domain": [
          0,
          0.175
         ],
         "showgrid": true
        },
        "xaxis2": {
         "anchor": "y2",
         "domain": [
          0.275,
          0.45
         ],
         "showgrid": true
        },
        "xaxis3": {
         "anchor": "y3",
         "domain": [
          0.55,
          0.7250000000000001
         ],
         "showgrid": true
        },
        "xaxis4": {
         "anchor": "y4",
         "domain": [
          0.825,
          1
         ],
         "showgrid": true
        },
        "xaxis5": {
         "anchor": "y5",
         "domain": [
          0,
          0.175
         ],
         "showgrid": true
        },
        "xaxis6": {
         "anchor": "y6",
         "domain": [
          0.275,
          0.45
         ],
         "showgrid": true
        },
        "xaxis7": {
         "anchor": "y7",
         "domain": [
          0.55,
          0.7250000000000001
         ],
         "showgrid": true
        },
        "xaxis8": {
         "anchor": "y8",
         "domain": [
          0.825,
          1
         ],
         "showgrid": true
        },
        "yaxis": {
         "anchor": "x",
         "domain": [
          0.6000000000000001,
          1
         ],
         "showgrid": true
        },
        "yaxis2": {
         "anchor": "x2",
         "domain": [
          0.6000000000000001,
          1
         ],
         "showgrid": true
        },
        "yaxis3": {
         "anchor": "x3",
         "domain": [
          0.6000000000000001,
          1
         ],
         "showgrid": true
        },
        "yaxis4": {
         "anchor": "x4",
         "domain": [
          0.6000000000000001,
          1
         ],
         "showgrid": true
        },
        "yaxis5": {
         "anchor": "x5",
         "domain": [
          0,
          0.4
         ],
         "showgrid": true
        },
        "yaxis6": {
         "anchor": "x6",
         "domain": [
          0,
          0.4
         ],
         "showgrid": true
        },
        "yaxis7": {
         "anchor": "x7",
         "domain": [
          0,
          0.4
         ],
         "showgrid": true
        },
        "yaxis8": {
         "anchor": "x8",
         "domain": [
          0,
          0.4
         ],
         "showgrid": true
        }
       }
      }
     },
     "metadata": {},
     "output_type": "display_data"
    }
   ],
   "source": [
    "topic_model.visualize_barchart()"
   ]
  },
  {
   "cell_type": "code",
   "execution_count": null,
   "metadata": {},
   "outputs": [],
   "source": [
    "reduced_embeddings = UMAP(n_neighbors=10, n_components=2, min_dist=0.0, metric='cosine').fit_transform(corpus_embeddings)\n",
    "topic_model.visualize_documents(sections, reduced_embeddings=reduced_embeddings)"
   ]
  },
  {
   "cell_type": "code",
   "execution_count": null,
   "metadata": {},
   "outputs": [],
   "source": [
    "topic_model.visualize_heatmap()"
   ]
  },
  {
   "cell_type": "code",
   "execution_count": null,
   "metadata": {},
   "outputs": [],
   "source": [
    "topic_model.visualize_hierarchy()"
   ]
  },
  {
   "cell_type": "code",
   "execution_count": null,
   "metadata": {},
   "outputs": [],
   "source": [
    "from langchain.chains.question_answering import load_qa_chain\n",
    "chain = load_qa_chain(llm, chain_type=\"stuff\")\n",
    "chain.run(input_documents=docs, question=query)"
   ]
  },
  {
   "cell_type": "code",
   "execution_count": null,
   "metadata": {},
   "outputs": [],
   "source": [
    "import numpy as np\n",
    "import sklearn.decomposition\n",
    "import pickle\n",
    "import time\n",
    "\n",
    "# Apply 'Algorithm 1' to the ada-002 embeddings to make them isotropic, taken from the paper:\n",
    "# ALL-BUT-THE-TOP: SIMPLE AND EFFECTIVE POST- PROCESSING FOR WORD REPRESENTATIONS\n",
    "# Jiaqi Mu, Pramod Viswanath\n",
    "\n",
    "# This uses Principal Component Analysis (PCA) to 'evenly distribute' the embedding vectors (make them isotropic)\n",
    "# For more information on PCA, see https://jamesmccaffrey.wordpress.com/2021/07/16/computing-pca-using-numpy-without-scikit/\n",
    "\n",
    "\n",
    "# get the file pointer of the pickle containing the embeddings\n",
    "fp = open('/path/to/your/data/Embedding-Latest.pkl', 'rb')\n",
    "\n",
    "\n",
    "# the embedding data here is a dict consisting of key / value pairs\n",
    "# the key is the hash of the message (SHA3-256), the value is the embedding from ada-002 (array of dimension 1536)\n",
    "# the hash can be used to lookup the orignal text in a database\n",
    "E = pickle.load(fp) # load the data into memory\n",
    "\n",
    "# seperate the keys (hashes) and values (embeddings) into seperate vectors\n",
    "K = list(E.keys()) # vector of all the hash values \n",
    "X = np.array(list(E.values())) # vector of all the embeddings, converted to numpy arrays\n",
    "\n",
    "\n",
    "# list the total number of embeddings\n",
    "# this can be truncated if there are too many embeddings to do PCA on\n",
    "print(f\"Total number of embeddings: {len(X)}\")\n",
    "\n",
    "# get dimension of embeddings, used later\n",
    "Dim = len(X[0])\n",
    "\n",
    "# flash out the first few embeddings\n",
    "print(\"First two embeddings are: \")\n",
    "print(X[0]) \n",
    "print(f\"First embedding length: {len(X[0])}\")\n",
    "print(X[1])\n",
    "print(f\"Second embedding length: {len(X[1])}\")\n",
    "\n",
    "\n",
    "# compute the mean of all the embeddings, and flash the result\n",
    "mu = np.mean(X, axis=0) # same as mu in paper\n",
    "print(f\"Mean embedding vector: {mu}\")\n",
    "print(f\"Mean embedding vector length: {len(mu)}\")\n",
    "\n",
    "\n",
    "# subtract the mean vector from each embedding vector ... vectorized in numpy\n",
    "X_tilde = X - mu # same as v_tilde(w) in paper\n",
    "\n",
    "\n",
    "\n",
    "# do the heavy lifting of extracting the principal components\n",
    "# note that this is a function of the embeddings you currently have here, and this set may grow over time\n",
    "# therefore the PCA basis vectors may change over time, and your final isotropic embeddings may drift over time\n",
    "# but the drift should stabilize after you have extracted enough embedding data to characterize the nature of the embedding engine\n",
    "print(f\"Performing PCA on the normalized embeddings ...\")\n",
    "pca = sklearn.decomposition.PCA()  # new object\n",
    "TICK = time.time() # start timer\n",
    "pca.fit(X_tilde) # do the heavy lifting!\n",
    "TOCK = time.time() # end timer\n",
    "DELTA = TOCK - TICK\n",
    "\n",
    "print(f\"PCA finished in {DELTA} seconds ...\")\n",
    "\n",
    "# dimensional reduction stage (the only hyperparameter)\n",
    "# pick max dimension of PCA components to express embddings\n",
    "# in general this is some integer less than or equal to the dimension of your embeddings\n",
    "# it could be set as a high percentile, say 95th percentile of pca.explained_variance_ratio_\n",
    "# but just hardcoding a constant here\n",
    "D = 15 # hyperparameter on dimension (out of 1536 for ada-002), paper recommeds D = Dim/100\n",
    "\n",
    "\n",
    "# form the set of v_prime(w), which is the final embedding\n",
    "# this could be vectorized in numpy to speed it up, but coding it directly here in a double for-loop to avoid errors and to be transparent\n",
    "E_prime = dict() # output dict of the new embeddings\n",
    "N = len(X_tilde)\n",
    "N10 = round(N/10)\n",
    "U = pca.components_ # set of PCA basis vectors, sorted by most significant to least significant\n",
    "print(f\"Shape of full set of PCA componenents {U.shape}\")\n",
    "U = U[0:D,:] # take the top D dimensions (or take them all if D is the size of the embedding vector)\n",
    "print(f\"Shape of downselected PCA componenents {U.shape}\")\n",
    "for ii in range(N):\n",
    "    v_tilde = X_tilde[ii]\n",
    "    v = X[ii]\n",
    "    v_projection = np.zeros(Dim) # start to build the projection\n",
    "    # project the original embedding onto the PCA basis vectors, use only first D dimensions\n",
    "    for jj in range(D):\n",
    "        u_jj = U[jj,:] # vector\n",
    "        v_jj = np.dot(u_jj,v) # scaler\n",
    "        v_projection += v_jj*u_jj # vector\n",
    "    v_prime = v_tilde - v_projection # final embedding vector\n",
    "    v_prime = v_prime/np.linalg.norm(v_prime) # create unit vector\n",
    "    E_prime[K[ii]] = v_prime \n",
    "\n",
    "    if (ii%N10 == 0) or (ii == N-1):\n",
    "        print(f\"Finished with {ii+1} embeddings out of {N} ({round(100*ii/N)}% done)\")\n",
    "\n",
    "\n",
    "# save as new pickle\n",
    "print(\"Saving new pickle ...\")\n",
    "embeddingName = '/path/to/your/data/Embedding-Latest-Isotropic.pkl'\n",
    "with open(embeddingName, 'wb') as f:  # Python 3: open(..., 'wb')\n",
    "    pickle.dump([E_prime,mu,U], f)\n",
    "    print(embeddingName)\n",
    "\n",
    "print(\"Done!\")\n",
    "\n",
    "# When working with live data with a new embedding from ada-002, be sure to tranform it first with this function before comparing it\n",
    "#\n",
    "# def projectEmbedding(v,mu,U):\n",
    "#     v = np.array(v)\n",
    "#     v_tilde = v - mu\n",
    "#     v_projection = np.zeros(len(v)) # start to build the projection\n",
    "#     # project the original embedding onto the PCA basis vectors, use only first D dimensions\n",
    "#     for u in U:\n",
    "#         v_jj = np.dot(u,v) # scaler\n",
    "#         v_projection += v_jj*u # vector\n",
    "#     v_prime = v_tilde - v_projection # final embedding vector\n",
    "#     v_prime = v_prime/np.linalg.norm(v_prime) # create unit vector\n",
    "#     return v_prime "
   ]
  }
 ],
 "metadata": {
  "kernelspec": {
   "display_name": "Python 3.10.9 64-bit",
   "language": "python",
   "name": "python3"
  },
  "language_info": {
   "codemirror_mode": {
    "name": "ipython",
    "version": 3
   },
   "file_extension": ".py",
   "mimetype": "text/x-python",
   "name": "python",
   "nbconvert_exporter": "python",
   "pygments_lexer": "ipython3",
   "version": "3.10.10"
  },
  "orig_nbformat": 4,
  "vscode": {
   "interpreter": {
    "hash": "e7370f93d1d0cde622a1f8e1c04877d8463912d04d973331ad4851f04de6915a"
   }
  }
 },
 "nbformat": 4,
 "nbformat_minor": 2
}
