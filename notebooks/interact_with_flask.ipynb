{
 "cells": [
  {
   "cell_type": "markdown",
   "metadata": {},
   "source": [
    "# Interaction with Flask service\n",
    "\n",
    "## Locally\n",
    "\n",
    "Run app first:\n",
    "```\n",
    "FLASK_APP=app flask run\n",
    "```\n",
    "\n",
    "Now send questions to the locally running service:\n",
    "```\n",
    "curl -d '{\"question\": \"What is a Design System?\"}' -H \"Content-Type: application/json\" -X POST http://127.0.0.1:5000\n",
    "```\n",
    "\n",
    "## Fly.io (account needed)\n",
    "\n",
    "Install `flyctl` first. Arch:\n",
    "```\n",
    "trizen -S flyctl-bin\n",
    "```\n",
    "\n",
    "Log in to your account with `flyctl`:\n",
    "```\n",
    "flyctl auth login\n",
    "```\n",
    "\n",
    "Deploy a version:\n",
    "```\n",
    "flyctl deploy\n",
    "```"
   ]
  }
 ],
 "metadata": {
  "kernelspec": {
   "display_name": "Python 3.10.9 64-bit",
   "language": "python",
   "name": "python3"
  },
  "language_info": {
   "codemirror_mode": {
    "name": "ipython",
    "version": 3
   },
   "file_extension": ".py",
   "mimetype": "text/x-python",
   "name": "python",
   "nbconvert_exporter": "python",
   "pygments_lexer": "ipython3",
   "version": "3.10.9"
  },
  "orig_nbformat": 4,
  "vscode": {
   "interpreter": {
    "hash": "e7370f93d1d0cde622a1f8e1c04877d8463912d04d973331ad4851f04de6915a"
   }
  }
 },
 "nbformat": 4,
 "nbformat_minor": 2
}
